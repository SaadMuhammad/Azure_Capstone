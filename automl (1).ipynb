{
 "cells": [
  {
   "cell_type": "markdown",
   "metadata": {},
   "source": [
    "# Automated ML\n",
    "\n",
    "TODO: Import Dependencies. In the cell below, import all the dependencies that you will need to complete the project."
   ]
  },
  {
   "cell_type": "code",
   "execution_count": 1,
   "metadata": {
    "gather": {
     "logged": 1598423888013
    },
    "jupyter": {
     "outputs_hidden": false,
     "source_hidden": false
    },
    "nteract": {
     "transient": {
      "deleting": false
     }
    }
   },
   "outputs": [],
   "source": [
    "#importing all the dependencies \n",
    "from azureml.core import Workspace, Experiment\n",
    "from azureml.core.compute import ComputeTarget, AmlCompute\n",
    "from azureml.widgets import RunDetails\n",
    "import os\n",
    "import joblib\n",
    "\n",
    "from azureml.train.automl import AutoMLConfig\n",
    "from pprint import pprint \n",
    "from azureml.core import Model"
   ]
  },
  {
   "cell_type": "markdown",
   "metadata": {},
   "source": [
    "## Dataset\n",
    "\n",
    "### Overview\n",
    "TODO: In this markdown cell, give an overview of the dataset you are using. Also mention the task you will be performing.\n",
    "\n",
    "\n",
    "TODO: Get data. In the cell below, write code to access the data you will be using in this project. Remember that the dataset needs to be external."
   ]
  },
  {
   "cell_type": "code",
   "execution_count": 2,
   "metadata": {
    "gather": {
     "logged": 1598423890461
    },
    "jupyter": {
     "outputs_hidden": false,
     "source_hidden": false
    },
    "nteract": {
     "transient": {
      "deleting": false
     }
    }
   },
   "outputs": [],
   "source": [
    "ws = Workspace.from_config()\n",
    "\n",
    "# choose a name for experiment\n",
    "experiment_name = 'AzureCapstone'\n",
    "\n",
    "experiment=Experiment(ws, experiment_name)"
   ]
  },
  {
   "cell_type": "code",
   "execution_count": 3,
   "metadata": {},
   "outputs": [],
   "source": [
    "#registering dataset on Azure Storage\n",
    "from azureml.data.dataset_factory import TabularDatasetFactory\n",
    "\n",
    "data_loc = \"https://raw.githubusercontent.com/SaadMuhammad/Azure_Capstone/main/default_credit_clients1.csv\"\n",
    "ds = TabularDatasetFactory.from_delimited_files(data_loc)\n",
    "df = ds.to_pandas_dataframe()"
   ]
  },
  {
   "cell_type": "code",
   "execution_count": 7,
   "metadata": {},
   "outputs": [
    {
     "data": {
      "text/html": [
       "<div>\n",
       "<style scoped>\n",
       "    .dataframe tbody tr th:only-of-type {\n",
       "        vertical-align: middle;\n",
       "    }\n",
       "\n",
       "    .dataframe tbody tr th {\n",
       "        vertical-align: top;\n",
       "    }\n",
       "\n",
       "    .dataframe thead th {\n",
       "        text-align: right;\n",
       "    }\n",
       "</style>\n",
       "<table border=\"1\" class=\"dataframe\">\n",
       "  <thead>\n",
       "    <tr style=\"text-align: right;\">\n",
       "      <th></th>\n",
       "      <th>ID</th>\n",
       "      <th>LIMIT_BAL</th>\n",
       "      <th>SEX</th>\n",
       "      <th>EDUCATION</th>\n",
       "      <th>MARRIAGE</th>\n",
       "      <th>AGE</th>\n",
       "      <th>PAY_0</th>\n",
       "      <th>PAY_2</th>\n",
       "      <th>PAY_3</th>\n",
       "      <th>PAY_4</th>\n",
       "      <th>...</th>\n",
       "      <th>BILL_AMT4</th>\n",
       "      <th>BILL_AMT5</th>\n",
       "      <th>BILL_AMT6</th>\n",
       "      <th>PAY_AMT1</th>\n",
       "      <th>PAY_AMT2</th>\n",
       "      <th>PAY_AMT3</th>\n",
       "      <th>PAY_AMT4</th>\n",
       "      <th>PAY_AMT5</th>\n",
       "      <th>PAY_AMT6</th>\n",
       "      <th>default payment next month</th>\n",
       "    </tr>\n",
       "  </thead>\n",
       "  <tbody>\n",
       "    <tr>\n",
       "      <th>0</th>\n",
       "      <td>1</td>\n",
       "      <td>20000</td>\n",
       "      <td>2</td>\n",
       "      <td>2</td>\n",
       "      <td>1</td>\n",
       "      <td>24</td>\n",
       "      <td>2</td>\n",
       "      <td>2</td>\n",
       "      <td>-1</td>\n",
       "      <td>-1</td>\n",
       "      <td>...</td>\n",
       "      <td>0</td>\n",
       "      <td>0</td>\n",
       "      <td>0</td>\n",
       "      <td>0</td>\n",
       "      <td>689</td>\n",
       "      <td>0</td>\n",
       "      <td>0</td>\n",
       "      <td>0</td>\n",
       "      <td>0</td>\n",
       "      <td>1</td>\n",
       "    </tr>\n",
       "    <tr>\n",
       "      <th>1</th>\n",
       "      <td>2</td>\n",
       "      <td>120000</td>\n",
       "      <td>2</td>\n",
       "      <td>2</td>\n",
       "      <td>2</td>\n",
       "      <td>26</td>\n",
       "      <td>-1</td>\n",
       "      <td>2</td>\n",
       "      <td>0</td>\n",
       "      <td>0</td>\n",
       "      <td>...</td>\n",
       "      <td>3272</td>\n",
       "      <td>3455</td>\n",
       "      <td>3261</td>\n",
       "      <td>0</td>\n",
       "      <td>1000</td>\n",
       "      <td>1000</td>\n",
       "      <td>1000</td>\n",
       "      <td>0</td>\n",
       "      <td>2000</td>\n",
       "      <td>1</td>\n",
       "    </tr>\n",
       "    <tr>\n",
       "      <th>2</th>\n",
       "      <td>3</td>\n",
       "      <td>90000</td>\n",
       "      <td>2</td>\n",
       "      <td>2</td>\n",
       "      <td>2</td>\n",
       "      <td>34</td>\n",
       "      <td>0</td>\n",
       "      <td>0</td>\n",
       "      <td>0</td>\n",
       "      <td>0</td>\n",
       "      <td>...</td>\n",
       "      <td>14331</td>\n",
       "      <td>14948</td>\n",
       "      <td>15549</td>\n",
       "      <td>1518</td>\n",
       "      <td>1500</td>\n",
       "      <td>1000</td>\n",
       "      <td>1000</td>\n",
       "      <td>1000</td>\n",
       "      <td>5000</td>\n",
       "      <td>0</td>\n",
       "    </tr>\n",
       "    <tr>\n",
       "      <th>3</th>\n",
       "      <td>4</td>\n",
       "      <td>50000</td>\n",
       "      <td>2</td>\n",
       "      <td>2</td>\n",
       "      <td>1</td>\n",
       "      <td>37</td>\n",
       "      <td>0</td>\n",
       "      <td>0</td>\n",
       "      <td>0</td>\n",
       "      <td>0</td>\n",
       "      <td>...</td>\n",
       "      <td>28314</td>\n",
       "      <td>28959</td>\n",
       "      <td>29547</td>\n",
       "      <td>2000</td>\n",
       "      <td>2019</td>\n",
       "      <td>1200</td>\n",
       "      <td>1100</td>\n",
       "      <td>1069</td>\n",
       "      <td>1000</td>\n",
       "      <td>0</td>\n",
       "    </tr>\n",
       "    <tr>\n",
       "      <th>4</th>\n",
       "      <td>5</td>\n",
       "      <td>50000</td>\n",
       "      <td>1</td>\n",
       "      <td>2</td>\n",
       "      <td>1</td>\n",
       "      <td>57</td>\n",
       "      <td>-1</td>\n",
       "      <td>0</td>\n",
       "      <td>-1</td>\n",
       "      <td>0</td>\n",
       "      <td>...</td>\n",
       "      <td>20940</td>\n",
       "      <td>19146</td>\n",
       "      <td>19131</td>\n",
       "      <td>2000</td>\n",
       "      <td>36681</td>\n",
       "      <td>10000</td>\n",
       "      <td>9000</td>\n",
       "      <td>689</td>\n",
       "      <td>679</td>\n",
       "      <td>0</td>\n",
       "    </tr>\n",
       "  </tbody>\n",
       "</table>\n",
       "<p>5 rows × 25 columns</p>\n",
       "</div>"
      ],
      "text/plain": [
       "   ID  LIMIT_BAL  SEX  EDUCATION  MARRIAGE  AGE  PAY_0  PAY_2  PAY_3  PAY_4  \\\n",
       "0   1      20000    2          2         1   24      2      2     -1     -1   \n",
       "1   2     120000    2          2         2   26     -1      2      0      0   \n",
       "2   3      90000    2          2         2   34      0      0      0      0   \n",
       "3   4      50000    2          2         1   37      0      0      0      0   \n",
       "4   5      50000    1          2         1   57     -1      0     -1      0   \n",
       "\n",
       "   ...  BILL_AMT4  BILL_AMT5  BILL_AMT6  PAY_AMT1  PAY_AMT2  PAY_AMT3  \\\n",
       "0  ...          0          0          0         0       689         0   \n",
       "1  ...       3272       3455       3261         0      1000      1000   \n",
       "2  ...      14331      14948      15549      1518      1500      1000   \n",
       "3  ...      28314      28959      29547      2000      2019      1200   \n",
       "4  ...      20940      19146      19131      2000     36681     10000   \n",
       "\n",
       "   PAY_AMT4  PAY_AMT5  PAY_AMT6  default payment next month  \n",
       "0         0         0         0                           1  \n",
       "1      1000         0      2000                           1  \n",
       "2      1000      1000      5000                           0  \n",
       "3      1100      1069      1000                           0  \n",
       "4      9000       689       679                           0  \n",
       "\n",
       "[5 rows x 25 columns]"
      ]
     },
     "execution_count": 7,
     "metadata": {},
     "output_type": "execute_result"
    }
   ],
   "source": [
    "df.head()"
   ]
  },
  {
   "cell_type": "code",
   "execution_count": 4,
   "metadata": {},
   "outputs": [
    {
     "name": "stdout",
     "output_type": "stream",
     "text": [
      "SaadCompute exists already\n",
      "\n",
      "Running\n"
     ]
    }
   ],
   "source": [
    "#creating compute cluster \n",
    "compute_name = \"SaadCompute\"\n",
    "try:\n",
    "    amlcluster = ComputeTarget(ws, compute_name)\n",
    "    print(f\"{compute_name} exists already\")\n",
    "except:\n",
    "    compute_config = AmlCompute.provisioning_configuration(vm_size=\"Standard_D2_V2\", max_nodes=4)\n",
    "    amlcluster = ComputeTarget.create(ws, compute_name, compute_config)\n",
    "amlcluster.wait_for_completion(show_output=True)"
   ]
  },
  {
   "cell_type": "markdown",
   "metadata": {},
   "source": [
    "## AutoML Configuration\n",
    "\n",
    "TODO: Explain why you chose the automl settings and cofiguration you used below."
   ]
  },
  {
   "cell_type": "code",
   "execution_count": 27,
   "metadata": {
    "gather": {
     "logged": 1598429217746
    },
    "jupyter": {
     "outputs_hidden": false,
     "source_hidden": false
    },
    "nteract": {
     "transient": {
      "deleting": false
     }
    }
   },
   "outputs": [],
   "source": [
    "# TODO: Put your automl settings here\n",
    "automl_settings = {\n",
    "    \"experiment_timeout_minutes\": 25,\n",
    "    \"max_concurrent_iterations\": 5,\n",
    "    \"primary_metric\" : 'accuracy'\n",
    "}\n",
    "\n",
    "# TODO: Put your automl config here, since i will be deploying a ONNX model, enable_onnx is set to true\n",
    "automl_config = AutoMLConfig(\n",
    "    task='classification',\n",
    "    compute_target=amlcluster,\n",
    "    training_data=ds,\n",
    "    label_column_name='default payment next month',\n",
    "    enable_onnx_compatible_models=True,\n",
    "    n_cross_validations=4,\n",
    "    **automl_settings)"
   ]
  },
  {
   "cell_type": "code",
   "execution_count": 28,
   "metadata": {
    "gather": {
     "logged": 1598431107951
    },
    "jupyter": {
     "outputs_hidden": false,
     "source_hidden": false
    },
    "nteract": {
     "transient": {
      "deleting": false
     }
    }
   },
   "outputs": [
    {
     "name": "stdout",
     "output_type": "stream",
     "text": [
      "Running on remote.\n"
     ]
    }
   ],
   "source": [
    "# TODO: Submit your experiment\n",
    "remote_run = experiment.submit(automl_config)"
   ]
  },
  {
   "cell_type": "markdown",
   "metadata": {},
   "source": [
    "## Run Details\n",
    "\n",
    "OPTIONAL: Write about the different models trained and their performance. Why do you think some models did better than others?\n",
    "\n",
    "TODO: In the cell below, use the `RunDetails` widget to show the different experiments."
   ]
  },
  {
   "cell_type": "code",
   "execution_count": 29,
   "metadata": {
    "gather": {
     "logged": 1598431121770
    },
    "jupyter": {
     "outputs_hidden": false,
     "source_hidden": false
    },
    "nteract": {
     "transient": {
      "deleting": false
     }
    }
   },
   "outputs": [
    {
     "data": {
      "application/vnd.jupyter.widget-view+json": {
       "model_id": "74dd995d8949407bb7be3d3b7925bde4",
       "version_major": 2,
       "version_minor": 0
      },
      "text/plain": [
       "_AutoMLWidget(widget_settings={'childWidgetDisplay': 'popup', 'send_telemetry': False, 'log_level': 'INFO', 's…"
      ]
     },
     "metadata": {},
     "output_type": "display_data"
    },
    {
     "data": {
      "application/aml.mini.widget.v1": "{\"status\": \"Completed\", \"workbench_run_details_uri\": \"https://ml.azure.com/experiments/AzureCapstone/runs/AutoML_e11d8e10-66de-47f1-ab0d-a1bb5f94d310?wsid=/subscriptions/9e65f93e-bdd8-437b-b1e8-0647cd6098f7/resourcegroups/aml-quickstarts-136503/workspaces/quick-starts-ws-136503\", \"run_id\": \"AutoML_e11d8e10-66de-47f1-ab0d-a1bb5f94d310\", \"run_properties\": {\"run_id\": \"AutoML_e11d8e10-66de-47f1-ab0d-a1bb5f94d310\", \"created_utc\": \"2021-01-29T15:15:24.498939Z\", \"properties\": {\"num_iterations\": \"1000\", \"training_type\": \"TrainFull\", \"acquisition_function\": \"EI\", \"primary_metric\": \"accuracy\", \"train_split\": \"0\", \"acquisition_parameter\": \"0\", \"num_cross_validation\": \"4\", \"target\": \"Saadcompute\", \"AMLSettingsJsonString\": \"{\\\"path\\\":null,\\\"name\\\":\\\"AzureCapstone\\\",\\\"subscription_id\\\":\\\"9e65f93e-bdd8-437b-b1e8-0647cd6098f7\\\",\\\"resource_group\\\":\\\"aml-quickstarts-136503\\\",\\\"workspace_name\\\":\\\"quick-starts-ws-136503\\\",\\\"region\\\":\\\"southcentralus\\\",\\\"compute_target\\\":\\\"Saadcompute\\\",\\\"spark_service\\\":null,\\\"azure_service\\\":\\\"remote\\\",\\\"many_models\\\":false,\\\"pipeline_fetch_max_batch_size\\\":1,\\\"iterations\\\":1000,\\\"primary_metric\\\":\\\"accuracy\\\",\\\"task_type\\\":\\\"classification\\\",\\\"data_script\\\":null,\\\"validation_size\\\":0.0,\\\"n_cross_validations\\\":4,\\\"y_min\\\":null,\\\"y_max\\\":null,\\\"num_classes\\\":null,\\\"featurization\\\":\\\"auto\\\",\\\"_ignore_package_version_incompatibilities\\\":false,\\\"is_timeseries\\\":false,\\\"max_cores_per_iteration\\\":1,\\\"max_concurrent_iterations\\\":5,\\\"iteration_timeout_minutes\\\":null,\\\"mem_in_mb\\\":null,\\\"enforce_time_on_windows\\\":false,\\\"experiment_timeout_minutes\\\":25,\\\"experiment_exit_score\\\":null,\\\"whitelist_models\\\":null,\\\"blacklist_algos\\\":[\\\"TensorFlowLinearClassifier\\\",\\\"TensorFlowDNN\\\"],\\\"supported_models\\\":[\\\"GradientBoosting\\\",\\\"MultinomialNaiveBayes\\\",\\\"LightGBM\\\",\\\"BernoulliNaiveBayes\\\",\\\"ExtremeRandomTrees\\\",\\\"XGBoostClassifier\\\",\\\"AveragedPerceptronClassifier\\\",\\\"KNN\\\",\\\"LogisticRegression\\\",\\\"LinearSVM\\\",\\\"TensorFlowDNN\\\",\\\"DecisionTree\\\",\\\"TensorFlowLinearClassifier\\\",\\\"SVM\\\",\\\"SGD\\\",\\\"RandomForest\\\"],\\\"auto_blacklist\\\":true,\\\"blacklist_samples_reached\\\":false,\\\"exclude_nan_labels\\\":true,\\\"verbosity\\\":20,\\\"_debug_log\\\":\\\"azureml_automl.log\\\",\\\"show_warnings\\\":false,\\\"model_explainability\\\":true,\\\"service_url\\\":null,\\\"sdk_url\\\":null,\\\"sdk_packages\\\":null,\\\"enable_onnx_compatible_models\\\":true,\\\"enable_split_onnx_featurizer_estimator_models\\\":false,\\\"vm_type\\\":\\\"STANDARD_DS2_V2\\\",\\\"telemetry_verbosity\\\":20,\\\"send_telemetry\\\":true,\\\"enable_dnn\\\":false,\\\"scenario\\\":\\\"SDK-1.13.0\\\",\\\"environment_label\\\":null,\\\"force_text_dnn\\\":false,\\\"enable_feature_sweeping\\\":false,\\\"enable_early_stopping\\\":false,\\\"early_stopping_n_iters\\\":10,\\\"metrics\\\":null,\\\"enable_ensembling\\\":true,\\\"enable_stack_ensembling\\\":false,\\\"ensemble_iterations\\\":15,\\\"enable_tf\\\":false,\\\"enable_subsampling\\\":null,\\\"subsample_seed\\\":null,\\\"enable_nimbusml\\\":false,\\\"enable_streaming\\\":false,\\\"force_streaming\\\":false,\\\"track_child_runs\\\":true,\\\"allowed_private_models\\\":[],\\\"label_column_name\\\":\\\"default payment next month\\\",\\\"weight_column_name\\\":null,\\\"cv_split_column_names\\\":null,\\\"enable_local_managed\\\":false,\\\"_local_managed_run_id\\\":null,\\\"cost_mode\\\":1,\\\"lag_length\\\":0,\\\"metric_operation\\\":\\\"maximize\\\",\\\"preprocess\\\":true}\", \"DataPrepJsonString\": \"{\\\\\\\"training_data\\\\\\\": \\\\\\\"{\\\\\\\\\\\\\\\"blocks\\\\\\\\\\\\\\\": [{\\\\\\\\\\\\\\\"id\\\\\\\\\\\\\\\": \\\\\\\\\\\\\\\"6d1413de-892d-4640-a163-8eecbea7392d\\\\\\\\\\\\\\\", \\\\\\\\\\\\\\\"type\\\\\\\\\\\\\\\": \\\\\\\\\\\\\\\"Microsoft.DPrep.GetFilesBlock\\\\\\\\\\\\\\\", \\\\\\\\\\\\\\\"arguments\\\\\\\\\\\\\\\": {\\\\\\\\\\\\\\\"isArchive\\\\\\\\\\\\\\\": false, \\\\\\\\\\\\\\\"path\\\\\\\\\\\\\\\": {\\\\\\\\\\\\\\\"target\\\\\\\\\\\\\\\": 4, \\\\\\\\\\\\\\\"resourceDetails\\\\\\\\\\\\\\\": [{\\\\\\\\\\\\\\\"path\\\\\\\\\\\\\\\": \\\\\\\\\\\\\\\"https://raw.githubusercontent.com/SaadMuhammad/Azure_Capstone/main/default_credit_clients1.csv\\\\\\\\\\\\\\\"}]}}, \\\\\\\\\\\\\\\"localData\\\\\\\\\\\\\\\": {}, \\\\\\\\\\\\\\\"isEnabled\\\\\\\\\\\\\\\": true, \\\\\\\\\\\\\\\"name\\\\\\\\\\\\\\\": null, \\\\\\\\\\\\\\\"annotation\\\\\\\\\\\\\\\": null}, {\\\\\\\\\\\\\\\"id\\\\\\\\\\\\\\\": \\\\\\\\\\\\\\\"005e6996-000b-4ad8-8ba9-45747f7bcc54\\\\\\\\\\\\\\\", \\\\\\\\\\\\\\\"type\\\\\\\\\\\\\\\": \\\\\\\\\\\\\\\"Microsoft.DPrep.ParseDelimitedBlock\\\\\\\\\\\\\\\", \\\\\\\\\\\\\\\"arguments\\\\\\\\\\\\\\\": {\\\\\\\\\\\\\\\"columnHeadersMode\\\\\\\\\\\\\\\": 3, \\\\\\\\\\\\\\\"fileEncoding\\\\\\\\\\\\\\\": 0, \\\\\\\\\\\\\\\"handleQuotedLineBreaks\\\\\\\\\\\\\\\": false, \\\\\\\\\\\\\\\"preview\\\\\\\\\\\\\\\": false, \\\\\\\\\\\\\\\"separator\\\\\\\\\\\\\\\": \\\\\\\\\\\\\\\",\\\\\\\\\\\\\\\", \\\\\\\\\\\\\\\"skipRows\\\\\\\\\\\\\\\": 0, \\\\\\\\\\\\\\\"skipRowsMode\\\\\\\\\\\\\\\": 0}, \\\\\\\\\\\\\\\"localData\\\\\\\\\\\\\\\": {}, \\\\\\\\\\\\\\\"isEnabled\\\\\\\\\\\\\\\": true, \\\\\\\\\\\\\\\"name\\\\\\\\\\\\\\\": null, \\\\\\\\\\\\\\\"annotation\\\\\\\\\\\\\\\": null}, {\\\\\\\\\\\\\\\"id\\\\\\\\\\\\\\\": \\\\\\\\\\\\\\\"a2ae7e60-eee5-46e1-8c9f-f3cbd430dd1b\\\\\\\\\\\\\\\", \\\\\\\\\\\\\\\"type\\\\\\\\\\\\\\\": \\\\\\\\\\\\\\\"Microsoft.DPrep.DropColumnsBlock\\\\\\\\\\\\\\\", \\\\\\\\\\\\\\\"arguments\\\\\\\\\\\\\\\": {\\\\\\\\\\\\\\\"columns\\\\\\\\\\\\\\\": {\\\\\\\\\\\\\\\"type\\\\\\\\\\\\\\\": 0, \\\\\\\\\\\\\\\"details\\\\\\\\\\\\\\\": {\\\\\\\\\\\\\\\"selectedColumns\\\\\\\\\\\\\\\": [\\\\\\\\\\\\\\\"Path\\\\\\\\\\\\\\\"]}}}, \\\\\\\\\\\\\\\"localData\\\\\\\\\\\\\\\": {}, \\\\\\\\\\\\\\\"isEnabled\\\\\\\\\\\\\\\": true, \\\\\\\\\\\\\\\"name\\\\\\\\\\\\\\\": null, \\\\\\\\\\\\\\\"annotation\\\\\\\\\\\\\\\": null}, {\\\\\\\\\\\\\\\"id\\\\\\\\\\\\\\\": \\\\\\\\\\\\\\\"de09d7b5-8889-457e-8a2d-ccdedc2996cb\\\\\\\\\\\\\\\", \\\\\\\\\\\\\\\"type\\\\\\\\\\\\\\\": \\\\\\\\\\\\\\\"Microsoft.DPrep.SetColumnTypesBlock\\\\\\\\\\\\\\\", \\\\\\\\\\\\\\\"arguments\\\\\\\\\\\\\\\": {\\\\\\\\\\\\\\\"columnConversion\\\\\\\\\\\\\\\": [{\\\\\\\\\\\\\\\"column\\\\\\\\\\\\\\\": {\\\\\\\\\\\\\\\"type\\\\\\\\\\\\\\\": 2, \\\\\\\\\\\\\\\"details\\\\\\\\\\\\\\\": {\\\\\\\\\\\\\\\"selectedColumn\\\\\\\\\\\\\\\": \\\\\\\\\\\\\\\"ID\\\\\\\\\\\\\\\"}}, \\\\\\\\\\\\\\\"typeProperty\\\\\\\\\\\\\\\": 2}, {\\\\\\\\\\\\\\\"column\\\\\\\\\\\\\\\": {\\\\\\\\\\\\\\\"type\\\\\\\\\\\\\\\": 2, \\\\\\\\\\\\\\\"details\\\\\\\\\\\\\\\": {\\\\\\\\\\\\\\\"selectedColumn\\\\\\\\\\\\\\\": \\\\\\\\\\\\\\\"LIMIT_BAL\\\\\\\\\\\\\\\"}}, \\\\\\\\\\\\\\\"typeProperty\\\\\\\\\\\\\\\": 2}, {\\\\\\\\\\\\\\\"column\\\\\\\\\\\\\\\": {\\\\\\\\\\\\\\\"type\\\\\\\\\\\\\\\": 2, \\\\\\\\\\\\\\\"details\\\\\\\\\\\\\\\": {\\\\\\\\\\\\\\\"selectedColumn\\\\\\\\\\\\\\\": \\\\\\\\\\\\\\\"SEX\\\\\\\\\\\\\\\"}}, \\\\\\\\\\\\\\\"typeProperty\\\\\\\\\\\\\\\": 2}, {\\\\\\\\\\\\\\\"column\\\\\\\\\\\\\\\": {\\\\\\\\\\\\\\\"type\\\\\\\\\\\\\\\": 2, \\\\\\\\\\\\\\\"details\\\\\\\\\\\\\\\": {\\\\\\\\\\\\\\\"selectedColumn\\\\\\\\\\\\\\\": \\\\\\\\\\\\\\\"EDUCATION\\\\\\\\\\\\\\\"}}, \\\\\\\\\\\\\\\"typeProperty\\\\\\\\\\\\\\\": 2}, {\\\\\\\\\\\\\\\"column\\\\\\\\\\\\\\\": {\\\\\\\\\\\\\\\"type\\\\\\\\\\\\\\\": 2, \\\\\\\\\\\\\\\"details\\\\\\\\\\\\\\\": {\\\\\\\\\\\\\\\"selectedColumn\\\\\\\\\\\\\\\": \\\\\\\\\\\\\\\"MARRIAGE\\\\\\\\\\\\\\\"}}, \\\\\\\\\\\\\\\"typeProperty\\\\\\\\\\\\\\\": 2}, {\\\\\\\\\\\\\\\"column\\\\\\\\\\\\\\\": {\\\\\\\\\\\\\\\"type\\\\\\\\\\\\\\\": 2, \\\\\\\\\\\\\\\"details\\\\\\\\\\\\\\\": {\\\\\\\\\\\\\\\"selectedColumn\\\\\\\\\\\\\\\": \\\\\\\\\\\\\\\"AGE\\\\\\\\\\\\\\\"}}, \\\\\\\\\\\\\\\"typeProperty\\\\\\\\\\\\\\\": 2}, {\\\\\\\\\\\\\\\"column\\\\\\\\\\\\\\\": {\\\\\\\\\\\\\\\"type\\\\\\\\\\\\\\\": 2, \\\\\\\\\\\\\\\"details\\\\\\\\\\\\\\\": {\\\\\\\\\\\\\\\"selectedColumn\\\\\\\\\\\\\\\": \\\\\\\\\\\\\\\"PAY_0\\\\\\\\\\\\\\\"}}, \\\\\\\\\\\\\\\"typeProperty\\\\\\\\\\\\\\\": 2}, {\\\\\\\\\\\\\\\"column\\\\\\\\\\\\\\\": {\\\\\\\\\\\\\\\"type\\\\\\\\\\\\\\\": 2, \\\\\\\\\\\\\\\"details\\\\\\\\\\\\\\\": {\\\\\\\\\\\\\\\"selectedColumn\\\\\\\\\\\\\\\": \\\\\\\\\\\\\\\"PAY_2\\\\\\\\\\\\\\\"}}, \\\\\\\\\\\\\\\"typeProperty\\\\\\\\\\\\\\\": 2}, {\\\\\\\\\\\\\\\"column\\\\\\\\\\\\\\\": {\\\\\\\\\\\\\\\"type\\\\\\\\\\\\\\\": 2, \\\\\\\\\\\\\\\"details\\\\\\\\\\\\\\\": {\\\\\\\\\\\\\\\"selectedColumn\\\\\\\\\\\\\\\": \\\\\\\\\\\\\\\"PAY_3\\\\\\\\\\\\\\\"}}, \\\\\\\\\\\\\\\"typeProperty\\\\\\\\\\\\\\\": 2}, {\\\\\\\\\\\\\\\"column\\\\\\\\\\\\\\\": {\\\\\\\\\\\\\\\"type\\\\\\\\\\\\\\\": 2, \\\\\\\\\\\\\\\"details\\\\\\\\\\\\\\\": {\\\\\\\\\\\\\\\"selectedColumn\\\\\\\\\\\\\\\": \\\\\\\\\\\\\\\"PAY_4\\\\\\\\\\\\\\\"}}, \\\\\\\\\\\\\\\"typeProperty\\\\\\\\\\\\\\\": 2}, {\\\\\\\\\\\\\\\"column\\\\\\\\\\\\\\\": {\\\\\\\\\\\\\\\"type\\\\\\\\\\\\\\\": 2, \\\\\\\\\\\\\\\"details\\\\\\\\\\\\\\\": {\\\\\\\\\\\\\\\"selectedColumn\\\\\\\\\\\\\\\": \\\\\\\\\\\\\\\"PAY_5\\\\\\\\\\\\\\\"}}, \\\\\\\\\\\\\\\"typeProperty\\\\\\\\\\\\\\\": 2}, {\\\\\\\\\\\\\\\"column\\\\\\\\\\\\\\\": {\\\\\\\\\\\\\\\"type\\\\\\\\\\\\\\\": 2, \\\\\\\\\\\\\\\"details\\\\\\\\\\\\\\\": {\\\\\\\\\\\\\\\"selectedColumn\\\\\\\\\\\\\\\": \\\\\\\\\\\\\\\"PAY_6\\\\\\\\\\\\\\\"}}, \\\\\\\\\\\\\\\"typeProperty\\\\\\\\\\\\\\\": 2}, {\\\\\\\\\\\\\\\"column\\\\\\\\\\\\\\\": {\\\\\\\\\\\\\\\"type\\\\\\\\\\\\\\\": 2, \\\\\\\\\\\\\\\"details\\\\\\\\\\\\\\\": {\\\\\\\\\\\\\\\"selectedColumn\\\\\\\\\\\\\\\": \\\\\\\\\\\\\\\"BILL_AMT1\\\\\\\\\\\\\\\"}}, \\\\\\\\\\\\\\\"typeProperty\\\\\\\\\\\\\\\": 2}, {\\\\\\\\\\\\\\\"column\\\\\\\\\\\\\\\": {\\\\\\\\\\\\\\\"type\\\\\\\\\\\\\\\": 2, \\\\\\\\\\\\\\\"details\\\\\\\\\\\\\\\": {\\\\\\\\\\\\\\\"selectedColumn\\\\\\\\\\\\\\\": \\\\\\\\\\\\\\\"BILL_AMT2\\\\\\\\\\\\\\\"}}, \\\\\\\\\\\\\\\"typeProperty\\\\\\\\\\\\\\\": 2}, {\\\\\\\\\\\\\\\"column\\\\\\\\\\\\\\\": {\\\\\\\\\\\\\\\"type\\\\\\\\\\\\\\\": 2, \\\\\\\\\\\\\\\"details\\\\\\\\\\\\\\\": {\\\\\\\\\\\\\\\"selectedColumn\\\\\\\\\\\\\\\": \\\\\\\\\\\\\\\"BILL_AMT3\\\\\\\\\\\\\\\"}}, \\\\\\\\\\\\\\\"typeProperty\\\\\\\\\\\\\\\": 2}, {\\\\\\\\\\\\\\\"column\\\\\\\\\\\\\\\": {\\\\\\\\\\\\\\\"type\\\\\\\\\\\\\\\": 2, \\\\\\\\\\\\\\\"details\\\\\\\\\\\\\\\": {\\\\\\\\\\\\\\\"selectedColumn\\\\\\\\\\\\\\\": \\\\\\\\\\\\\\\"BILL_AMT4\\\\\\\\\\\\\\\"}}, \\\\\\\\\\\\\\\"typeProperty\\\\\\\\\\\\\\\": 2}, {\\\\\\\\\\\\\\\"column\\\\\\\\\\\\\\\": {\\\\\\\\\\\\\\\"type\\\\\\\\\\\\\\\": 2, \\\\\\\\\\\\\\\"details\\\\\\\\\\\\\\\": {\\\\\\\\\\\\\\\"selectedColumn\\\\\\\\\\\\\\\": \\\\\\\\\\\\\\\"BILL_AMT5\\\\\\\\\\\\\\\"}}, \\\\\\\\\\\\\\\"typeProperty\\\\\\\\\\\\\\\": 2}, {\\\\\\\\\\\\\\\"column\\\\\\\\\\\\\\\": {\\\\\\\\\\\\\\\"type\\\\\\\\\\\\\\\": 2, \\\\\\\\\\\\\\\"details\\\\\\\\\\\\\\\": {\\\\\\\\\\\\\\\"selectedColumn\\\\\\\\\\\\\\\": \\\\\\\\\\\\\\\"BILL_AMT6\\\\\\\\\\\\\\\"}}, \\\\\\\\\\\\\\\"typeProperty\\\\\\\\\\\\\\\": 2}, {\\\\\\\\\\\\\\\"column\\\\\\\\\\\\\\\": {\\\\\\\\\\\\\\\"type\\\\\\\\\\\\\\\": 2, \\\\\\\\\\\\\\\"details\\\\\\\\\\\\\\\": {\\\\\\\\\\\\\\\"selectedColumn\\\\\\\\\\\\\\\": \\\\\\\\\\\\\\\"PAY_AMT1\\\\\\\\\\\\\\\"}}, \\\\\\\\\\\\\\\"typeProperty\\\\\\\\\\\\\\\": 2}, {\\\\\\\\\\\\\\\"column\\\\\\\\\\\\\\\": {\\\\\\\\\\\\\\\"type\\\\\\\\\\\\\\\": 2, \\\\\\\\\\\\\\\"details\\\\\\\\\\\\\\\": {\\\\\\\\\\\\\\\"selectedColumn\\\\\\\\\\\\\\\": \\\\\\\\\\\\\\\"PAY_AMT2\\\\\\\\\\\\\\\"}}, \\\\\\\\\\\\\\\"typeProperty\\\\\\\\\\\\\\\": 2}, {\\\\\\\\\\\\\\\"column\\\\\\\\\\\\\\\": {\\\\\\\\\\\\\\\"type\\\\\\\\\\\\\\\": 2, \\\\\\\\\\\\\\\"details\\\\\\\\\\\\\\\": {\\\\\\\\\\\\\\\"selectedColumn\\\\\\\\\\\\\\\": \\\\\\\\\\\\\\\"PAY_AMT3\\\\\\\\\\\\\\\"}}, \\\\\\\\\\\\\\\"typeProperty\\\\\\\\\\\\\\\": 2}, {\\\\\\\\\\\\\\\"column\\\\\\\\\\\\\\\": {\\\\\\\\\\\\\\\"type\\\\\\\\\\\\\\\": 2, \\\\\\\\\\\\\\\"details\\\\\\\\\\\\\\\": {\\\\\\\\\\\\\\\"selectedColumn\\\\\\\\\\\\\\\": \\\\\\\\\\\\\\\"PAY_AMT4\\\\\\\\\\\\\\\"}}, \\\\\\\\\\\\\\\"typeProperty\\\\\\\\\\\\\\\": 2}, {\\\\\\\\\\\\\\\"column\\\\\\\\\\\\\\\": {\\\\\\\\\\\\\\\"type\\\\\\\\\\\\\\\": 2, \\\\\\\\\\\\\\\"details\\\\\\\\\\\\\\\": {\\\\\\\\\\\\\\\"selectedColumn\\\\\\\\\\\\\\\": \\\\\\\\\\\\\\\"PAY_AMT5\\\\\\\\\\\\\\\"}}, \\\\\\\\\\\\\\\"typeProperty\\\\\\\\\\\\\\\": 2}, {\\\\\\\\\\\\\\\"column\\\\\\\\\\\\\\\": {\\\\\\\\\\\\\\\"type\\\\\\\\\\\\\\\": 2, \\\\\\\\\\\\\\\"details\\\\\\\\\\\\\\\": {\\\\\\\\\\\\\\\"selectedColumn\\\\\\\\\\\\\\\": \\\\\\\\\\\\\\\"PAY_AMT6\\\\\\\\\\\\\\\"}}, \\\\\\\\\\\\\\\"typeProperty\\\\\\\\\\\\\\\": 2}, {\\\\\\\\\\\\\\\"column\\\\\\\\\\\\\\\": {\\\\\\\\\\\\\\\"type\\\\\\\\\\\\\\\": 2, \\\\\\\\\\\\\\\"details\\\\\\\\\\\\\\\": {\\\\\\\\\\\\\\\"selectedColumn\\\\\\\\\\\\\\\": \\\\\\\\\\\\\\\"default payment next month\\\\\\\\\\\\\\\"}}, \\\\\\\\\\\\\\\"typeProperty\\\\\\\\\\\\\\\": 2}]}, \\\\\\\\\\\\\\\"localData\\\\\\\\\\\\\\\": {}, \\\\\\\\\\\\\\\"isEnabled\\\\\\\\\\\\\\\": true, \\\\\\\\\\\\\\\"name\\\\\\\\\\\\\\\": null, \\\\\\\\\\\\\\\"annotation\\\\\\\\\\\\\\\": null}], \\\\\\\\\\\\\\\"inspectors\\\\\\\\\\\\\\\": [], \\\\\\\\\\\\\\\"meta\\\\\\\\\\\\\\\": {\\\\\\\\\\\\\\\"savedDatasetId\\\\\\\\\\\\\\\": \\\\\\\\\\\\\\\"97d3a93a-a790-4bd4-b784-442575d1a073\\\\\\\\\\\\\\\", \\\\\\\\\\\\\\\"datasetType\\\\\\\\\\\\\\\": \\\\\\\\\\\\\\\"tabular\\\\\\\\\\\\\\\", \\\\\\\\\\\\\\\"subscriptionId\\\\\\\\\\\\\\\": \\\\\\\\\\\\\\\"9e65f93e-bdd8-437b-b1e8-0647cd6098f7\\\\\\\\\\\\\\\", \\\\\\\\\\\\\\\"workspaceId\\\\\\\\\\\\\\\": \\\\\\\\\\\\\\\"e8b7f72b-83ca-4ffc-ad43-c75e9ac228ef\\\\\\\\\\\\\\\", \\\\\\\\\\\\\\\"workspaceLocation\\\\\\\\\\\\\\\": \\\\\\\\\\\\\\\"southcentralus\\\\\\\\\\\\\\\"}}\\\\\\\", \\\\\\\"activities\\\\\\\": 0}\", \"EnableSubsampling\": null, \"runTemplate\": \"AutoML\", \"azureml.runsource\": \"automl\", \"display_task_type\": \"classification\", \"dependencies_versions\": \"{\\\"azureml-widgets\\\": \\\"1.20.0\\\", \\\"azureml-train\\\": \\\"1.20.0\\\", \\\"azureml-train-restclients-hyperdrive\\\": \\\"1.20.0\\\", \\\"azureml-train-core\\\": \\\"1.20.0\\\", \\\"azureml-train-automl\\\": \\\"1.20.0\\\", \\\"azureml-train-automl-runtime\\\": \\\"1.20.0\\\", \\\"azureml-train-automl-client\\\": \\\"1.20.0\\\", \\\"azureml-tensorboard\\\": \\\"1.20.0\\\", \\\"azureml-telemetry\\\": \\\"1.20.0\\\", \\\"azureml-sdk\\\": \\\"1.20.0\\\", \\\"azureml-samples\\\": \\\"0+unknown\\\", \\\"azureml-pipeline\\\": \\\"1.20.0\\\", \\\"azureml-pipeline-steps\\\": \\\"1.20.0\\\", \\\"azureml-pipeline-core\\\": \\\"1.20.0\\\", \\\"azureml-opendatasets\\\": \\\"1.20.0\\\", \\\"azureml-model-management-sdk\\\": \\\"1.0.1b6.post1\\\", \\\"azureml-mlflow\\\": \\\"1.20.0.post1\\\", \\\"azureml-interpret\\\": \\\"1.20.0\\\", \\\"azureml-explain-model\\\": \\\"1.20.0\\\", \\\"azureml-defaults\\\": \\\"1.20.0\\\", \\\"azureml-dataset-runtime\\\": \\\"1.20.0\\\", \\\"azureml-dataprep\\\": \\\"2.7.3\\\", \\\"azureml-dataprep-rslex\\\": \\\"1.5.0\\\", \\\"azureml-dataprep-native\\\": \\\"27.0.0\\\", \\\"azureml-datadrift\\\": \\\"1.20.0\\\", \\\"azureml-core\\\": \\\"1.20.0\\\", \\\"azureml-contrib-services\\\": \\\"1.20.0\\\", \\\"azureml-contrib-server\\\": \\\"1.20.0\\\", \\\"azureml-contrib-reinforcementlearning\\\": \\\"1.20.0\\\", \\\"azureml-contrib-pipeline-steps\\\": \\\"1.20.0\\\", \\\"azureml-contrib-notebook\\\": \\\"1.20.0\\\", \\\"azureml-contrib-interpret\\\": \\\"1.20.0\\\", \\\"azureml-contrib-gbdt\\\": \\\"1.20.0\\\", \\\"azureml-contrib-fairness\\\": \\\"1.20.0\\\", \\\"azureml-contrib-dataset\\\": \\\"1.20.0\\\", \\\"azureml-cli-common\\\": \\\"1.20.0\\\", \\\"azureml-automl-runtime\\\": \\\"1.20.0\\\", \\\"azureml-automl-core\\\": \\\"1.20.0\\\", \\\"azureml-accel-models\\\": \\\"1.20.0\\\"}\", \"_aml_system_scenario_identification\": \"Remote.Parent\", \"ClientType\": \"SDK\", \"environment_cpu_name\": \"AzureML-AutoML\", \"environment_cpu_label\": \"prod\", \"environment_gpu_name\": \"AzureML-AutoML-GPU\", \"environment_gpu_label\": \"prod\", \"root_attribution\": \"automl\", \"attribution\": \"AutoML\", \"Orchestrator\": \"AutoML\", \"CancelUri\": \"https://southcentralus.experiments.azureml.net/jasmine/v1.0/subscriptions/9e65f93e-bdd8-437b-b1e8-0647cd6098f7/resourceGroups/aml-quickstarts-136503/providers/Microsoft.MachineLearningServices/workspaces/quick-starts-ws-136503/experimentids/f2e12fb7-c00c-49d1-9b24-af71cd195202/cancel/AutoML_e11d8e10-66de-47f1-ab0d-a1bb5f94d310\", \"ClientSdkVersion\": \"1.20.0.post1\", \"snapshotId\": \"00000000-0000-0000-0000-000000000000\", \"SetupRunId\": \"AutoML_e11d8e10-66de-47f1-ab0d-a1bb5f94d310_setup\", \"SetupRunContainerId\": \"dcid.AutoML_e11d8e10-66de-47f1-ab0d-a1bb5f94d310_setup\", \"FeaturizationRunJsonPath\": \"featurizer_container.json\", \"FeaturizationRunId\": \"AutoML_e11d8e10-66de-47f1-ab0d-a1bb5f94d310_featurize\", \"ProblemInfoJsonString\": \"{\\\"dataset_num_categorical\\\": 0, \\\"is_sparse\\\": true, \\\"subsampling\\\": false, \\\"dataset_classes\\\": 2, \\\"dataset_features\\\": 91, \\\"dataset_samples\\\": 30000, \\\"single_frequency_class_detected\\\": false}\", \"ModelExplainRunId\": \"AutoML_e11d8e10-66de-47f1-ab0d-a1bb5f94d310_ModelExplain\"}, \"tags\": {\"model_explain_run\": \"best_run\", \"_aml_system_azureml.automlComponent\": \"AutoML\", \"pipeline_id\": \"\", \"score\": \"\", \"predicted_cost\": \"\", \"fit_time\": \"\", \"training_percent\": \"\", \"iteration\": \"\", \"run_preprocessor\": \"\", \"run_algorithm\": \"\", \"dynamic_whitelisting_iterations\": \"<25>;<30>;<35>;<40>;<45>;<50>;<55>;\", \"automl_best_child_run_id\": \"AutoML_e11d8e10-66de-47f1-ab0d-a1bb5f94d310_58\", \"model_explain_best_run_child_id\": \"AutoML_e11d8e10-66de-47f1-ab0d-a1bb5f94d310_58\"}, \"end_time_utc\": \"2021-01-29T15:50:10.677994Z\", \"status\": \"Completed\", \"log_files\": {}, \"log_groups\": [], \"run_duration\": \"0:34:46\"}, \"child_runs\": [{\"run_id\": \"AutoML_e11d8e10-66de-47f1-ab0d-a1bb5f94d310_0\", \"run_number\": 62, \"metric\": null, \"status\": \"Completed\", \"run_type\": \"azureml.scriptrun\", \"training_percent\": \"100\", \"start_time\": \"2021-01-29T15:22:08.617697Z\", \"end_time\": \"2021-01-29T15:23:17.64779Z\", \"created_time\": \"2021-01-29T15:21:53.225445Z\", \"created_time_dt\": \"2021-01-29T15:21:53.225445Z\", \"duration\": \"0:01:24\", \"iteration\": \"0\", \"goal\": \"accuracy_max\", \"run_name\": \"MaxAbsScaler, LightGBM\", \"run_properties\": \"copy=True\", \"primary_metric\": 0.8211, \"best_metric\": 0.8211}, {\"run_id\": \"AutoML_e11d8e10-66de-47f1-ab0d-a1bb5f94d310_2\", \"run_number\": 63, \"metric\": null, \"status\": \"Completed\", \"run_type\": \"azureml.scriptrun\", \"training_percent\": \"100\", \"start_time\": \"2021-01-29T15:23:24.035208Z\", \"end_time\": \"2021-01-29T15:24:34.805081Z\", \"created_time\": \"2021-01-29T15:21:53.334794Z\", \"created_time_dt\": \"2021-01-29T15:21:53.334794Z\", \"duration\": \"0:02:41\", \"iteration\": \"2\", \"goal\": \"accuracy_max\", \"run_name\": \"MaxAbsScaler, RandomForest\", \"run_properties\": \"copy=True\", \"primary_metric\": 0.80166667, \"best_metric\": 0.8211}, {\"run_id\": \"AutoML_e11d8e10-66de-47f1-ab0d-a1bb5f94d310_3\", \"run_number\": 64, \"metric\": null, \"status\": \"Completed\", \"run_type\": \"azureml.scriptrun\", \"training_percent\": \"100\", \"start_time\": \"2021-01-29T15:22:07.113586Z\", \"end_time\": \"2021-01-29T15:23:20.493282Z\", \"created_time\": \"2021-01-29T15:21:53.340944Z\", \"created_time_dt\": \"2021-01-29T15:21:53.340944Z\", \"duration\": \"0:01:27\", \"iteration\": \"3\", \"goal\": \"accuracy_max\", \"run_name\": \"MaxAbsScaler, RandomForest\", \"run_properties\": \"copy=True\", \"primary_metric\": 0.7901, \"best_metric\": 0.8211}, {\"run_id\": \"AutoML_e11d8e10-66de-47f1-ab0d-a1bb5f94d310_4\", \"run_number\": 65, \"metric\": null, \"status\": \"Completed\", \"run_type\": \"azureml.scriptrun\", \"training_percent\": \"100\", \"start_time\": \"2021-01-29T15:22:07.74044Z\", \"end_time\": \"2021-01-29T15:23:27.407971Z\", \"created_time\": \"2021-01-29T15:21:53.418841Z\", \"created_time_dt\": \"2021-01-29T15:21:53.418841Z\", \"duration\": \"0:01:33\", \"iteration\": \"4\", \"goal\": \"accuracy_max\", \"run_name\": \"MaxAbsScaler, RandomForest\", \"run_properties\": \"copy=True\", \"primary_metric\": 0.7553, \"best_metric\": 0.8211}, {\"run_id\": \"AutoML_e11d8e10-66de-47f1-ab0d-a1bb5f94d310_1\", \"run_number\": 66, \"metric\": null, \"status\": \"Completed\", \"run_type\": \"azureml.scriptrun\", \"training_percent\": \"100\", \"start_time\": \"2021-01-29T15:22:07.834031Z\", \"end_time\": \"2021-01-29T15:23:52.96674Z\", \"created_time\": \"2021-01-29T15:21:53.335577Z\", \"created_time_dt\": \"2021-01-29T15:21:53.335577Z\", \"duration\": \"0:01:59\", \"iteration\": \"1\", \"goal\": \"accuracy_max\", \"run_name\": \"MaxAbsScaler, XGBoostClassifier\", \"run_properties\": \"copy=True\", \"primary_metric\": 0.8201, \"best_metric\": 0.8211}, {\"run_id\": \"AutoML_e11d8e10-66de-47f1-ab0d-a1bb5f94d310_5\", \"run_number\": 67, \"metric\": null, \"status\": \"Completed\", \"run_type\": \"azureml.scriptrun\", \"training_percent\": \"100\", \"start_time\": \"2021-01-29T15:23:30.097167Z\", \"end_time\": \"2021-01-29T15:24:29.456557Z\", \"created_time\": \"2021-01-29T15:23:19.702639Z\", \"created_time_dt\": \"2021-01-29T15:23:19.702639Z\", \"duration\": \"0:01:09\", \"iteration\": \"5\", \"goal\": \"accuracy_max\", \"run_name\": \"MaxAbsScaler, RandomForest\", \"run_properties\": \"copy=True\", \"primary_metric\": 0.75296667, \"best_metric\": 0.8211}, {\"run_id\": \"AutoML_e11d8e10-66de-47f1-ab0d-a1bb5f94d310_6\", \"run_number\": 68, \"metric\": null, \"status\": \"Completed\", \"run_type\": \"azureml.scriptrun\", \"training_percent\": \"100\", \"start_time\": \"2021-01-29T15:23:36.1173Z\", \"end_time\": \"2021-01-29T15:24:52.173235Z\", \"created_time\": \"2021-01-29T15:23:24.304725Z\", \"created_time_dt\": \"2021-01-29T15:23:24.304725Z\", \"duration\": \"0:01:27\", \"iteration\": \"6\", \"goal\": \"accuracy_max\", \"run_name\": \"TruncatedSVDWrapper, XGBoostClassifier\", \"run_properties\": \"n_components=0.7026315789473684, random_state=None\", \"primary_metric\": 0.8155, \"best_metric\": 0.8211}, {\"run_id\": \"AutoML_e11d8e10-66de-47f1-ab0d-a1bb5f94d310_7\", \"run_number\": 69, \"metric\": null, \"status\": \"Completed\", \"run_type\": \"azureml.scriptrun\", \"training_percent\": \"100\", \"start_time\": \"2021-01-29T15:23:58.746164Z\", \"end_time\": \"2021-01-29T15:25:40.040799Z\", \"created_time\": \"2021-01-29T15:23:30.272083Z\", \"created_time_dt\": \"2021-01-29T15:23:30.272083Z\", \"duration\": \"0:02:09\", \"iteration\": \"7\", \"goal\": \"accuracy_max\", \"run_name\": \"SparseNormalizer, XGBoostClassifier\", \"run_properties\": \"<azureml.automl.runtime.shared.model_wrappers.SparseNormalizer object at 0x7ff1b3f68080\", \"primary_metric\": 0.81936667, \"best_metric\": 0.8211}, {\"run_id\": \"AutoML_e11d8e10-66de-47f1-ab0d-a1bb5f94d310_8\", \"run_number\": 70, \"metric\": null, \"status\": \"Completed\", \"run_type\": \"azureml.scriptrun\", \"training_percent\": \"100\", \"start_time\": \"2021-01-29T15:24:31.994154Z\", \"end_time\": \"2021-01-29T15:26:16.409552Z\", \"created_time\": \"2021-01-29T15:23:55.635342Z\", \"created_time_dt\": \"2021-01-29T15:23:55.635342Z\", \"duration\": \"0:02:20\", \"iteration\": \"8\", \"goal\": \"accuracy_max\", \"run_name\": \"SparseNormalizer, XGBoostClassifier\", \"run_properties\": \"<azureml.automl.runtime.shared.model_wrappers.SparseNormalizer object at 0x7f8151605e80\", \"primary_metric\": 0.8188, \"best_metric\": 0.8211}, {\"run_id\": \"AutoML_e11d8e10-66de-47f1-ab0d-a1bb5f94d310_9\", \"run_number\": 71, \"metric\": null, \"status\": \"Completed\", \"run_type\": \"azureml.scriptrun\", \"training_percent\": \"100\", \"start_time\": \"2021-01-29T15:24:44.441924Z\", \"end_time\": \"2021-01-29T15:26:42.889661Z\", \"created_time\": \"2021-01-29T15:24:32.060127Z\", \"created_time_dt\": \"2021-01-29T15:24:32.060127Z\", \"duration\": \"0:02:10\", \"iteration\": \"9\", \"goal\": \"accuracy_max\", \"run_name\": \"SparseNormalizer, XGBoostClassifier\", \"run_properties\": \"<azureml.automl.runtime.shared.model_wrappers.SparseNormalizer object at 0x7fa1ddd30518\", \"primary_metric\": 0.82003333, \"best_metric\": 0.8211}, {\"run_id\": \"AutoML_e11d8e10-66de-47f1-ab0d-a1bb5f94d310_10\", \"run_number\": 72, \"metric\": null, \"status\": \"Completed\", \"run_type\": \"azureml.scriptrun\", \"training_percent\": \"100\", \"start_time\": \"2021-01-29T15:24:53.831508Z\", \"end_time\": \"2021-01-29T15:26:20.778008Z\", \"created_time\": \"2021-01-29T15:24:36.880226Z\", \"created_time_dt\": \"2021-01-29T15:24:36.880226Z\", \"duration\": \"0:01:43\", \"iteration\": \"10\", \"goal\": \"accuracy_max\", \"run_name\": \"SparseNormalizer, XGBoostClassifier\", \"run_properties\": \"<azureml.automl.runtime.shared.model_wrappers.SparseNormalizer object at 0x7fa4c78e8fd0\", \"primary_metric\": 0.81913333, \"best_metric\": 0.8211}, {\"run_id\": \"AutoML_e11d8e10-66de-47f1-ab0d-a1bb5f94d310_11\", \"run_number\": 73, \"metric\": null, \"status\": \"Completed\", \"run_type\": \"azureml.scriptrun\", \"training_percent\": \"100\", \"start_time\": \"2021-01-29T15:25:47.155207Z\", \"end_time\": \"2021-01-29T15:28:06.355092Z\", \"created_time\": \"2021-01-29T15:24:54.731379Z\", \"created_time_dt\": \"2021-01-29T15:24:54.731379Z\", \"duration\": \"0:03:11\", \"iteration\": \"11\", \"goal\": \"accuracy_max\", \"run_name\": \"SparseNormalizer, XGBoostClassifier\", \"run_properties\": \"<azureml.automl.runtime.shared.model_wrappers.SparseNormalizer object at 0x7f89dda96898\", \"primary_metric\": 0.81956667, \"best_metric\": 0.8211}, {\"run_id\": \"AutoML_e11d8e10-66de-47f1-ab0d-a1bb5f94d310_12\", \"run_number\": 74, \"metric\": null, \"status\": \"Completed\", \"run_type\": \"azureml.scriptrun\", \"training_percent\": \"100\", \"start_time\": \"2021-01-29T15:26:22.463533Z\", \"end_time\": \"2021-01-29T15:27:49.188291Z\", \"created_time\": \"2021-01-29T15:25:42.387096Z\", \"created_time_dt\": \"2021-01-29T15:25:42.387096Z\", \"duration\": \"0:02:06\", \"iteration\": \"12\", \"goal\": \"accuracy_max\", \"run_name\": \"StandardScalerWrapper, RandomForest\", \"run_properties\": \"<azureml.automl.runtime.shared.model_wrappers.StandardScalerWrapper object at 0x7fedb6911f28\", \"primary_metric\": 0.8139, \"best_metric\": 0.8211}, {\"run_id\": \"AutoML_e11d8e10-66de-47f1-ab0d-a1bb5f94d310_13\", \"run_number\": 75, \"metric\": null, \"status\": \"Completed\", \"run_type\": \"azureml.scriptrun\", \"training_percent\": \"100\", \"start_time\": \"2021-01-29T15:26:32.249832Z\", \"end_time\": \"2021-01-29T15:27:39.221017Z\", \"created_time\": \"2021-01-29T15:26:18.675247Z\", \"created_time_dt\": \"2021-01-29T15:26:18.675247Z\", \"duration\": \"0:01:20\", \"iteration\": \"13\", \"goal\": \"accuracy_max\", \"run_name\": \"SparseNormalizer, XGBoostClassifier\", \"run_properties\": \"<azureml.automl.runtime.shared.model_wrappers.SparseNormalizer object at 0x7f8395a66a90\", \"primary_metric\": 0.80726667, \"best_metric\": 0.8211}, {\"run_id\": \"AutoML_e11d8e10-66de-47f1-ab0d-a1bb5f94d310_14\", \"run_number\": 76, \"metric\": null, \"status\": \"Completed\", \"run_type\": \"azureml.scriptrun\", \"training_percent\": \"100\", \"start_time\": \"2021-01-29T15:26:44.261702Z\", \"end_time\": \"2021-01-29T15:28:00.73754Z\", \"created_time\": \"2021-01-29T15:26:24.02483Z\", \"created_time_dt\": \"2021-01-29T15:26:24.02483Z\", \"duration\": \"0:01:36\", \"iteration\": \"14\", \"goal\": \"accuracy_max\", \"run_name\": \"MaxAbsScaler, LogisticRegression\", \"run_properties\": \"copy=True\", \"primary_metric\": 0.82036667, \"best_metric\": 0.8211}, {\"run_id\": \"AutoML_e11d8e10-66de-47f1-ab0d-a1bb5f94d310_15\", \"run_number\": 77, \"metric\": null, \"status\": \"Completed\", \"run_type\": \"azureml.scriptrun\", \"training_percent\": \"100\", \"start_time\": \"2021-01-29T15:27:43.523021Z\", \"end_time\": \"2021-01-29T15:30:59.164533Z\", \"created_time\": \"2021-01-29T15:26:45.61442Z\", \"created_time_dt\": \"2021-01-29T15:26:45.61442Z\", \"duration\": \"0:04:13\", \"iteration\": \"15\", \"goal\": \"accuracy_max\", \"run_name\": \"MaxAbsScaler, ExtremeRandomTrees\", \"run_properties\": \"copy=True\", \"primary_metric\": 0.81126667, \"best_metric\": 0.8211}, {\"run_id\": \"AutoML_e11d8e10-66de-47f1-ab0d-a1bb5f94d310_16\", \"run_number\": 78, \"metric\": null, \"status\": \"Completed\", \"run_type\": \"azureml.scriptrun\", \"training_percent\": \"100\", \"start_time\": \"2021-01-29T15:27:53.357282Z\", \"end_time\": \"2021-01-29T15:29:16.022698Z\", \"created_time\": \"2021-01-29T15:27:41.327424Z\", \"created_time_dt\": \"2021-01-29T15:27:41.327424Z\", \"duration\": \"0:01:34\", \"iteration\": \"16\", \"goal\": \"accuracy_max\", \"run_name\": \"MaxAbsScaler, LightGBM\", \"run_properties\": \"copy=True\", \"primary_metric\": 0.80666667, \"best_metric\": 0.8211}, {\"run_id\": \"AutoML_e11d8e10-66de-47f1-ab0d-a1bb5f94d310_17\", \"run_number\": 79, \"metric\": null, \"status\": \"Completed\", \"run_type\": \"azureml.scriptrun\", \"training_percent\": \"100\", \"start_time\": \"2021-01-29T15:28:07.261331Z\", \"end_time\": \"2021-01-29T15:31:25.575187Z\", \"created_time\": \"2021-01-29T15:27:51.728508Z\", \"created_time_dt\": \"2021-01-29T15:27:51.728508Z\", \"duration\": \"0:03:33\", \"iteration\": \"17\", \"goal\": \"accuracy_max\", \"run_name\": \"MaxAbsScaler, ExtremeRandomTrees\", \"run_properties\": \"copy=True\", \"primary_metric\": 0.81333333, \"best_metric\": 0.8211}, {\"run_id\": \"AutoML_e11d8e10-66de-47f1-ab0d-a1bb5f94d310_18\", \"run_number\": 80, \"metric\": null, \"status\": \"Completed\", \"run_type\": \"azureml.scriptrun\", \"training_percent\": \"100\", \"start_time\": \"2021-01-29T15:28:15.341071Z\", \"end_time\": \"2021-01-29T15:29:32.230087Z\", \"created_time\": \"2021-01-29T15:28:02.906873Z\", \"created_time_dt\": \"2021-01-29T15:28:02.906873Z\", \"duration\": \"0:01:29\", \"iteration\": \"18\", \"goal\": \"accuracy_max\", \"run_name\": \"SparseNormalizer, LightGBM\", \"run_properties\": \"<azureml.automl.runtime.shared.model_wrappers.SparseNormalizer object at 0x7f5b1bd53fd0\", \"primary_metric\": 0.81163333, \"best_metric\": 0.8211}, {\"run_id\": \"AutoML_e11d8e10-66de-47f1-ab0d-a1bb5f94d310_19\", \"run_number\": 81, \"metric\": null, \"status\": \"Completed\", \"run_type\": \"azureml.scriptrun\", \"training_percent\": \"100\", \"start_time\": \"2021-01-29T15:29:20.709049Z\", \"end_time\": \"2021-01-29T15:30:46.840432Z\", \"created_time\": \"2021-01-29T15:28:08.9994Z\", \"created_time_dt\": \"2021-01-29T15:28:08.9994Z\", \"duration\": \"0:02:37\", \"iteration\": \"19\", \"goal\": \"accuracy_max\", \"run_name\": \"StandardScalerWrapper, LightGBM\", \"run_properties\": \"<azureml.automl.runtime.shared.model_wrappers.StandardScalerWrapper object at 0x7f301ef92240\", \"primary_metric\": 0.7788, \"best_metric\": 0.8211}, {\"run_id\": \"AutoML_e11d8e10-66de-47f1-ab0d-a1bb5f94d310_20\", \"run_number\": 82, \"metric\": null, \"status\": \"Completed\", \"run_type\": \"azureml.scriptrun\", \"training_percent\": \"100\", \"start_time\": \"2021-01-29T15:29:37.038825Z\", \"end_time\": \"2021-01-29T15:30:56.962026Z\", \"created_time\": \"2021-01-29T15:29:18.169889Z\", \"created_time_dt\": \"2021-01-29T15:29:18.169889Z\", \"duration\": \"0:01:38\", \"iteration\": \"20\", \"goal\": \"accuracy_max\", \"run_name\": \"MaxAbsScaler, RandomForest\", \"run_properties\": \"copy=True\", \"primary_metric\": 0.7903, \"best_metric\": 0.8211}, {\"run_id\": \"AutoML_e11d8e10-66de-47f1-ab0d-a1bb5f94d310_21\", \"run_number\": 83, \"metric\": null, \"status\": \"Completed\", \"run_type\": \"azureml.scriptrun\", \"training_percent\": \"100\", \"start_time\": \"2021-01-29T15:30:48.936829Z\", \"end_time\": \"2021-01-29T15:32:02.925659Z\", \"created_time\": \"2021-01-29T15:29:33.838371Z\", \"created_time_dt\": \"2021-01-29T15:29:33.838371Z\", \"duration\": \"0:02:29\", \"iteration\": \"21\", \"goal\": \"accuracy_max\", \"run_name\": \"MaxAbsScaler, LightGBM\", \"run_properties\": \"copy=True\", \"primary_metric\": 0.80466667, \"best_metric\": 0.8211}, {\"run_id\": \"AutoML_e11d8e10-66de-47f1-ab0d-a1bb5f94d310_22\", \"run_number\": 84, \"metric\": null, \"status\": \"Completed\", \"run_type\": \"azureml.scriptrun\", \"training_percent\": \"100\", \"start_time\": \"2021-01-29T15:31:03.617195Z\", \"end_time\": \"2021-01-29T15:32:12.100164Z\", \"created_time\": \"2021-01-29T15:30:48.66863Z\", \"created_time_dt\": \"2021-01-29T15:30:48.66863Z\", \"duration\": \"0:01:23\", \"iteration\": \"22\", \"goal\": \"accuracy_max\", \"run_name\": \"MaxAbsScaler, LogisticRegression\", \"run_properties\": \"copy=True\", \"primary_metric\": 0.82003333, \"best_metric\": 0.8211}, {\"run_id\": \"AutoML_e11d8e10-66de-47f1-ab0d-a1bb5f94d310_23\", \"run_number\": 85, \"metric\": null, \"status\": \"Completed\", \"run_type\": \"azureml.scriptrun\", \"training_percent\": \"100\", \"start_time\": \"2021-01-29T15:31:10.059081Z\", \"end_time\": \"2021-01-29T15:32:18.968538Z\", \"created_time\": \"2021-01-29T15:30:58.725801Z\", \"created_time_dt\": \"2021-01-29T15:30:58.725801Z\", \"duration\": \"0:01:20\", \"iteration\": \"23\", \"goal\": \"accuracy_max\", \"run_name\": \"MaxAbsScaler, LogisticRegression\", \"run_properties\": \"copy=True\", \"primary_metric\": 0.7747, \"best_metric\": 0.8211}, {\"run_id\": \"AutoML_e11d8e10-66de-47f1-ab0d-a1bb5f94d310_24\", \"run_number\": 86, \"metric\": null, \"status\": \"Completed\", \"run_type\": \"azureml.scriptrun\", \"training_percent\": \"100\", \"start_time\": \"2021-01-29T15:31:27.891144Z\", \"end_time\": \"2021-01-29T15:33:08.588721Z\", \"created_time\": \"2021-01-29T15:31:02.38339Z\", \"created_time_dt\": \"2021-01-29T15:31:02.38339Z\", \"duration\": \"0:02:06\", \"iteration\": \"24\", \"goal\": \"accuracy_max\", \"run_name\": \"MaxAbsScaler, ExtremeRandomTrees\", \"run_properties\": \"copy=True\", \"primary_metric\": 0.81426667, \"best_metric\": 0.8211}, {\"run_id\": \"AutoML_e11d8e10-66de-47f1-ab0d-a1bb5f94d310_25\", \"run_number\": 87, \"metric\": null, \"status\": \"Completed\", \"run_type\": \"azureml.scriptrun\", \"training_percent\": \"100\", \"start_time\": \"2021-01-29T15:32:07.367237Z\", \"end_time\": \"2021-01-29T15:33:12.126955Z\", \"created_time\": \"2021-01-29T15:31:28.507738Z\", \"created_time_dt\": \"2021-01-29T15:31:28.507738Z\", \"duration\": \"0:01:43\", \"iteration\": \"25\", \"goal\": \"accuracy_max\", \"run_name\": \"MaxAbsScaler, LightGBM\", \"run_properties\": \"copy=True\", \"primary_metric\": 0.7916, \"best_metric\": 0.8211}, {\"run_id\": \"AutoML_e11d8e10-66de-47f1-ab0d-a1bb5f94d310_26\", \"run_number\": 88, \"metric\": null, \"status\": \"Completed\", \"run_type\": \"azureml.scriptrun\", \"training_percent\": \"100\", \"start_time\": \"2021-01-29T15:32:20.213054Z\", \"end_time\": \"2021-01-29T15:34:00.179271Z\", \"created_time\": \"2021-01-29T15:32:05.019697Z\", \"created_time_dt\": \"2021-01-29T15:32:05.019697Z\", \"duration\": \"0:01:55\", \"iteration\": \"26\", \"goal\": \"accuracy_max\", \"run_name\": \"StandardScalerWrapper, ExtremeRandomTrees\", \"run_properties\": \"<azureml.automl.runtime.shared.model_wrappers.StandardScalerWrapper object at 0x7f1cb09a0e80\", \"primary_metric\": 0.81283333, \"best_metric\": 0.8211}, {\"run_id\": \"AutoML_e11d8e10-66de-47f1-ab0d-a1bb5f94d310_27\", \"run_number\": 89, \"metric\": null, \"status\": \"Completed\", \"run_type\": \"azureml.scriptrun\", \"training_percent\": \"100\", \"start_time\": \"2021-01-29T15:32:26.782334Z\", \"end_time\": \"2021-01-29T15:33:50.996036Z\", \"created_time\": \"2021-01-29T15:32:13.830375Z\", \"created_time_dt\": \"2021-01-29T15:32:13.830375Z\", \"duration\": \"0:01:37\", \"iteration\": \"27\", \"goal\": \"accuracy_max\", \"run_name\": \"SparseNormalizer, LightGBM\", \"run_properties\": \"<azureml.automl.runtime.shared.model_wrappers.SparseNormalizer object at 0x7f6430dba588\", \"primary_metric\": 0.8145, \"best_metric\": 0.8211}, {\"run_id\": \"AutoML_e11d8e10-66de-47f1-ab0d-a1bb5f94d310_28\", \"run_number\": 90, \"metric\": null, \"status\": \"Completed\", \"run_type\": \"azureml.scriptrun\", \"training_percent\": \"100\", \"start_time\": \"2021-01-29T15:33:13.134649Z\", \"end_time\": \"2021-01-29T15:34:24.344647Z\", \"created_time\": \"2021-01-29T15:32:20.540368Z\", \"created_time_dt\": \"2021-01-29T15:32:20.540368Z\", \"duration\": \"0:02:03\", \"iteration\": \"28\", \"goal\": \"accuracy_max\", \"run_name\": \"SparseNormalizer, XGBoostClassifier\", \"run_properties\": \"<azureml.automl.runtime.shared.model_wrappers.SparseNormalizer object at 0x7f55a914aac8\", \"primary_metric\": 0.82043333, \"best_metric\": 0.8211}, {\"run_id\": \"AutoML_e11d8e10-66de-47f1-ab0d-a1bb5f94d310_29\", \"run_number\": 91, \"metric\": null, \"status\": \"Completed\", \"run_type\": \"azureml.scriptrun\", \"training_percent\": \"100\", \"start_time\": \"2021-01-29T15:33:22.076106Z\", \"end_time\": \"2021-01-29T15:34:25.077211Z\", \"created_time\": \"2021-01-29T15:33:10.372969Z\", \"created_time_dt\": \"2021-01-29T15:33:10.372969Z\", \"duration\": \"0:01:14\", \"iteration\": \"29\", \"goal\": \"accuracy_max\", \"run_name\": \"MaxAbsScaler, LightGBM\", \"run_properties\": \"copy=True\", \"primary_metric\": 0.80666667, \"best_metric\": 0.8211}, {\"run_id\": \"AutoML_e11d8e10-66de-47f1-ab0d-a1bb5f94d310_30\", \"run_number\": 92, \"metric\": null, \"status\": \"Completed\", \"run_type\": \"azureml.scriptrun\", \"training_percent\": \"100\", \"start_time\": \"2021-01-29T15:33:53.093879Z\", \"end_time\": \"2021-01-29T15:35:22.185063Z\", \"created_time\": \"2021-01-29T15:33:14.806041Z\", \"created_time_dt\": \"2021-01-29T15:33:14.806041Z\", \"duration\": \"0:02:07\", \"iteration\": \"30\", \"goal\": \"accuracy_max\", \"run_name\": \"StandardScalerWrapper, LightGBM\", \"run_properties\": \"<azureml.automl.runtime.shared.model_wrappers.StandardScalerWrapper object at 0x7f1840945630\", \"primary_metric\": 0.7788, \"best_metric\": 0.8211}, {\"run_id\": \"AutoML_e11d8e10-66de-47f1-ab0d-a1bb5f94d310_31\", \"run_number\": 93, \"metric\": null, \"status\": \"Completed\", \"run_type\": \"azureml.scriptrun\", \"training_percent\": \"100\", \"start_time\": \"2021-01-29T15:34:04.593327Z\", \"end_time\": \"2021-01-29T15:35:23.60517Z\", \"created_time\": \"2021-01-29T15:33:52.695781Z\", \"created_time_dt\": \"2021-01-29T15:33:52.695781Z\", \"duration\": \"0:01:30\", \"iteration\": \"31\", \"goal\": \"accuracy_max\", \"run_name\": \"SparseNormalizer, GradientBoosting\", \"run_properties\": \"<azureml.automl.runtime.shared.model_wrappers.SparseNormalizer object at 0x7f26152bc940\", \"primary_metric\": 0.80563333, \"best_metric\": 0.8211}, {\"run_id\": \"AutoML_e11d8e10-66de-47f1-ab0d-a1bb5f94d310_32\", \"run_number\": 94, \"metric\": null, \"status\": \"Completed\", \"run_type\": \"azureml.scriptrun\", \"training_percent\": \"100\", \"start_time\": \"2021-01-29T15:34:31.663439Z\", \"end_time\": \"2021-01-29T15:36:04.764446Z\", \"created_time\": \"2021-01-29T15:34:01.932635Z\", \"created_time_dt\": \"2021-01-29T15:34:01.932635Z\", \"duration\": \"0:02:02\", \"iteration\": \"32\", \"goal\": \"accuracy_max\", \"run_name\": \"SparseNormalizer, RandomForest\", \"run_properties\": \"<azureml.automl.runtime.shared.model_wrappers.SparseNormalizer object at 0x7f3f3d00af98\", \"primary_metric\": 0.79296667, \"best_metric\": 0.8211}, {\"run_id\": \"AutoML_e11d8e10-66de-47f1-ab0d-a1bb5f94d310_33\", \"run_number\": 95, \"metric\": null, \"status\": \"Completed\", \"run_type\": \"azureml.scriptrun\", \"training_percent\": \"100\", \"start_time\": \"2021-01-29T15:34:39.793169Z\", \"end_time\": \"2021-01-29T15:36:07.501625Z\", \"created_time\": \"2021-01-29T15:34:26.487943Z\", \"created_time_dt\": \"2021-01-29T15:34:26.487943Z\", \"duration\": \"0:01:41\", \"iteration\": \"33\", \"goal\": \"accuracy_max\", \"run_name\": \"SparseNormalizer, XGBoostClassifier\", \"run_properties\": \"<azureml.automl.runtime.shared.model_wrappers.SparseNormalizer object at 0x7fe9d5cce208\", \"primary_metric\": 0.8196, \"best_metric\": 0.8211}, {\"run_id\": \"AutoML_e11d8e10-66de-47f1-ab0d-a1bb5f94d310_34\", \"run_number\": 96, \"metric\": null, \"status\": \"Completed\", \"run_type\": \"azureml.scriptrun\", \"training_percent\": \"100\", \"start_time\": \"2021-01-29T15:35:27.931438Z\", \"end_time\": \"2021-01-29T15:36:57.574468Z\", \"created_time\": \"2021-01-29T15:34:30.277371Z\", \"created_time_dt\": \"2021-01-29T15:34:30.277371Z\", \"duration\": \"0:02:27\", \"iteration\": \"34\", \"goal\": \"accuracy_max\", \"run_name\": \"SparseNormalizer, XGBoostClassifier\", \"run_properties\": \"<azureml.automl.runtime.shared.model_wrappers.SparseNormalizer object at 0x7ff48e4bcf60\", \"primary_metric\": 0.8203, \"best_metric\": 0.8211}, {\"run_id\": \"AutoML_e11d8e10-66de-47f1-ab0d-a1bb5f94d310_35\", \"run_number\": 97, \"metric\": null, \"status\": \"Completed\", \"run_type\": \"azureml.scriptrun\", \"training_percent\": \"100\", \"start_time\": \"2021-01-29T15:35:37.636132Z\", \"end_time\": \"2021-01-29T15:36:55.864449Z\", \"created_time\": \"2021-01-29T15:35:25.101811Z\", \"created_time_dt\": \"2021-01-29T15:35:25.101811Z\", \"duration\": \"0:01:30\", \"iteration\": \"35\", \"goal\": \"accuracy_max\", \"run_name\": \"SparseNormalizer, LightGBM\", \"run_properties\": \"<azureml.automl.runtime.shared.model_wrappers.SparseNormalizer object at 0x7efcb4a59160\", \"primary_metric\": 0.7788, \"best_metric\": 0.8211}, {\"run_id\": \"AutoML_e11d8e10-66de-47f1-ab0d-a1bb5f94d310_36\", \"run_number\": 98, \"metric\": null, \"status\": \"Completed\", \"run_type\": \"azureml.scriptrun\", \"training_percent\": \"100\", \"start_time\": \"2021-01-29T15:36:10.371048Z\", \"end_time\": \"2021-01-29T15:37:22.656464Z\", \"created_time\": \"2021-01-29T15:35:28.057372Z\", \"created_time_dt\": \"2021-01-29T15:35:28.057372Z\", \"duration\": \"0:01:54\", \"iteration\": \"36\", \"goal\": \"accuracy_max\", \"run_name\": \"SparseNormalizer, LightGBM\", \"run_properties\": \"<azureml.automl.runtime.shared.model_wrappers.SparseNormalizer object at 0x7f925ec74e10\", \"primary_metric\": 0.8174, \"best_metric\": 0.8211}, {\"run_id\": \"AutoML_e11d8e10-66de-47f1-ab0d-a1bb5f94d310_37\", \"run_number\": 99, \"metric\": null, \"status\": \"Completed\", \"run_type\": \"azureml.scriptrun\", \"training_percent\": \"100\", \"start_time\": \"2021-01-29T15:36:18.001362Z\", \"end_time\": \"2021-01-29T15:37:20.839156Z\", \"created_time\": \"2021-01-29T15:36:06.462069Z\", \"created_time_dt\": \"2021-01-29T15:36:06.462069Z\", \"duration\": \"0:01:14\", \"iteration\": \"37\", \"goal\": \"accuracy_max\", \"run_name\": \"MaxAbsScaler, LightGBM\", \"run_properties\": \"copy=True\", \"primary_metric\": 0.8179, \"best_metric\": 0.8211}, {\"run_id\": \"AutoML_e11d8e10-66de-47f1-ab0d-a1bb5f94d310_38\", \"run_number\": 100, \"metric\": null, \"status\": \"Completed\", \"run_type\": \"azureml.scriptrun\", \"training_percent\": \"100\", \"start_time\": \"2021-01-29T15:36:59.891296Z\", \"end_time\": \"2021-01-29T15:38:21.941789Z\", \"created_time\": \"2021-01-29T15:36:09.845403Z\", \"created_time_dt\": \"2021-01-29T15:36:09.845403Z\", \"duration\": \"0:02:12\", \"iteration\": \"38\", \"goal\": \"accuracy_max\", \"run_name\": \"SparseNormalizer, XGBoostClassifier\", \"run_properties\": \"<azureml.automl.runtime.shared.model_wrappers.SparseNormalizer object at 0x7f4c8efe8048\", \"primary_metric\": 0.82056667, \"best_metric\": 0.8211}, {\"run_id\": \"AutoML_e11d8e10-66de-47f1-ab0d-a1bb5f94d310_39\", \"run_number\": 101, \"metric\": null, \"status\": \"Completed\", \"run_type\": \"azureml.scriptrun\", \"training_percent\": \"100\", \"start_time\": \"2021-01-29T15:37:09.266515Z\", \"end_time\": \"2021-01-29T15:38:44.206818Z\", \"created_time\": \"2021-01-29T15:36:58.025561Z\", \"created_time_dt\": \"2021-01-29T15:36:58.025561Z\", \"duration\": \"0:01:46\", \"iteration\": \"39\", \"goal\": \"accuracy_max\", \"run_name\": \"SparseNormalizer, XGBoostClassifier\", \"run_properties\": \"<azureml.automl.runtime.shared.model_wrappers.SparseNormalizer object at 0x7f897cb78550\", \"primary_metric\": 0.81926667, \"best_metric\": 0.8211}, {\"run_id\": \"AutoML_e11d8e10-66de-47f1-ab0d-a1bb5f94d310_40\", \"run_number\": 102, \"metric\": null, \"status\": \"Completed\", \"run_type\": \"azureml.scriptrun\", \"training_percent\": \"100\", \"start_time\": \"2021-01-29T15:37:23.958668Z\", \"end_time\": \"2021-01-29T15:38:28.374986Z\", \"created_time\": \"2021-01-29T15:37:02.694734Z\", \"created_time_dt\": \"2021-01-29T15:37:02.694734Z\", \"duration\": \"0:01:25\", \"iteration\": \"40\", \"goal\": \"accuracy_max\", \"run_name\": \"SparseNormalizer, LightGBM\", \"run_properties\": \"<azureml.automl.runtime.shared.model_wrappers.SparseNormalizer object at 0x7f9927fbde10\", \"primary_metric\": 0.7788, \"best_metric\": 0.8211}, {\"run_id\": \"AutoML_e11d8e10-66de-47f1-ab0d-a1bb5f94d310_42\", \"run_number\": 103, \"metric\": null, \"status\": \"Completed\", \"run_type\": \"azureml.scriptrun\", \"training_percent\": \"100\", \"start_time\": \"2021-01-29T15:37:35.414009Z\", \"end_time\": \"2021-01-29T15:38:57.686194Z\", \"created_time\": \"2021-01-29T15:37:24.878851Z\", \"created_time_dt\": \"2021-01-29T15:37:24.878851Z\", \"duration\": \"0:01:32\", \"iteration\": \"42\", \"goal\": \"accuracy_max\", \"run_name\": \"StandardScalerWrapper, LightGBM\", \"run_properties\": \"<azureml.automl.runtime.shared.model_wrappers.StandardScalerWrapper object at 0x7f95dbfda978\", \"primary_metric\": 0.79106667, \"best_metric\": 0.8211}, {\"run_id\": \"AutoML_e11d8e10-66de-47f1-ab0d-a1bb5f94d310_41\", \"run_number\": 104, \"metric\": null, \"status\": \"Completed\", \"run_type\": \"azureml.scriptrun\", \"training_percent\": \"100\", \"start_time\": \"2021-01-29T15:38:24.656129Z\", \"end_time\": \"2021-01-29T15:40:01.913392Z\", \"created_time\": \"2021-01-29T15:37:24.995829Z\", \"created_time_dt\": \"2021-01-29T15:37:24.995829Z\", \"duration\": \"0:02:36\", \"iteration\": \"41\", \"goal\": \"accuracy_max\", \"run_name\": \"MaxAbsScaler, GradientBoosting\", \"run_properties\": \"copy=True\", \"primary_metric\": 0.80743333, \"best_metric\": 0.8211}, {\"run_id\": \"AutoML_e11d8e10-66de-47f1-ab0d-a1bb5f94d310_43\", \"run_number\": 105, \"metric\": null, \"status\": \"Completed\", \"run_type\": \"azureml.scriptrun\", \"training_percent\": \"100\", \"start_time\": \"2021-01-29T15:38:38.851055Z\", \"end_time\": \"2021-01-29T15:39:55.025264Z\", \"created_time\": \"2021-01-29T15:38:25.667391Z\", \"created_time_dt\": \"2021-01-29T15:38:25.667391Z\", \"duration\": \"0:01:29\", \"iteration\": \"43\", \"goal\": \"accuracy_max\", \"run_name\": \"SparseNormalizer, XGBoostClassifier\", \"run_properties\": \"<azureml.automl.runtime.shared.model_wrappers.SparseNormalizer object at 0x7fb764152940\", \"primary_metric\": 0.82053333, \"best_metric\": 0.8211}, {\"run_id\": \"AutoML_e11d8e10-66de-47f1-ab0d-a1bb5f94d310_44\", \"run_number\": 106, \"metric\": null, \"status\": \"Completed\", \"run_type\": \"azureml.scriptrun\", \"training_percent\": \"100\", \"start_time\": \"2021-01-29T15:38:46.864992Z\", \"end_time\": \"2021-01-29T15:40:11.757201Z\", \"created_time\": \"2021-01-29T15:38:32.218701Z\", \"created_time_dt\": \"2021-01-29T15:38:32.218701Z\", \"duration\": \"0:01:39\", \"iteration\": \"44\", \"goal\": \"accuracy_max\", \"run_name\": \"TruncatedSVDWrapper, XGBoostClassifier\", \"run_properties\": \"n_components=0.6036842105263158, random_state=None\", \"primary_metric\": 0.8181, \"best_metric\": 0.8211}, {\"run_id\": \"AutoML_e11d8e10-66de-47f1-ab0d-a1bb5f94d310_45\", \"run_number\": 107, \"metric\": null, \"status\": \"Completed\", \"run_type\": \"azureml.scriptrun\", \"training_percent\": \"100\", \"start_time\": \"2021-01-29T15:39:03.31726Z\", \"end_time\": \"2021-01-29T15:40:12.95581Z\", \"created_time\": \"2021-01-29T15:38:48.238982Z\", \"created_time_dt\": \"2021-01-29T15:38:48.238982Z\", \"duration\": \"0:01:24\", \"iteration\": \"45\", \"goal\": \"accuracy_max\", \"run_name\": \"SparseNormalizer, LightGBM\", \"run_properties\": \"<azureml.automl.runtime.shared.model_wrappers.SparseNormalizer object at 0x7fa9c1984320\", \"primary_metric\": 0.81876667, \"best_metric\": 0.8211}, {\"run_id\": \"AutoML_e11d8e10-66de-47f1-ab0d-a1bb5f94d310_46\", \"run_number\": 108, \"metric\": null, \"status\": \"Completed\", \"run_type\": \"azureml.scriptrun\", \"training_percent\": \"100\", \"start_time\": \"2021-01-29T15:39:59.591975Z\", \"end_time\": \"2021-01-29T15:41:07.635852Z\", \"created_time\": \"2021-01-29T15:39:00.721583Z\", \"created_time_dt\": \"2021-01-29T15:39:00.721583Z\", \"duration\": \"0:02:06\", \"iteration\": \"46\", \"goal\": \"accuracy_max\", \"run_name\": \"TruncatedSVDWrapper, XGBoostClassifier\", \"run_properties\": \"n_components=0.6531578947368422, random_state=None\", \"primary_metric\": 0.81716667, \"best_metric\": 0.8211}, {\"run_id\": \"AutoML_e11d8e10-66de-47f1-ab0d-a1bb5f94d310_47\", \"run_number\": 109, \"metric\": null, \"status\": \"Completed\", \"run_type\": \"azureml.scriptrun\", \"training_percent\": \"100\", \"start_time\": \"2021-01-29T15:40:12.982175Z\", \"end_time\": \"2021-01-29T15:46:32.140514Z\", \"created_time\": \"2021-01-29T15:39:58.223265Z\", \"created_time_dt\": \"2021-01-29T15:39:58.223265Z\", \"duration\": \"0:06:33\", \"iteration\": \"47\", \"goal\": \"accuracy_max\", \"run_name\": \"SparseNormalizer, XGBoostClassifier\", \"run_properties\": \"<azureml.automl.runtime.shared.model_wrappers.SparseNormalizer object at 0x7f2170249400\", \"primary_metric\": 0.80953333, \"best_metric\": 0.8211}, {\"run_id\": \"AutoML_e11d8e10-66de-47f1-ab0d-a1bb5f94d310_48\", \"run_number\": 110, \"metric\": null, \"status\": \"Completed\", \"run_type\": \"azureml.scriptrun\", \"training_percent\": \"100\", \"start_time\": \"2021-01-29T15:40:20.12264Z\", \"end_time\": \"2021-01-29T15:42:28.935087Z\", \"created_time\": \"2021-01-29T15:40:04.865486Z\", \"created_time_dt\": \"2021-01-29T15:40:04.865486Z\", \"duration\": \"0:02:24\", \"iteration\": \"48\", \"goal\": \"accuracy_max\", \"run_name\": \"SparseNormalizer, XGBoostClassifier\", \"run_properties\": \"<azureml.automl.runtime.shared.model_wrappers.SparseNormalizer object at 0x7fd3386e37f0\", \"primary_metric\": 0.81273333, \"best_metric\": 0.8211}, {\"run_id\": \"AutoML_e11d8e10-66de-47f1-ab0d-a1bb5f94d310_49\", \"run_number\": 111, \"metric\": null, \"status\": \"Completed\", \"run_type\": \"azureml.scriptrun\", \"training_percent\": \"100\", \"start_time\": \"2021-01-29T15:40:28.138342Z\", \"end_time\": \"2021-01-29T15:42:00.302679Z\", \"created_time\": \"2021-01-29T15:40:14.855955Z\", \"created_time_dt\": \"2021-01-29T15:40:14.855955Z\", \"duration\": \"0:01:45\", \"iteration\": \"49\", \"goal\": \"accuracy_max\", \"run_name\": \"MaxAbsScaler, ExtremeRandomTrees\", \"run_properties\": \"copy=True\", \"primary_metric\": 0.81283333, \"best_metric\": 0.8211}, {\"run_id\": \"AutoML_e11d8e10-66de-47f1-ab0d-a1bb5f94d310_50\", \"run_number\": 112, \"metric\": null, \"status\": \"Completed\", \"run_type\": \"azureml.scriptrun\", \"training_percent\": \"100\", \"start_time\": \"2021-01-29T15:41:12.266372Z\", \"end_time\": \"2021-01-29T15:42:23.572642Z\", \"created_time\": \"2021-01-29T15:40:21.301847Z\", \"created_time_dt\": \"2021-01-29T15:40:21.301847Z\", \"duration\": \"0:02:02\", \"iteration\": \"50\", \"goal\": \"accuracy_max\", \"run_name\": \"MaxAbsScaler, LightGBM\", \"run_properties\": \"copy=True\", \"primary_metric\": 0.80696667, \"best_metric\": 0.8211}, {\"run_id\": \"AutoML_e11d8e10-66de-47f1-ab0d-a1bb5f94d310_51\", \"run_number\": 113, \"metric\": null, \"status\": \"Completed\", \"run_type\": \"azureml.scriptrun\", \"training_percent\": \"100\", \"start_time\": \"2021-01-29T15:42:05.011362Z\", \"end_time\": \"2021-01-29T15:46:07.052365Z\", \"created_time\": \"2021-01-29T15:41:10.960838Z\", \"created_time_dt\": \"2021-01-29T15:41:10.960838Z\", \"duration\": \"0:04:56\", \"iteration\": \"51\", \"goal\": \"accuracy_max\", \"run_name\": \"SparseNormalizer, XGBoostClassifier\", \"run_properties\": \"<azureml.automl.runtime.shared.model_wrappers.SparseNormalizer object at 0x7fa6cbfc0f60\", \"primary_metric\": 0.8194, \"best_metric\": 0.8211}, {\"run_id\": \"AutoML_e11d8e10-66de-47f1-ab0d-a1bb5f94d310_52\", \"run_number\": 114, \"metric\": null, \"status\": \"Completed\", \"run_type\": \"azureml.scriptrun\", \"training_percent\": \"100\", \"start_time\": \"2021-01-29T15:42:27.873585Z\", \"end_time\": \"2021-01-29T15:46:33.820424Z\", \"created_time\": \"2021-01-29T15:42:02.447956Z\", \"created_time_dt\": \"2021-01-29T15:42:02.447956Z\", \"duration\": \"0:04:31\", \"iteration\": \"52\", \"goal\": \"accuracy_max\", \"run_name\": \"SparseNormalizer, XGBoostClassifier\", \"run_properties\": \"<azureml.automl.runtime.shared.model_wrappers.SparseNormalizer object at 0x7f601640f940\", \"primary_metric\": 0.81733333, \"best_metric\": 0.8211}, {\"run_id\": \"AutoML_e11d8e10-66de-47f1-ab0d-a1bb5f94d310_53\", \"run_number\": 115, \"metric\": null, \"status\": \"Canceled\", \"run_type\": \"azureml.scriptrun\", \"training_percent\": \"100\", \"start_time\": \"2021-01-29T15:42:38.582472Z\", \"end_time\": \"2021-01-29T15:47:29.273263Z\", \"created_time\": \"2021-01-29T15:42:25.413831Z\", \"created_time_dt\": \"2021-01-29T15:42:25.413831Z\", \"duration\": \"0:05:03\", \"iteration\": \"53\", \"goal\": \"accuracy_max\", \"run_name\": \"SparseNormalizer, XGBoostClassifier\", \"run_properties\": \"<azureml.automl.runtime.shared.model_wrappers.SparseNormalizer object at 0x7fc96cad7e10\", \"primary_metric\": 0.8155, \"best_metric\": 0.8211}, {\"run_id\": \"AutoML_e11d8e10-66de-47f1-ab0d-a1bb5f94d310_54\", \"run_number\": 116, \"metric\": null, \"status\": \"Completed\", \"run_type\": \"azureml.scriptrun\", \"training_percent\": \"100\", \"start_time\": \"2021-01-29T15:46:10.795524Z\", \"end_time\": \"2021-01-29T15:47:15.450131Z\", \"created_time\": \"2021-01-29T15:42:30.784106Z\", \"created_time_dt\": \"2021-01-29T15:42:30.784106Z\", \"duration\": \"0:04:44\", \"iteration\": \"54\", \"goal\": \"accuracy_max\", \"run_name\": \"MaxAbsScaler, LightGBM\", \"run_properties\": \"copy=True\", \"primary_metric\": 0.81616667, \"best_metric\": 0.8211}, {\"run_id\": \"AutoML_e11d8e10-66de-47f1-ab0d-a1bb5f94d310_55\", \"run_number\": 117, \"metric\": null, \"status\": \"Canceled\", \"run_type\": \"azureml.scriptrun\", \"training_percent\": \"100\", \"start_time\": \"2021-01-29T15:46:31.636247Z\", \"end_time\": \"2021-01-29T15:47:24.193928Z\", \"created_time\": \"2021-01-29T15:46:11.65153Z\", \"created_time_dt\": \"2021-01-29T15:46:11.65153Z\", \"duration\": \"0:01:12\", \"iteration\": \"55\", \"goal\": \"accuracy_max\", \"run_name\": \"SparseNormalizer, LightGBM\", \"run_properties\": \"<azureml.automl.runtime.shared.model_wrappers.SparseNormalizer object at 0x7f780fdbccf8\", \"primary_metric\": 0.81716667, \"best_metric\": 0.8211}, {\"run_id\": \"AutoML_e11d8e10-66de-47f1-ab0d-a1bb5f94d310_56\", \"run_number\": 118, \"metric\": null, \"status\": \"Canceled\", \"run_type\": \"azureml.scriptrun\", \"training_percent\": \"100\", \"start_time\": \"2021-01-29T15:46:46.748067Z\", \"end_time\": \"2021-01-29T15:47:25.58475Z\", \"created_time\": \"2021-01-29T15:46:35.00498Z\", \"created_time_dt\": \"2021-01-29T15:46:35.00498Z\", \"duration\": \"0:00:50\", \"iteration\": \"56\", \"goal\": null, \"run_name\": \"SparseNormalizer, XGBoostClassifier\", \"run_properties\": null}, {\"run_id\": \"AutoML_e11d8e10-66de-47f1-ab0d-a1bb5f94d310_57\", \"run_number\": 119, \"metric\": null, \"status\": \"Canceled\", \"run_type\": \"azureml.scriptrun\", \"training_percent\": \"100\", \"start_time\": \"2021-01-29T15:47:17.093505Z\", \"end_time\": \"2021-01-29T15:47:25.349647Z\", \"created_time\": \"2021-01-29T15:46:40.884355Z\", \"created_time_dt\": \"2021-01-29T15:46:40.884355Z\", \"duration\": \"0:00:44\", \"iteration\": \"57\", \"goal\": null, \"run_name\": \"Canceled\", \"run_properties\": null}, {\"run_id\": \"AutoML_e11d8e10-66de-47f1-ab0d-a1bb5f94d310_58\", \"run_number\": 120, \"metric\": null, \"status\": \"Completed\", \"run_type\": \"azureml.scriptrun\", \"training_percent\": \"100\", \"start_time\": \"2021-01-29T15:47:42.854464Z\", \"end_time\": \"2021-01-29T15:50:02.376504Z\", \"created_time\": \"2021-01-29T15:47:31.586857Z\", \"created_time_dt\": \"2021-01-29T15:47:31.586857Z\", \"duration\": \"0:02:30\", \"iteration\": \"58\", \"goal\": \"accuracy_max\", \"run_name\": \"VotingEnsemble\", \"run_properties\": \"classification_labels=None,\\n                              estimators=[('0',\\n                                           Pipeline(memory=None,\\n                                                    steps=[('maxabsscaler',\\n                                                            MaxAbsScaler(copy=True\", \"primary_metric\": 0.82256667, \"best_metric\": 0.82256667}], \"children_metrics\": {\"categories\": [0], \"series\": {\"precision_score_macro\": [{\"categories\": [\"0\", \"1\", \"2\", \"3\", \"4\", \"5\", \"6\", \"7\", \"8\", \"9\", \"10\", \"11\", \"12\", \"13\", \"14\", \"15\", \"16\", \"17\", \"18\", \"19\", \"20\", \"21\", \"22\", \"23\", \"24\", \"25\", \"26\", \"27\", \"28\", \"29\", \"30\", \"31\", \"32\", \"33\", \"34\", \"35\", \"36\", \"37\", \"38\", \"39\", \"40\", \"41\", \"42\", \"43\", \"44\", \"45\", \"46\", \"47\", \"48\", \"49\", \"50\", \"51\", \"52\", \"53\", \"54\", \"55\", \"58\"], \"mode\": \"markers\", \"name\": \"precision_score_macro\", \"stepped\": false, \"type\": \"scatter\", \"data\": [0.757279827567148, 0.7594168243328624, 0.7518158047853627, 0.6749807317337785, 0.6722896247868502, 0.6672250220231613, 0.7607970986158539, 0.7552071556175143, 0.7541725083008424, 0.7556127393463248, 0.7570704600151997, 0.753625513609836, 0.754131068521182, 0.7569453460241933, 0.7595770622096307, 0.7660102579188437, 0.7659018457332696, 0.7573890215489248, 0.7463749940649425, 0.38939999999999997, 0.7745201989519972, 0.7264464131456942, 0.7588713317273321, 0.6828259450228635, 0.760855089442149, 0.7792333561751671, 0.758072879287344, 0.7520677858401947, 0.7570785999869338, 0.7641452678361808, 0.38939999999999997, 0.7472123728480188, 0.7703930286861114, 0.7551035178475659, 0.7598252011326943, 0.38939999999999997, 0.7510513700962743, 0.7555699822701747, 0.7615802665145219, 0.7538574438863914, 0.38939999999999997, 0.7330778380741416, 0.7316332130865206, 0.7575274719586236, 0.7551077736708366, 0.755215643438091, 0.7607734382812976, 0.7274683196828685, 0.7345230188720171, 0.758072879287344, 0.7592325598859158, 0.75195735220478, 0.7481018381995466, 0.7417501512941959, 0.7495088555042226, 0.7511709568046893, 0.7635345892688461]}, {\"categories\": [\"0\", \"1\", \"2\", \"3\", \"4\", \"5\", \"6\", \"7\", \"8\", \"9\", \"10\", \"11\", \"12\", \"13\", \"14\", \"15\", \"16\", \"17\", \"18\", \"19\", \"20\", \"21\", \"22\", \"23\", \"24\", \"25\", \"26\", \"27\", \"28\", \"29\", \"30\", \"31\", \"32\", \"33\", \"34\", \"35\", \"36\", \"37\", \"38\", \"39\", \"40\", \"41\", \"42\", \"43\", \"44\", \"45\", \"46\", \"47\", \"48\", \"49\", \"50\", \"51\", \"52\", \"53\", \"54\", \"55\", \"58\"], \"mode\": \"lines\", \"name\": \"precision_score_macro_max\", \"stepped\": true, \"type\": \"scatter\", \"data\": [0.757279827567148, 0.7594168243328624, 0.7594168243328624, 0.7594168243328624, 0.7594168243328624, 0.7594168243328624, 0.7607970986158539, 0.7607970986158539, 0.7607970986158539, 0.7607970986158539, 0.7607970986158539, 0.7607970986158539, 0.7607970986158539, 0.7607970986158539, 0.7607970986158539, 0.7660102579188437, 0.7660102579188437, 0.7660102579188437, 0.7660102579188437, 0.7660102579188437, 0.7745201989519972, 0.7745201989519972, 0.7745201989519972, 0.7745201989519972, 0.7745201989519972, 0.7792333561751671, 0.7792333561751671, 0.7792333561751671, 0.7792333561751671, 0.7792333561751671, 0.7792333561751671, 0.7792333561751671, 0.7792333561751671, 0.7792333561751671, 0.7792333561751671, 0.7792333561751671, 0.7792333561751671, 0.7792333561751671, 0.7792333561751671, 0.7792333561751671, 0.7792333561751671, 0.7792333561751671, 0.7792333561751671, 0.7792333561751671, 0.7792333561751671, 0.7792333561751671, 0.7792333561751671, 0.7792333561751671, 0.7792333561751671, 0.7792333561751671, 0.7792333561751671, 0.7792333561751671, 0.7792333561751671, 0.7792333561751671, 0.7792333561751671, 0.7792333561751671, 0.7792333561751671]}], \"f1_score_micro\": [{\"categories\": [\"0\", \"1\", \"2\", \"3\", \"4\", \"5\", \"6\", \"7\", \"8\", \"9\", \"10\", \"11\", \"12\", \"13\", \"14\", \"15\", \"16\", \"17\", \"18\", \"19\", \"20\", \"21\", \"22\", \"23\", \"24\", \"25\", \"26\", \"27\", \"28\", \"29\", \"30\", \"31\", \"32\", \"33\", \"34\", \"35\", \"36\", \"37\", \"38\", \"39\", \"40\", \"41\", \"42\", \"43\", \"44\", \"45\", \"46\", \"47\", \"48\", \"49\", \"50\", \"51\", \"52\", \"53\", \"54\", \"55\", \"58\"], \"mode\": \"markers\", \"name\": \"f1_score_micro\", \"stepped\": false, \"type\": \"scatter\", \"data\": [0.8210999999999999, 0.8201, 0.8016666666666665, 0.7901, 0.7553000000000001, 0.7529666666666667, 0.8154999999999999, 0.8193666666666668, 0.8188000000000001, 0.8200333333333333, 0.8191333333333334, 0.8195666666666667, 0.8139, 0.8072666666666667, 0.8203666666666667, 0.8112666666666667, 0.8066666666666666, 0.8133333333333334, 0.8116333333333332, 0.7787999999999999, 0.7903, 0.8046666666666666, 0.8200333333333333, 0.7746999999999999, 0.8142666666666667, 0.7916, 0.8128333333333334, 0.8145, 0.8204333333333333, 0.8066666666666666, 0.7787999999999999, 0.8056333333333334, 0.7929666666666666, 0.8196, 0.8203, 0.7787999999999999, 0.8174, 0.8179, 0.8205666666666667, 0.8192666666666668, 0.7787999999999999, 0.8074333333333332, 0.7910666666666667, 0.8205333333333333, 0.8181, 0.8187666666666666, 0.8171666666666666, 0.8095333333333334, 0.8127333333333333, 0.8128333333333334, 0.8069666666666666, 0.8194000000000001, 0.8173333333333334, 0.8155, 0.8161666666666667, 0.8171666666666666, 0.8225666666666667]}, {\"categories\": [\"0\", \"1\", \"2\", \"3\", \"4\", \"5\", \"6\", \"7\", \"8\", \"9\", \"10\", \"11\", \"12\", \"13\", \"14\", \"15\", \"16\", \"17\", \"18\", \"19\", \"20\", \"21\", \"22\", \"23\", \"24\", \"25\", \"26\", \"27\", \"28\", \"29\", \"30\", \"31\", \"32\", \"33\", \"34\", \"35\", \"36\", \"37\", \"38\", \"39\", \"40\", \"41\", \"42\", \"43\", \"44\", \"45\", \"46\", \"47\", \"48\", \"49\", \"50\", \"51\", \"52\", \"53\", \"54\", \"55\", \"58\"], \"mode\": \"lines\", \"name\": \"f1_score_micro_max\", \"stepped\": true, \"type\": \"scatter\", \"data\": [0.8210999999999999, 0.8210999999999999, 0.8210999999999999, 0.8210999999999999, 0.8210999999999999, 0.8210999999999999, 0.8210999999999999, 0.8210999999999999, 0.8210999999999999, 0.8210999999999999, 0.8210999999999999, 0.8210999999999999, 0.8210999999999999, 0.8210999999999999, 0.8210999999999999, 0.8210999999999999, 0.8210999999999999, 0.8210999999999999, 0.8210999999999999, 0.8210999999999999, 0.8210999999999999, 0.8210999999999999, 0.8210999999999999, 0.8210999999999999, 0.8210999999999999, 0.8210999999999999, 0.8210999999999999, 0.8210999999999999, 0.8210999999999999, 0.8210999999999999, 0.8210999999999999, 0.8210999999999999, 0.8210999999999999, 0.8210999999999999, 0.8210999999999999, 0.8210999999999999, 0.8210999999999999, 0.8210999999999999, 0.8210999999999999, 0.8210999999999999, 0.8210999999999999, 0.8210999999999999, 0.8210999999999999, 0.8210999999999999, 0.8210999999999999, 0.8210999999999999, 0.8210999999999999, 0.8210999999999999, 0.8210999999999999, 0.8210999999999999, 0.8210999999999999, 0.8210999999999999, 0.8210999999999999, 0.8210999999999999, 0.8210999999999999, 0.8210999999999999, 0.8225666666666667]}], \"precision_score_micro\": [{\"categories\": [\"0\", \"1\", \"2\", \"3\", \"4\", \"5\", \"6\", \"7\", \"8\", \"9\", \"10\", \"11\", \"12\", \"13\", \"14\", \"15\", \"16\", \"17\", \"18\", \"19\", \"20\", \"21\", \"22\", \"23\", \"24\", \"25\", \"26\", \"27\", \"28\", \"29\", \"30\", \"31\", \"32\", \"33\", \"34\", \"35\", \"36\", \"37\", \"38\", \"39\", \"40\", \"41\", \"42\", \"43\", \"44\", \"45\", \"46\", \"47\", \"48\", \"49\", \"50\", \"51\", \"52\", \"53\", \"54\", \"55\", \"58\"], \"mode\": \"markers\", \"name\": \"precision_score_micro\", \"stepped\": false, \"type\": \"scatter\", \"data\": [0.8210999999999999, 0.8201, 0.8016666666666667, 0.7901, 0.7553000000000001, 0.7529666666666668, 0.8154999999999999, 0.8193666666666668, 0.8188, 0.8200333333333333, 0.8191333333333333, 0.8195666666666667, 0.8139000000000001, 0.8072666666666667, 0.8203666666666667, 0.8112666666666667, 0.8066666666666666, 0.8133333333333334, 0.8116333333333332, 0.7787999999999999, 0.7903, 0.8046666666666666, 0.8200333333333333, 0.7747, 0.8142666666666667, 0.7916, 0.8128333333333334, 0.8145, 0.8204333333333333, 0.8066666666666666, 0.7787999999999999, 0.8056333333333334, 0.7929666666666666, 0.8196, 0.8203, 0.7787999999999999, 0.8174, 0.8179, 0.8205666666666667, 0.8192666666666668, 0.7787999999999999, 0.8074333333333332, 0.7910666666666667, 0.8205333333333333, 0.8181, 0.8187666666666666, 0.8171666666666666, 0.8095333333333334, 0.8127333333333333, 0.8128333333333334, 0.8069666666666666, 0.8194000000000001, 0.8173333333333334, 0.8155, 0.8161666666666666, 0.8171666666666667, 0.8225666666666667]}, {\"categories\": [\"0\", \"1\", \"2\", \"3\", \"4\", \"5\", \"6\", \"7\", \"8\", \"9\", \"10\", \"11\", \"12\", \"13\", \"14\", \"15\", \"16\", \"17\", \"18\", \"19\", \"20\", \"21\", \"22\", \"23\", \"24\", \"25\", \"26\", \"27\", \"28\", \"29\", \"30\", \"31\", \"32\", \"33\", \"34\", \"35\", \"36\", \"37\", \"38\", \"39\", \"40\", \"41\", \"42\", \"43\", \"44\", \"45\", \"46\", \"47\", \"48\", \"49\", \"50\", \"51\", \"52\", \"53\", \"54\", \"55\", \"58\"], \"mode\": \"lines\", \"name\": \"precision_score_micro_max\", \"stepped\": true, \"type\": \"scatter\", \"data\": [0.8210999999999999, 0.8210999999999999, 0.8210999999999999, 0.8210999999999999, 0.8210999999999999, 0.8210999999999999, 0.8210999999999999, 0.8210999999999999, 0.8210999999999999, 0.8210999999999999, 0.8210999999999999, 0.8210999999999999, 0.8210999999999999, 0.8210999999999999, 0.8210999999999999, 0.8210999999999999, 0.8210999999999999, 0.8210999999999999, 0.8210999999999999, 0.8210999999999999, 0.8210999999999999, 0.8210999999999999, 0.8210999999999999, 0.8210999999999999, 0.8210999999999999, 0.8210999999999999, 0.8210999999999999, 0.8210999999999999, 0.8210999999999999, 0.8210999999999999, 0.8210999999999999, 0.8210999999999999, 0.8210999999999999, 0.8210999999999999, 0.8210999999999999, 0.8210999999999999, 0.8210999999999999, 0.8210999999999999, 0.8210999999999999, 0.8210999999999999, 0.8210999999999999, 0.8210999999999999, 0.8210999999999999, 0.8210999999999999, 0.8210999999999999, 0.8210999999999999, 0.8210999999999999, 0.8210999999999999, 0.8210999999999999, 0.8210999999999999, 0.8210999999999999, 0.8210999999999999, 0.8210999999999999, 0.8210999999999999, 0.8210999999999999, 0.8210999999999999, 0.8225666666666667]}], \"AUC_weighted\": [{\"categories\": [\"0\", \"1\", \"2\", \"3\", \"4\", \"5\", \"6\", \"7\", \"8\", \"9\", \"10\", \"11\", \"12\", \"13\", \"14\", \"15\", \"16\", \"17\", \"18\", \"19\", \"20\", \"21\", \"22\", \"23\", \"24\", \"25\", \"26\", \"27\", \"28\", \"29\", \"30\", \"31\", \"32\", \"33\", \"34\", \"35\", \"36\", \"37\", \"38\", \"39\", \"40\", \"41\", \"42\", \"43\", \"44\", \"45\", \"46\", \"47\", \"48\", \"49\", \"50\", \"51\", \"52\", \"53\", \"54\", \"55\", \"58\"], \"mode\": \"markers\", \"name\": \"AUC_weighted\", \"stepped\": false, \"type\": \"scatter\", \"data\": [0.7825182174904173, 0.7818568721876452, 0.7692094159617877, 0.7589904012040396, 0.7710744616770047, 0.7579617687634129, 0.7626880661868115, 0.7824961997325582, 0.779106380379552, 0.7815396942000135, 0.7775813247616818, 0.7813158716672444, 0.7744939526825935, 0.7527979435819725, 0.7666188687308941, 0.7529569748824722, 0.7686123285068143, 0.757991890086066, 0.7711859574202995, 0.7564382980999058, 0.7640002717594151, 0.7608669229360536, 0.7672598315501483, 0.7679542626031661, 0.7591894188951842, 0.7632646919738935, 0.7503179611454018, 0.778111253517769, 0.7827823758332524, 0.7718362927771245, 0.7309972613235102, 0.7681674272950376, 0.7679362008491805, 0.783107621334373, 0.7810522809001121, 0.7492413536120618, 0.7816212142861227, 0.779948954078433, 0.7792387923364245, 0.7803156104135496, 0.7580482814401099, 0.7689534983279224, 0.7585146848665747, 0.7812457240148418, 0.777510908900334, 0.7837858318525956, 0.7705505195103144, 0.7596198905135648, 0.7629982167583651, 0.7611767645599994, 0.768616192982762, 0.776857923257717, 0.7794910434882312, 0.7703975259350835, 0.7758248292716952, 0.7809232171930559, 0.7877722126322521]}, {\"categories\": [\"0\", \"1\", \"2\", \"3\", \"4\", \"5\", \"6\", \"7\", \"8\", \"9\", \"10\", \"11\", \"12\", \"13\", \"14\", \"15\", \"16\", \"17\", \"18\", \"19\", \"20\", \"21\", \"22\", \"23\", \"24\", \"25\", \"26\", \"27\", \"28\", \"29\", \"30\", \"31\", \"32\", \"33\", \"34\", \"35\", \"36\", \"37\", \"38\", \"39\", \"40\", \"41\", \"42\", \"43\", \"44\", \"45\", \"46\", \"47\", \"48\", \"49\", \"50\", \"51\", \"52\", \"53\", \"54\", \"55\", \"58\"], \"mode\": \"lines\", \"name\": \"AUC_weighted_max\", \"stepped\": true, \"type\": \"scatter\", \"data\": [0.7825182174904173, 0.7825182174904173, 0.7825182174904173, 0.7825182174904173, 0.7825182174904173, 0.7825182174904173, 0.7825182174904173, 0.7825182174904173, 0.7825182174904173, 0.7825182174904173, 0.7825182174904173, 0.7825182174904173, 0.7825182174904173, 0.7825182174904173, 0.7825182174904173, 0.7825182174904173, 0.7825182174904173, 0.7825182174904173, 0.7825182174904173, 0.7825182174904173, 0.7825182174904173, 0.7825182174904173, 0.7825182174904173, 0.7825182174904173, 0.7825182174904173, 0.7825182174904173, 0.7825182174904173, 0.7825182174904173, 0.7827823758332524, 0.7827823758332524, 0.7827823758332524, 0.7827823758332524, 0.7827823758332524, 0.783107621334373, 0.783107621334373, 0.783107621334373, 0.783107621334373, 0.783107621334373, 0.783107621334373, 0.783107621334373, 0.783107621334373, 0.783107621334373, 0.783107621334373, 0.783107621334373, 0.783107621334373, 0.7837858318525956, 0.7837858318525956, 0.7837858318525956, 0.7837858318525956, 0.7837858318525956, 0.7837858318525956, 0.7837858318525956, 0.7837858318525956, 0.7837858318525956, 0.7837858318525956, 0.7837858318525956, 0.7877722126322521]}], \"average_precision_score_macro\": [{\"categories\": [\"0\", \"1\", \"2\", \"3\", \"4\", \"5\", \"6\", \"7\", \"8\", \"9\", \"10\", \"11\", \"12\", \"13\", \"14\", \"15\", \"16\", \"17\", \"18\", \"19\", \"20\", \"21\", \"22\", \"23\", \"24\", \"25\", \"26\", \"27\", \"28\", \"29\", \"30\", \"31\", \"32\", \"33\", \"34\", \"35\", \"36\", \"37\", \"38\", \"39\", \"40\", \"41\", \"42\", \"43\", \"44\", \"45\", \"46\", \"47\", \"48\", \"49\", \"50\", \"51\", \"52\", \"53\", \"54\", \"55\", \"58\"], \"mode\": \"markers\", \"name\": \"average_precision_score_macro\", \"stepped\": false, \"type\": \"scatter\", \"data\": [0.7350524712394961, 0.7362094126484817, 0.717635659771372, 0.7063196832374288, 0.7167864184645432, 0.7038445188779672, 0.717011700126398, 0.7365857170126273, 0.7324752751099395, 0.7339804287259231, 0.730750492029957, 0.7344748082110584, 0.7212168447701197, 0.6971888272183445, 0.7205322996611949, 0.7095560062398802, 0.7159435264663304, 0.712631179733411, 0.718439412830602, 0.7025137086886668, 0.7158198534188196, 0.7004554610642887, 0.7200127971744829, 0.719189199644897, 0.7134064457856149, 0.7137672317689785, 0.7051302219712219, 0.726429743676632, 0.7365900705795845, 0.7223211484712291, 0.6743266985682248, 0.713827347919578, 0.71712739204904, 0.7353348109772325, 0.7344434680822391, 0.6916789201351787, 0.7294671228305327, 0.7289583649394737, 0.7337986286189383, 0.736042886258551, 0.7103294247451098, 0.7150486926824045, 0.6942248360428906, 0.734654551588684, 0.7302411407718287, 0.7345071587563499, 0.7262078845948892, 0.71366072047746, 0.7176710022681654, 0.7026860033264457, 0.71887915334665, 0.731656171260433, 0.7315027589488061, 0.7250786123638974, 0.7255600309417812, 0.7278729922928102, 0.7426551665695387]}, {\"categories\": [\"0\", \"1\", \"2\", \"3\", \"4\", \"5\", \"6\", \"7\", \"8\", \"9\", \"10\", \"11\", \"12\", \"13\", \"14\", \"15\", \"16\", \"17\", \"18\", \"19\", \"20\", \"21\", \"22\", \"23\", \"24\", \"25\", \"26\", \"27\", \"28\", \"29\", \"30\", \"31\", \"32\", \"33\", \"34\", \"35\", \"36\", \"37\", \"38\", \"39\", \"40\", \"41\", \"42\", \"43\", \"44\", \"45\", \"46\", \"47\", \"48\", \"49\", \"50\", \"51\", \"52\", \"53\", \"54\", \"55\", \"58\"], \"mode\": \"lines\", \"name\": \"average_precision_score_macro_max\", \"stepped\": true, \"type\": \"scatter\", \"data\": [0.7350524712394961, 0.7362094126484817, 0.7362094126484817, 0.7362094126484817, 0.7362094126484817, 0.7362094126484817, 0.7362094126484817, 0.7365857170126273, 0.7365857170126273, 0.7365857170126273, 0.7365857170126273, 0.7365857170126273, 0.7365857170126273, 0.7365857170126273, 0.7365857170126273, 0.7365857170126273, 0.7365857170126273, 0.7365857170126273, 0.7365857170126273, 0.7365857170126273, 0.7365857170126273, 0.7365857170126273, 0.7365857170126273, 0.7365857170126273, 0.7365857170126273, 0.7365857170126273, 0.7365857170126273, 0.7365857170126273, 0.7365900705795845, 0.7365900705795845, 0.7365900705795845, 0.7365900705795845, 0.7365900705795845, 0.7365900705795845, 0.7365900705795845, 0.7365900705795845, 0.7365900705795845, 0.7365900705795845, 0.7365900705795845, 0.7365900705795845, 0.7365900705795845, 0.7365900705795845, 0.7365900705795845, 0.7365900705795845, 0.7365900705795845, 0.7365900705795845, 0.7365900705795845, 0.7365900705795845, 0.7365900705795845, 0.7365900705795845, 0.7365900705795845, 0.7365900705795845, 0.7365900705795845, 0.7365900705795845, 0.7365900705795845, 0.7365900705795845, 0.7426551665695387]}], \"accuracy\": [{\"categories\": [\"0\", \"1\", \"2\", \"3\", \"4\", \"5\", \"6\", \"7\", \"8\", \"9\", \"10\", \"11\", \"12\", \"13\", \"14\", \"15\", \"16\", \"17\", \"18\", \"19\", \"20\", \"21\", \"22\", \"23\", \"24\", \"25\", \"26\", \"27\", \"28\", \"29\", \"30\", \"31\", \"32\", \"33\", \"34\", \"35\", \"36\", \"37\", \"38\", \"39\", \"40\", \"41\", \"42\", \"43\", \"44\", \"45\", \"46\", \"47\", \"48\", \"49\", \"50\", \"51\", \"52\", \"53\", \"54\", \"55\", \"58\"], \"mode\": \"markers\", \"name\": \"accuracy\", \"stepped\": false, \"type\": \"scatter\", \"data\": [0.8210999999999999, 0.8201, 0.8016666666666667, 0.7901, 0.7553000000000001, 0.7529666666666668, 0.8154999999999999, 0.8193666666666668, 0.8188, 0.8200333333333333, 0.8191333333333333, 0.8195666666666667, 0.8139000000000001, 0.8072666666666667, 0.8203666666666667, 0.8112666666666667, 0.8066666666666666, 0.8133333333333334, 0.8116333333333332, 0.7787999999999999, 0.7903, 0.8046666666666666, 0.8200333333333333, 0.7747, 0.8142666666666667, 0.7916, 0.8128333333333334, 0.8145, 0.8204333333333333, 0.8066666666666666, 0.7787999999999999, 0.8056333333333334, 0.7929666666666666, 0.8196, 0.8203, 0.7787999999999999, 0.8174, 0.8179, 0.8205666666666667, 0.8192666666666668, 0.7787999999999999, 0.8074333333333332, 0.7910666666666667, 0.8205333333333333, 0.8181, 0.8187666666666666, 0.8171666666666666, 0.8095333333333334, 0.8127333333333333, 0.8128333333333334, 0.8069666666666666, 0.8194000000000001, 0.8173333333333334, 0.8155, 0.8161666666666666, 0.8171666666666667, 0.8225666666666667]}, {\"categories\": [\"0\", \"1\", \"2\", \"3\", \"4\", \"5\", \"6\", \"7\", \"8\", \"9\", \"10\", \"11\", \"12\", \"13\", \"14\", \"15\", \"16\", \"17\", \"18\", \"19\", \"20\", \"21\", \"22\", \"23\", \"24\", \"25\", \"26\", \"27\", \"28\", \"29\", \"30\", \"31\", \"32\", \"33\", \"34\", \"35\", \"36\", \"37\", \"38\", \"39\", \"40\", \"41\", \"42\", \"43\", \"44\", \"45\", \"46\", \"47\", \"48\", \"49\", \"50\", \"51\", \"52\", \"53\", \"54\", \"55\", \"58\"], \"mode\": \"lines\", \"name\": \"accuracy_max\", \"stepped\": true, \"type\": \"scatter\", \"data\": [0.8210999999999999, 0.8210999999999999, 0.8210999999999999, 0.8210999999999999, 0.8210999999999999, 0.8210999999999999, 0.8210999999999999, 0.8210999999999999, 0.8210999999999999, 0.8210999999999999, 0.8210999999999999, 0.8210999999999999, 0.8210999999999999, 0.8210999999999999, 0.8210999999999999, 0.8210999999999999, 0.8210999999999999, 0.8210999999999999, 0.8210999999999999, 0.8210999999999999, 0.8210999999999999, 0.8210999999999999, 0.8210999999999999, 0.8210999999999999, 0.8210999999999999, 0.8210999999999999, 0.8210999999999999, 0.8210999999999999, 0.8210999999999999, 0.8210999999999999, 0.8210999999999999, 0.8210999999999999, 0.8210999999999999, 0.8210999999999999, 0.8210999999999999, 0.8210999999999999, 0.8210999999999999, 0.8210999999999999, 0.8210999999999999, 0.8210999999999999, 0.8210999999999999, 0.8210999999999999, 0.8210999999999999, 0.8210999999999999, 0.8210999999999999, 0.8210999999999999, 0.8210999999999999, 0.8210999999999999, 0.8210999999999999, 0.8210999999999999, 0.8210999999999999, 0.8210999999999999, 0.8210999999999999, 0.8210999999999999, 0.8210999999999999, 0.8210999999999999, 0.8225666666666667]}], \"recall_score_micro\": [{\"categories\": [\"0\", \"1\", \"2\", \"3\", \"4\", \"5\", \"6\", \"7\", \"8\", \"9\", \"10\", \"11\", \"12\", \"13\", \"14\", \"15\", \"16\", \"17\", \"18\", \"19\", \"20\", \"21\", \"22\", \"23\", \"24\", \"25\", \"26\", \"27\", \"28\", \"29\", \"30\", \"31\", \"32\", \"33\", \"34\", \"35\", \"36\", \"37\", \"38\", \"39\", \"40\", \"41\", \"42\", \"43\", \"44\", \"45\", \"46\", \"47\", \"48\", \"49\", \"50\", \"51\", \"52\", \"53\", \"54\", \"55\", \"58\"], \"mode\": \"markers\", \"name\": \"recall_score_micro\", \"stepped\": false, \"type\": \"scatter\", \"data\": [0.8210999999999999, 0.8201, 0.8016666666666667, 0.7901, 0.7553000000000001, 0.7529666666666668, 0.8154999999999999, 0.8193666666666668, 0.8188, 0.8200333333333333, 0.8191333333333333, 0.8195666666666667, 0.8139000000000001, 0.8072666666666667, 0.8203666666666667, 0.8112666666666667, 0.8066666666666666, 0.8133333333333334, 0.8116333333333332, 0.7787999999999999, 0.7903, 0.8046666666666666, 0.8200333333333333, 0.7747, 0.8142666666666667, 0.7916, 0.8128333333333334, 0.8145, 0.8204333333333333, 0.8066666666666666, 0.7787999999999999, 0.8056333333333334, 0.7929666666666666, 0.8196, 0.8203, 0.7787999999999999, 0.8174, 0.8179, 0.8205666666666667, 0.8192666666666668, 0.7787999999999999, 0.8074333333333332, 0.7910666666666667, 0.8205333333333333, 0.8181, 0.8187666666666666, 0.8171666666666666, 0.8095333333333334, 0.8127333333333333, 0.8128333333333334, 0.8069666666666666, 0.8194000000000001, 0.8173333333333334, 0.8155, 0.8161666666666666, 0.8171666666666667, 0.8225666666666667]}, {\"categories\": [\"0\", \"1\", \"2\", \"3\", \"4\", \"5\", \"6\", \"7\", \"8\", \"9\", \"10\", \"11\", \"12\", \"13\", \"14\", \"15\", \"16\", \"17\", \"18\", \"19\", \"20\", \"21\", \"22\", \"23\", \"24\", \"25\", \"26\", \"27\", \"28\", \"29\", \"30\", \"31\", \"32\", \"33\", \"34\", \"35\", \"36\", \"37\", \"38\", \"39\", \"40\", \"41\", \"42\", \"43\", \"44\", \"45\", \"46\", \"47\", \"48\", \"49\", \"50\", \"51\", \"52\", \"53\", \"54\", \"55\", \"58\"], \"mode\": \"lines\", \"name\": \"recall_score_micro_max\", \"stepped\": true, \"type\": \"scatter\", \"data\": [0.8210999999999999, 0.8210999999999999, 0.8210999999999999, 0.8210999999999999, 0.8210999999999999, 0.8210999999999999, 0.8210999999999999, 0.8210999999999999, 0.8210999999999999, 0.8210999999999999, 0.8210999999999999, 0.8210999999999999, 0.8210999999999999, 0.8210999999999999, 0.8210999999999999, 0.8210999999999999, 0.8210999999999999, 0.8210999999999999, 0.8210999999999999, 0.8210999999999999, 0.8210999999999999, 0.8210999999999999, 0.8210999999999999, 0.8210999999999999, 0.8210999999999999, 0.8210999999999999, 0.8210999999999999, 0.8210999999999999, 0.8210999999999999, 0.8210999999999999, 0.8210999999999999, 0.8210999999999999, 0.8210999999999999, 0.8210999999999999, 0.8210999999999999, 0.8210999999999999, 0.8210999999999999, 0.8210999999999999, 0.8210999999999999, 0.8210999999999999, 0.8210999999999999, 0.8210999999999999, 0.8210999999999999, 0.8210999999999999, 0.8210999999999999, 0.8210999999999999, 0.8210999999999999, 0.8210999999999999, 0.8210999999999999, 0.8210999999999999, 0.8210999999999999, 0.8210999999999999, 0.8210999999999999, 0.8210999999999999, 0.8210999999999999, 0.8210999999999999, 0.8225666666666667]}], \"f1_score_weighted\": [{\"categories\": [\"0\", \"1\", \"2\", \"3\", \"4\", \"5\", \"6\", \"7\", \"8\", \"9\", \"10\", \"11\", \"12\", \"13\", \"14\", \"15\", \"16\", \"17\", \"18\", \"19\", \"20\", \"21\", \"22\", \"23\", \"24\", \"25\", \"26\", \"27\", \"28\", \"29\", \"30\", \"31\", \"32\", \"33\", \"34\", \"35\", \"36\", \"37\", \"38\", \"39\", \"40\", \"41\", \"42\", \"43\", \"44\", \"45\", \"46\", \"47\", \"48\", \"49\", \"50\", \"51\", \"52\", \"53\", \"54\", \"55\", \"58\"], \"mode\": \"markers\", \"name\": \"f1_score_weighted\", \"stepped\": false, \"type\": \"scatter\", \"data\": [0.8008568762590914, 0.7973299862999967, 0.753428833670508, 0.7157631608315903, 0.7676430091103391, 0.7645819873074379, 0.7856872098067378, 0.7977949916312348, 0.7969984992432954, 0.799294453865075, 0.7962058870565414, 0.7992547346331728, 0.7851663154740661, 0.766804181203933, 0.7977977395128835, 0.773528041953435, 0.7621103949646315, 0.7818369206927916, 0.7827825841946447, 0.6819578016809869, 0.7173859772726523, 0.7753843394179014, 0.7973610979202467, 0.7807854262746678, 0.7826066599940306, 0.7195453451847925, 0.7802183661880578, 0.7873981051156335, 0.7992870753144892, 0.7626148977750747, 0.6819578016809869, 0.7661162239883403, 0.7250927788099434, 0.7984321947934799, 0.797521408598333, 0.6819578016809869, 0.7952548496486525, 0.7939874099016937, 0.7973709362484183, 0.7983808478625982, 0.6819578016809869, 0.7792504931649541, 0.7277245934960943, 0.7992970699460167, 0.7947729126015017, 0.7963376336374182, 0.7897870635240527, 0.7913890021819936, 0.7944631363196851, 0.7802183661880578, 0.7651548968722548, 0.7998692752459161, 0.7969749275336726, 0.7964874149256027, 0.7930017703803476, 0.794723066195122, 0.8010161756924329]}, {\"categories\": [\"0\", \"1\", \"2\", \"3\", \"4\", \"5\", \"6\", \"7\", \"8\", \"9\", \"10\", \"11\", \"12\", \"13\", \"14\", \"15\", \"16\", \"17\", \"18\", \"19\", \"20\", \"21\", \"22\", \"23\", \"24\", \"25\", \"26\", \"27\", \"28\", \"29\", \"30\", \"31\", \"32\", \"33\", \"34\", \"35\", \"36\", \"37\", \"38\", \"39\", \"40\", \"41\", \"42\", \"43\", \"44\", \"45\", \"46\", \"47\", \"48\", \"49\", \"50\", \"51\", \"52\", \"53\", \"54\", \"55\", \"58\"], \"mode\": \"lines\", \"name\": \"f1_score_weighted_max\", \"stepped\": true, \"type\": \"scatter\", \"data\": [0.8008568762590914, 0.8008568762590914, 0.8008568762590914, 0.8008568762590914, 0.8008568762590914, 0.8008568762590914, 0.8008568762590914, 0.8008568762590914, 0.8008568762590914, 0.8008568762590914, 0.8008568762590914, 0.8008568762590914, 0.8008568762590914, 0.8008568762590914, 0.8008568762590914, 0.8008568762590914, 0.8008568762590914, 0.8008568762590914, 0.8008568762590914, 0.8008568762590914, 0.8008568762590914, 0.8008568762590914, 0.8008568762590914, 0.8008568762590914, 0.8008568762590914, 0.8008568762590914, 0.8008568762590914, 0.8008568762590914, 0.8008568762590914, 0.8008568762590914, 0.8008568762590914, 0.8008568762590914, 0.8008568762590914, 0.8008568762590914, 0.8008568762590914, 0.8008568762590914, 0.8008568762590914, 0.8008568762590914, 0.8008568762590914, 0.8008568762590914, 0.8008568762590914, 0.8008568762590914, 0.8008568762590914, 0.8008568762590914, 0.8008568762590914, 0.8008568762590914, 0.8008568762590914, 0.8008568762590914, 0.8008568762590914, 0.8008568762590914, 0.8008568762590914, 0.8008568762590914, 0.8008568762590914, 0.8008568762590914, 0.8008568762590914, 0.8008568762590914, 0.8010161756924329]}], \"matthews_correlation\": [{\"categories\": [\"0\", \"1\", \"2\", \"3\", \"4\", \"5\", \"6\", \"7\", \"8\", \"9\", \"10\", \"11\", \"12\", \"13\", \"14\", \"15\", \"16\", \"17\", \"18\", \"19\", \"20\", \"21\", \"22\", \"23\", \"24\", \"25\", \"26\", \"27\", \"28\", \"29\", \"30\", \"31\", \"32\", \"33\", \"34\", \"35\", \"36\", \"37\", \"38\", \"39\", \"40\", \"41\", \"42\", \"43\", \"44\", \"45\", \"46\", \"47\", \"48\", \"49\", \"50\", \"51\", \"52\", \"53\", \"54\", \"55\", \"58\"], \"mode\": \"markers\", \"name\": \"matthews_correlation\", \"stepped\": false, \"type\": \"scatter\", \"data\": [0.4069003012602965, 0.39812007635801455, 0.2845733911669272, 0.16629787049034667, 0.38154900089687593, 0.3676058360082702, 0.36873571733590715, 0.3979730597462735, 0.39554732903521084, 0.40221041293526816, 0.3944001429624968, 0.4015449942375452, 0.36544243968946377, 0.32028543675748866, 0.3993063949503435, 0.34111828842972786, 0.3128270306170355, 0.3578528766257105, 0.35558152527001025, 0.0, 0.19578490633775772, 0.32907009902695256, 0.39792213391843856, 0.3859476556243692, 0.3611124445520549, 0.20613084296077142, 0.3538834301933409, 0.3697634251920443, 0.4025341273206172, 0.3132495697041401, 0.0, 0.3144815648158828, 0.21801962905834513, 0.3997605348876142, 0.3987009470998244, 0.0, 0.38988808187994767, 0.3880427080380818, 0.39899910792685694, 0.3991933142499762, 0.0, 0.34160911434575336, 0.21064508107703292, 0.40278663925323277, 0.3900338719740963, 0.3941832293905405, 0.3791765512753765, 0.3738375664591072, 0.38374685620523713, 0.3538834301933409, 0.31728413095445634, 0.4027766076577793, 0.3937749903133141, 0.39086109534454105, 0.3834383842526399, 0.388660434236024, 0.4092127727707982]}, {\"categories\": [\"0\", \"1\", \"2\", \"3\", \"4\", \"5\", \"6\", \"7\", \"8\", \"9\", \"10\", \"11\", \"12\", \"13\", \"14\", \"15\", \"16\", \"17\", \"18\", \"19\", \"20\", \"21\", \"22\", \"23\", \"24\", \"25\", \"26\", \"27\", \"28\", \"29\", \"30\", \"31\", \"32\", \"33\", \"34\", \"35\", \"36\", \"37\", \"38\", \"39\", \"40\", \"41\", \"42\", \"43\", \"44\", \"45\", \"46\", \"47\", \"48\", \"49\", \"50\", \"51\", \"52\", \"53\", \"54\", \"55\", \"58\"], \"mode\": \"lines\", \"name\": \"matthews_correlation_max\", \"stepped\": true, \"type\": \"scatter\", \"data\": [0.4069003012602965, 0.4069003012602965, 0.4069003012602965, 0.4069003012602965, 0.4069003012602965, 0.4069003012602965, 0.4069003012602965, 0.4069003012602965, 0.4069003012602965, 0.4069003012602965, 0.4069003012602965, 0.4069003012602965, 0.4069003012602965, 0.4069003012602965, 0.4069003012602965, 0.4069003012602965, 0.4069003012602965, 0.4069003012602965, 0.4069003012602965, 0.4069003012602965, 0.4069003012602965, 0.4069003012602965, 0.4069003012602965, 0.4069003012602965, 0.4069003012602965, 0.4069003012602965, 0.4069003012602965, 0.4069003012602965, 0.4069003012602965, 0.4069003012602965, 0.4069003012602965, 0.4069003012602965, 0.4069003012602965, 0.4069003012602965, 0.4069003012602965, 0.4069003012602965, 0.4069003012602965, 0.4069003012602965, 0.4069003012602965, 0.4069003012602965, 0.4069003012602965, 0.4069003012602965, 0.4069003012602965, 0.4069003012602965, 0.4069003012602965, 0.4069003012602965, 0.4069003012602965, 0.4069003012602965, 0.4069003012602965, 0.4069003012602965, 0.4069003012602965, 0.4069003012602965, 0.4069003012602965, 0.4069003012602965, 0.4069003012602965, 0.4069003012602965, 0.4092127727707982]}], \"log_loss\": [{\"categories\": [\"0\", \"1\", \"2\", \"3\", \"4\", \"5\", \"6\", \"7\", \"8\", \"9\", \"10\", \"11\", \"12\", \"13\", \"14\", \"15\", \"16\", \"17\", \"18\", \"19\", \"20\", \"21\", \"22\", \"23\", \"24\", \"25\", \"26\", \"27\", \"28\", \"29\", \"30\", \"31\", \"32\", \"33\", \"34\", \"35\", \"36\", \"37\", \"38\", \"39\", \"40\", \"41\", \"42\", \"43\", \"44\", \"45\", \"46\", \"47\", \"48\", \"49\", \"50\", \"51\", \"52\", \"53\", \"54\", \"55\", \"58\"], \"mode\": \"markers\", \"name\": \"log_loss\", \"stepped\": false, \"type\": \"scatter\", \"data\": [0.42805291628876213, 0.42800665556665723, 0.4466159319976545, 0.46120886190859, 0.5798633888450633, 0.5976987940161703, 0.4463028732342368, 0.427771097822054, 0.4327581466969871, 0.42932464454599617, 0.4797941445238928, 0.42956084992960486, 0.43921466332722553, 0.497706847803664, 0.43709523303219594, 0.4487226963075225, 0.4469029735540707, 0.44496722101345443, 0.4393925159592377, 0.46586444402050964, 0.4566121674299134, 0.44694061966180276, 0.43749739496017187, 0.5641453248961915, 0.44408004410495977, 0.46303896866740707, 0.448647586490576, 0.43469856199782175, 0.4310647612714637, 0.446073265360013, 0.5227630258521179, 0.44579367386015983, 0.4525015693522637, 0.42821767646674347, 0.4332404298696513, 0.49684333882000475, 0.43029343513561236, 0.4309406838977036, 0.433467365472355, 0.4288754876593972, 0.5284152016169843, 0.44142526858981374, 0.4576634920032736, 0.431833298880264, 0.43150516068677125, 0.4282937958693229, 0.4404675127993071, 0.4622531558547053, 0.4567965101802244, 0.44405378099106807, 0.44511536341274516, 0.43557930059715655, 0.4320665669077064, 0.4428867236234606, 0.43309119287616155, 0.4308962149155999, 0.42496382301240343]}, {\"categories\": [\"0\", \"1\", \"2\", \"3\", \"4\", \"5\", \"6\", \"7\", \"8\", \"9\", \"10\", \"11\", \"12\", \"13\", \"14\", \"15\", \"16\", \"17\", \"18\", \"19\", \"20\", \"21\", \"22\", \"23\", \"24\", \"25\", \"26\", \"27\", \"28\", \"29\", \"30\", \"31\", \"32\", \"33\", \"34\", \"35\", \"36\", \"37\", \"38\", \"39\", \"40\", \"41\", \"42\", \"43\", \"44\", \"45\", \"46\", \"47\", \"48\", \"49\", \"50\", \"51\", \"52\", \"53\", \"54\", \"55\", \"58\"], \"mode\": \"lines\", \"name\": \"log_loss_min\", \"stepped\": true, \"type\": \"scatter\", \"data\": [0.42805291628876213, 0.42800665556665723, 0.42800665556665723, 0.42800665556665723, 0.42800665556665723, 0.42800665556665723, 0.42800665556665723, 0.427771097822054, 0.427771097822054, 0.427771097822054, 0.427771097822054, 0.427771097822054, 0.427771097822054, 0.427771097822054, 0.427771097822054, 0.427771097822054, 0.427771097822054, 0.427771097822054, 0.427771097822054, 0.427771097822054, 0.427771097822054, 0.427771097822054, 0.427771097822054, 0.427771097822054, 0.427771097822054, 0.427771097822054, 0.427771097822054, 0.427771097822054, 0.427771097822054, 0.427771097822054, 0.427771097822054, 0.427771097822054, 0.427771097822054, 0.427771097822054, 0.427771097822054, 0.427771097822054, 0.427771097822054, 0.427771097822054, 0.427771097822054, 0.427771097822054, 0.427771097822054, 0.427771097822054, 0.427771097822054, 0.427771097822054, 0.427771097822054, 0.427771097822054, 0.427771097822054, 0.427771097822054, 0.427771097822054, 0.427771097822054, 0.427771097822054, 0.427771097822054, 0.427771097822054, 0.427771097822054, 0.427771097822054, 0.427771097822054, 0.42496382301240343]}], \"weighted_accuracy\": [{\"categories\": [\"0\", \"1\", \"2\", \"3\", \"4\", \"5\", \"6\", \"7\", \"8\", \"9\", \"10\", \"11\", \"12\", \"13\", \"14\", \"15\", \"16\", \"17\", \"18\", \"19\", \"20\", \"21\", \"22\", \"23\", \"24\", \"25\", \"26\", \"27\", \"28\", \"29\", \"30\", \"31\", \"32\", \"33\", \"34\", \"35\", \"36\", \"37\", \"38\", \"39\", \"40\", \"41\", \"42\", \"43\", \"44\", \"45\", \"46\", \"47\", \"48\", \"49\", \"50\", \"51\", \"52\", \"53\", \"54\", \"55\", \"58\"], \"mode\": \"markers\", \"name\": \"weighted_accuracy\", \"stepped\": false, \"type\": \"scatter\", \"data\": [0.9052899561217664, 0.9080446625520826, 0.9175778597105624, 0.9239933433404907, 0.7784504135668486, 0.7797295343299673, 0.91278970543292, 0.9056496887011962, 0.9054558389155264, 0.9050500876197707, 0.9073228939199942, 0.9039779962547043, 0.9096039944267937, 0.9162490170564546, 0.9080250036104096, 0.9172597086212546, 0.9194695582985675, 0.9125813309774737, 0.907972161866802, 0.9253186107385694, 0.9238312690630341, 0.9019384582673654, 0.9078559819690785, 0.8120175401890994, 0.9137250154567431, 0.9248417518315638, 0.9134749651333172, 0.9085033038267343, 0.9060063557712722, 0.9190173336113721, 0.9253186107385694, 0.9135465336060269, 0.9234084865686721, 0.9052364643152552, 0.9082305642687005, 0.9253186107385694, 0.904643644579532, 0.9075560870383701, 0.909052126272262, 0.9045645802039842, 0.9253186107385694, 0.903206660636483, 0.9187844368862766, 0.9062016528173176, 0.9069118398351353, 0.9062877553490422, 0.9113915848953622, 0.8914656575753523, 0.8945844421488491, 0.9134749651333172, 0.9172478599428675, 0.9026499312630555, 0.9019820776178751, 0.8982729725052521, 0.9049018108489699, 0.9048132251899232, 0.908591195206147]}, {\"categories\": [\"0\", \"1\", \"2\", \"3\", \"4\", \"5\", \"6\", \"7\", \"8\", \"9\", \"10\", \"11\", \"12\", \"13\", \"14\", \"15\", \"16\", \"17\", \"18\", \"19\", \"20\", \"21\", \"22\", \"23\", \"24\", \"25\", \"26\", \"27\", \"28\", \"29\", \"30\", \"31\", \"32\", \"33\", \"34\", \"35\", \"36\", \"37\", \"38\", \"39\", \"40\", \"41\", \"42\", \"43\", \"44\", \"45\", \"46\", \"47\", \"48\", \"49\", \"50\", \"51\", \"52\", \"53\", \"54\", \"55\", \"58\"], \"mode\": \"lines\", \"name\": \"weighted_accuracy_max\", \"stepped\": true, \"type\": \"scatter\", \"data\": [0.9052899561217664, 0.9080446625520826, 0.9175778597105624, 0.9239933433404907, 0.9239933433404907, 0.9239933433404907, 0.9239933433404907, 0.9239933433404907, 0.9239933433404907, 0.9239933433404907, 0.9239933433404907, 0.9239933433404907, 0.9239933433404907, 0.9239933433404907, 0.9239933433404907, 0.9239933433404907, 0.9239933433404907, 0.9239933433404907, 0.9239933433404907, 0.9253186107385694, 0.9253186107385694, 0.9253186107385694, 0.9253186107385694, 0.9253186107385694, 0.9253186107385694, 0.9253186107385694, 0.9253186107385694, 0.9253186107385694, 0.9253186107385694, 0.9253186107385694, 0.9253186107385694, 0.9253186107385694, 0.9253186107385694, 0.9253186107385694, 0.9253186107385694, 0.9253186107385694, 0.9253186107385694, 0.9253186107385694, 0.9253186107385694, 0.9253186107385694, 0.9253186107385694, 0.9253186107385694, 0.9253186107385694, 0.9253186107385694, 0.9253186107385694, 0.9253186107385694, 0.9253186107385694, 0.9253186107385694, 0.9253186107385694, 0.9253186107385694, 0.9253186107385694, 0.9253186107385694, 0.9253186107385694, 0.9253186107385694, 0.9253186107385694, 0.9253186107385694, 0.9253186107385694]}], \"norm_macro_recall\": [{\"categories\": [\"0\", \"1\", \"2\", \"3\", \"4\", \"5\", \"6\", \"7\", \"8\", \"9\", \"10\", \"11\", \"12\", \"13\", \"14\", \"15\", \"16\", \"17\", \"18\", \"19\", \"20\", \"21\", \"22\", \"23\", \"24\", \"25\", \"26\", \"27\", \"28\", \"29\", \"30\", \"31\", \"32\", \"33\", \"34\", \"35\", \"36\", \"37\", \"38\", \"39\", \"40\", \"41\", \"42\", \"43\", \"44\", \"45\", \"46\", \"47\", \"48\", \"49\", \"50\", \"51\", \"52\", \"53\", \"54\", \"55\", \"58\"], \"mode\": \"markers\", \"name\": \"norm_macro_recall\", \"stepped\": false, \"type\": \"scatter\", \"data\": [0.321913631034916, 0.30560685471010757, 0.16212604887445908, 0.0705103094286918, 0.42251480590713714, 0.40412990219178974, 0.26080620594889375, 0.3104263204378556, 0.3078968677599228, 0.3166165955082656, 0.3027290798419538, 0.3180047740702409, 0.2639221696142759, 0.19982613876093103, 0.3071735661354517, 0.21937432305705173, 0.18409975224825392, 0.2491214763924281, 0.2566590107386993, 0.0, 0.07273935692877681, 0.23917460631413195, 0.3058813982644085, 0.40740266699203914, 0.25013672686798405, 0.07618304910697532, 0.2427011325669265, 0.27137757273595653, 0.3152748451017091, 0.18581009821026, 0.0, 0.2007915135141054, 0.08976309684242362, 0.3134152276821697, 0.30602531165024943, 0.0, 0.30283713809103197, 0.29469177613254843, 0.304487612199486, 0.3139985627350541, 0.0, 0.2504380483505797, 0.09623197205306822, 0.31516671650107025, 0.298340915474911, 0.3045702887839178, 0.27584962576206656, 0.30738966982773047, 0.3140612163121052, 0.2427011325669265, 0.1942980145894007, 0.3220875223412036, 0.31261000015020923, 0.3160555744910282, 0.294727268887866, 0.30089865946285466, 0.31785847124379357]}, {\"categories\": [\"0\", \"1\", \"2\", \"3\", \"4\", \"5\", \"6\", \"7\", \"8\", \"9\", \"10\", \"11\", \"12\", \"13\", \"14\", \"15\", \"16\", \"17\", \"18\", \"19\", \"20\", \"21\", \"22\", \"23\", \"24\", \"25\", \"26\", \"27\", \"28\", \"29\", \"30\", \"31\", \"32\", \"33\", \"34\", \"35\", \"36\", \"37\", \"38\", \"39\", \"40\", \"41\", \"42\", \"43\", \"44\", \"45\", \"46\", \"47\", \"48\", \"49\", \"50\", \"51\", \"52\", \"53\", \"54\", \"55\", \"58\"], \"mode\": \"lines\", \"name\": \"norm_macro_recall_max\", \"stepped\": true, \"type\": \"scatter\", \"data\": [0.321913631034916, 0.321913631034916, 0.321913631034916, 0.321913631034916, 0.42251480590713714, 0.42251480590713714, 0.42251480590713714, 0.42251480590713714, 0.42251480590713714, 0.42251480590713714, 0.42251480590713714, 0.42251480590713714, 0.42251480590713714, 0.42251480590713714, 0.42251480590713714, 0.42251480590713714, 0.42251480590713714, 0.42251480590713714, 0.42251480590713714, 0.42251480590713714, 0.42251480590713714, 0.42251480590713714, 0.42251480590713714, 0.42251480590713714, 0.42251480590713714, 0.42251480590713714, 0.42251480590713714, 0.42251480590713714, 0.42251480590713714, 0.42251480590713714, 0.42251480590713714, 0.42251480590713714, 0.42251480590713714, 0.42251480590713714, 0.42251480590713714, 0.42251480590713714, 0.42251480590713714, 0.42251480590713714, 0.42251480590713714, 0.42251480590713714, 0.42251480590713714, 0.42251480590713714, 0.42251480590713714, 0.42251480590713714, 0.42251480590713714, 0.42251480590713714, 0.42251480590713714, 0.42251480590713714, 0.42251480590713714, 0.42251480590713714, 0.42251480590713714, 0.42251480590713714, 0.42251480590713714, 0.42251480590713714, 0.42251480590713714, 0.42251480590713714, 0.42251480590713714]}], \"precision_score_weighted\": [{\"categories\": [\"0\", \"1\", \"2\", \"3\", \"4\", \"5\", \"6\", \"7\", \"8\", \"9\", \"10\", \"11\", \"12\", \"13\", \"14\", \"15\", \"16\", \"17\", \"18\", \"19\", \"20\", \"21\", \"22\", \"23\", \"24\", \"25\", \"26\", \"27\", \"28\", \"29\", \"30\", \"31\", \"32\", \"33\", \"34\", \"35\", \"36\", \"37\", \"38\", \"39\", \"40\", \"41\", \"42\", \"43\", \"44\", \"45\", \"46\", \"47\", \"48\", \"49\", \"50\", \"51\", \"52\", \"53\", \"54\", \"55\", \"58\"], \"mode\": \"markers\", \"name\": \"precision_score_weighted\", \"stepped\": false, \"type\": \"scatter\", \"data\": [0.80461117025052, 0.8034602254279407, 0.7835443637314716, 0.7407578769919045, 0.7899889983174355, 0.7846598456944904, 0.7986153858690584, 0.8023002144654818, 0.8015463519265714, 0.8032685695169817, 0.8021124138847427, 0.8025749591513113, 0.796171462090988, 0.7899260556203297, 0.803698092540653, 0.7960493992942527, 0.7920363100824643, 0.795754916742104, 0.7919167837275417, 0.6065415555555556, 0.7842269227134919, 0.7813064242492022, 0.8032395453662453, 0.789223939198686, 0.7973615478927838, 0.7865398054973889, 0.7952752133808428, 0.7961336259716345, 0.8036892527843551, 0.7914594478137013, 0.6065415555555556, 0.7857788918010917, 0.7841138115348265, 0.802622416537834, 0.8036896453512048, 0.6065415555555556, 0.7995771372916312, 0.8004659393893568, 0.8042428342467902, 0.8021849492635545, 0.6065415555555556, 0.7854802126075248, 0.7676255358625623, 0.8038560540378793, 0.8007360725403336, 0.8015518925008118, 0.8004093417309397, 0.790309035540924, 0.794068375620588, 0.7952752133808428, 0.7902708687452308, 0.8024183349734797, 0.7995803855530823, 0.797343232397203, 0.7979001386840925, 0.7993957348201455, 0.8067262255728733]}, {\"categories\": [\"0\", \"1\", \"2\", \"3\", \"4\", \"5\", \"6\", \"7\", \"8\", \"9\", \"10\", \"11\", \"12\", \"13\", \"14\", \"15\", \"16\", \"17\", \"18\", \"19\", \"20\", \"21\", \"22\", \"23\", \"24\", \"25\", \"26\", \"27\", \"28\", \"29\", \"30\", \"31\", \"32\", \"33\", \"34\", \"35\", \"36\", \"37\", \"38\", \"39\", \"40\", \"41\", \"42\", \"43\", \"44\", \"45\", \"46\", \"47\", \"48\", \"49\", \"50\", \"51\", \"52\", \"53\", \"54\", \"55\", \"58\"], \"mode\": \"lines\", \"name\": \"precision_score_weighted_max\", \"stepped\": true, \"type\": \"scatter\", \"data\": [0.80461117025052, 0.80461117025052, 0.80461117025052, 0.80461117025052, 0.80461117025052, 0.80461117025052, 0.80461117025052, 0.80461117025052, 0.80461117025052, 0.80461117025052, 0.80461117025052, 0.80461117025052, 0.80461117025052, 0.80461117025052, 0.80461117025052, 0.80461117025052, 0.80461117025052, 0.80461117025052, 0.80461117025052, 0.80461117025052, 0.80461117025052, 0.80461117025052, 0.80461117025052, 0.80461117025052, 0.80461117025052, 0.80461117025052, 0.80461117025052, 0.80461117025052, 0.80461117025052, 0.80461117025052, 0.80461117025052, 0.80461117025052, 0.80461117025052, 0.80461117025052, 0.80461117025052, 0.80461117025052, 0.80461117025052, 0.80461117025052, 0.80461117025052, 0.80461117025052, 0.80461117025052, 0.80461117025052, 0.80461117025052, 0.80461117025052, 0.80461117025052, 0.80461117025052, 0.80461117025052, 0.80461117025052, 0.80461117025052, 0.80461117025052, 0.80461117025052, 0.80461117025052, 0.80461117025052, 0.80461117025052, 0.80461117025052, 0.80461117025052, 0.8067262255728733]}], \"f1_score_macro\": [{\"categories\": [\"0\", \"1\", \"2\", \"3\", \"4\", \"5\", \"6\", \"7\", \"8\", \"9\", \"10\", \"11\", \"12\", \"13\", \"14\", \"15\", \"16\", \"17\", \"18\", \"19\", \"20\", \"21\", \"22\", \"23\", \"24\", \"25\", \"26\", \"27\", \"28\", \"29\", \"30\", \"31\", \"32\", \"33\", \"34\", \"35\", \"36\", \"37\", \"38\", \"39\", \"40\", \"41\", \"42\", \"43\", \"44\", \"45\", \"46\", \"47\", \"48\", \"49\", \"50\", \"51\", \"52\", \"53\", \"54\", \"55\", \"58\"], \"mode\": \"markers\", \"name\": \"f1_score_macro\", \"stepped\": false, \"type\": \"scatter\", \"data\": [0.6860411194628874, 0.6781436039024893, 0.5878974560453026, 0.5079746176105497, 0.6837425139724205, 0.6778450460483292, 0.6536844772806347, 0.6800749483907746, 0.6786692005808415, 0.6831846646838122, 0.6763246640713555, 0.683618384264887, 0.6542621328330833, 0.6152264314978273, 0.6790260332508503, 0.6280009700767466, 0.6043751158018543, 0.6463926053581466, 0.6503655653397885, 0.43782109915950657, 0.512118591910502, 0.6390069428861314, 0.6782740904850386, 0.6912846878813018, 0.6473222751694704, 0.5157999654659451, 0.6427978447127092, 0.6590239950374128, 0.6827377365962356, 0.6055946295141014, 0.43782109915950657, 0.61528959064719, 0.5280329995719142, 0.6814921794537978, 0.6783952647916174, 0.43782109915950657, 0.6757384948014475, 0.6720279916837402, 0.6777605994343697, 0.6816828515275273, 0.43782109915950657, 0.6458659640286786, 0.535884637584196, 0.682695489892774, 0.67381879747559, 0.67706455137719, 0.6622383022792153, 0.6744720611850225, 0.6788356314067463, 0.6427978447127092, 0.611506649008123, 0.6853518451339243, 0.6802006074132008, 0.680957638729553, 0.6713694728073097, 0.6746759168872039, 0.6848706132502604]}, {\"categories\": [\"0\", \"1\", \"2\", \"3\", \"4\", \"5\", \"6\", \"7\", \"8\", \"9\", \"10\", \"11\", \"12\", \"13\", \"14\", \"15\", \"16\", \"17\", \"18\", \"19\", \"20\", \"21\", \"22\", \"23\", \"24\", \"25\", \"26\", \"27\", \"28\", \"29\", \"30\", \"31\", \"32\", \"33\", \"34\", \"35\", \"36\", \"37\", \"38\", \"39\", \"40\", \"41\", \"42\", \"43\", \"44\", \"45\", \"46\", \"47\", \"48\", \"49\", \"50\", \"51\", \"52\", \"53\", \"54\", \"55\", \"58\"], \"mode\": \"lines\", \"name\": \"f1_score_macro_max\", \"stepped\": true, \"type\": \"scatter\", \"data\": [0.6860411194628874, 0.6860411194628874, 0.6860411194628874, 0.6860411194628874, 0.6860411194628874, 0.6860411194628874, 0.6860411194628874, 0.6860411194628874, 0.6860411194628874, 0.6860411194628874, 0.6860411194628874, 0.6860411194628874, 0.6860411194628874, 0.6860411194628874, 0.6860411194628874, 0.6860411194628874, 0.6860411194628874, 0.6860411194628874, 0.6860411194628874, 0.6860411194628874, 0.6860411194628874, 0.6860411194628874, 0.6860411194628874, 0.6912846878813018, 0.6912846878813018, 0.6912846878813018, 0.6912846878813018, 0.6912846878813018, 0.6912846878813018, 0.6912846878813018, 0.6912846878813018, 0.6912846878813018, 0.6912846878813018, 0.6912846878813018, 0.6912846878813018, 0.6912846878813018, 0.6912846878813018, 0.6912846878813018, 0.6912846878813018, 0.6912846878813018, 0.6912846878813018, 0.6912846878813018, 0.6912846878813018, 0.6912846878813018, 0.6912846878813018, 0.6912846878813018, 0.6912846878813018, 0.6912846878813018, 0.6912846878813018, 0.6912846878813018, 0.6912846878813018, 0.6912846878813018, 0.6912846878813018, 0.6912846878813018, 0.6912846878813018, 0.6912846878813018, 0.6912846878813018]}], \"recall_score_macro\": [{\"categories\": [\"0\", \"1\", \"2\", \"3\", \"4\", \"5\", \"6\", \"7\", \"8\", \"9\", \"10\", \"11\", \"12\", \"13\", \"14\", \"15\", \"16\", \"17\", \"18\", \"19\", \"20\", \"21\", \"22\", \"23\", \"24\", \"25\", \"26\", \"27\", \"28\", \"29\", \"30\", \"31\", \"32\", \"33\", \"34\", \"35\", \"36\", \"37\", \"38\", \"39\", \"40\", \"41\", \"42\", \"43\", \"44\", \"45\", \"46\", \"47\", \"48\", \"49\", \"50\", \"51\", \"52\", \"53\", \"54\", \"55\", \"58\"], \"mode\": \"markers\", \"name\": \"recall_score_macro\", \"stepped\": false, \"type\": \"scatter\", \"data\": [0.660956815517458, 0.6528034273550538, 0.5810630244372295, 0.5352551547143459, 0.7112574029535685, 0.7020649510958948, 0.6304031029744468, 0.6552131602189278, 0.6539484338799614, 0.6583082977541328, 0.6513645399209769, 0.6590023870351205, 0.631961084807138, 0.5999130693804655, 0.6535867830677258, 0.6096871615285259, 0.592049876124127, 0.624560738196214, 0.6283295053693496, 0.5, 0.5363696784643884, 0.619587303157066, 0.6529406991322042, 0.7037013334960196, 0.6250683634339921, 0.5380915245534876, 0.6213505662834633, 0.6356887863679783, 0.6576374225508546, 0.59290504910513, 0.5, 0.6003957567570527, 0.5448815484212118, 0.6567076138410848, 0.6530126558251247, 0.5, 0.651418569045516, 0.6473458880662742, 0.652243806099743, 0.656999281367527, 0.5, 0.6252190241752899, 0.5481159860265341, 0.657583358250535, 0.6491704577374555, 0.6522851443919588, 0.6379248128810333, 0.6536948349138653, 0.6570306081560525, 0.6213505662834633, 0.5971490072947003, 0.6610437611706018, 0.6563050000751046, 0.6580277872455141, 0.647363634443933, 0.6504493297314273, 0.6589292356218968]}, {\"categories\": [\"0\", \"1\", \"2\", \"3\", \"4\", \"5\", \"6\", \"7\", \"8\", \"9\", \"10\", \"11\", \"12\", \"13\", \"14\", \"15\", \"16\", \"17\", \"18\", \"19\", \"20\", \"21\", \"22\", \"23\", \"24\", \"25\", \"26\", \"27\", \"28\", \"29\", \"30\", \"31\", \"32\", \"33\", \"34\", \"35\", \"36\", \"37\", \"38\", \"39\", \"40\", \"41\", \"42\", \"43\", \"44\", \"45\", \"46\", \"47\", \"48\", \"49\", \"50\", \"51\", \"52\", \"53\", \"54\", \"55\", \"58\"], \"mode\": \"lines\", \"name\": \"recall_score_macro_max\", \"stepped\": true, \"type\": \"scatter\", \"data\": [0.660956815517458, 0.660956815517458, 0.660956815517458, 0.660956815517458, 0.7112574029535685, 0.7112574029535685, 0.7112574029535685, 0.7112574029535685, 0.7112574029535685, 0.7112574029535685, 0.7112574029535685, 0.7112574029535685, 0.7112574029535685, 0.7112574029535685, 0.7112574029535685, 0.7112574029535685, 0.7112574029535685, 0.7112574029535685, 0.7112574029535685, 0.7112574029535685, 0.7112574029535685, 0.7112574029535685, 0.7112574029535685, 0.7112574029535685, 0.7112574029535685, 0.7112574029535685, 0.7112574029535685, 0.7112574029535685, 0.7112574029535685, 0.7112574029535685, 0.7112574029535685, 0.7112574029535685, 0.7112574029535685, 0.7112574029535685, 0.7112574029535685, 0.7112574029535685, 0.7112574029535685, 0.7112574029535685, 0.7112574029535685, 0.7112574029535685, 0.7112574029535685, 0.7112574029535685, 0.7112574029535685, 0.7112574029535685, 0.7112574029535685, 0.7112574029535685, 0.7112574029535685, 0.7112574029535685, 0.7112574029535685, 0.7112574029535685, 0.7112574029535685, 0.7112574029535685, 0.7112574029535685, 0.7112574029535685, 0.7112574029535685, 0.7112574029535685, 0.7112574029535685]}], \"recall_score_weighted\": [{\"categories\": [\"0\", \"1\", \"2\", \"3\", \"4\", \"5\", \"6\", \"7\", \"8\", \"9\", \"10\", \"11\", \"12\", \"13\", \"14\", \"15\", \"16\", \"17\", \"18\", \"19\", \"20\", \"21\", \"22\", \"23\", \"24\", \"25\", \"26\", \"27\", \"28\", \"29\", \"30\", \"31\", \"32\", \"33\", \"34\", \"35\", \"36\", \"37\", \"38\", \"39\", \"40\", \"41\", \"42\", \"43\", \"44\", \"45\", \"46\", \"47\", \"48\", \"49\", \"50\", \"51\", \"52\", \"53\", \"54\", \"55\", \"58\"], \"mode\": \"markers\", \"name\": \"recall_score_weighted\", \"stepped\": false, \"type\": \"scatter\", \"data\": [0.8210999999999999, 0.8201, 0.8016666666666667, 0.7901, 0.7553000000000001, 0.7529666666666668, 0.8154999999999999, 0.8193666666666668, 0.8188, 0.8200333333333333, 0.8191333333333333, 0.8195666666666667, 0.8139000000000001, 0.8072666666666667, 0.8203666666666667, 0.8112666666666667, 0.8066666666666666, 0.8133333333333334, 0.8116333333333332, 0.7787999999999999, 0.7903, 0.8046666666666666, 0.8200333333333333, 0.7747, 0.8142666666666667, 0.7916, 0.8128333333333334, 0.8145, 0.8204333333333333, 0.8066666666666666, 0.7787999999999999, 0.8056333333333334, 0.7929666666666666, 0.8196, 0.8203, 0.7787999999999999, 0.8174, 0.8179, 0.8205666666666667, 0.8192666666666668, 0.7787999999999999, 0.8074333333333332, 0.7910666666666667, 0.8205333333333333, 0.8181, 0.8187666666666666, 0.8171666666666666, 0.8095333333333334, 0.8127333333333333, 0.8128333333333334, 0.8069666666666666, 0.8194000000000001, 0.8173333333333334, 0.8155, 0.8161666666666666, 0.8171666666666667, 0.8225666666666667]}, {\"categories\": [\"0\", \"1\", \"2\", \"3\", \"4\", \"5\", \"6\", \"7\", \"8\", \"9\", \"10\", \"11\", \"12\", \"13\", \"14\", \"15\", \"16\", \"17\", \"18\", \"19\", \"20\", \"21\", \"22\", \"23\", \"24\", \"25\", \"26\", \"27\", \"28\", \"29\", \"30\", \"31\", \"32\", \"33\", \"34\", \"35\", \"36\", \"37\", \"38\", \"39\", \"40\", \"41\", \"42\", \"43\", \"44\", \"45\", \"46\", \"47\", \"48\", \"49\", \"50\", \"51\", \"52\", \"53\", \"54\", \"55\", \"58\"], \"mode\": \"lines\", \"name\": \"recall_score_weighted_max\", \"stepped\": true, \"type\": \"scatter\", \"data\": [0.8210999999999999, 0.8210999999999999, 0.8210999999999999, 0.8210999999999999, 0.8210999999999999, 0.8210999999999999, 0.8210999999999999, 0.8210999999999999, 0.8210999999999999, 0.8210999999999999, 0.8210999999999999, 0.8210999999999999, 0.8210999999999999, 0.8210999999999999, 0.8210999999999999, 0.8210999999999999, 0.8210999999999999, 0.8210999999999999, 0.8210999999999999, 0.8210999999999999, 0.8210999999999999, 0.8210999999999999, 0.8210999999999999, 0.8210999999999999, 0.8210999999999999, 0.8210999999999999, 0.8210999999999999, 0.8210999999999999, 0.8210999999999999, 0.8210999999999999, 0.8210999999999999, 0.8210999999999999, 0.8210999999999999, 0.8210999999999999, 0.8210999999999999, 0.8210999999999999, 0.8210999999999999, 0.8210999999999999, 0.8210999999999999, 0.8210999999999999, 0.8210999999999999, 0.8210999999999999, 0.8210999999999999, 0.8210999999999999, 0.8210999999999999, 0.8210999999999999, 0.8210999999999999, 0.8210999999999999, 0.8210999999999999, 0.8210999999999999, 0.8210999999999999, 0.8210999999999999, 0.8210999999999999, 0.8210999999999999, 0.8210999999999999, 0.8210999999999999, 0.8225666666666667]}], \"AUC_macro\": [{\"categories\": [\"0\", \"1\", \"2\", \"3\", \"4\", \"5\", \"6\", \"7\", \"8\", \"9\", \"10\", \"11\", \"12\", \"13\", \"14\", \"15\", \"16\", \"17\", \"18\", \"19\", \"20\", \"21\", \"22\", \"23\", \"24\", \"25\", \"26\", \"27\", \"28\", \"29\", \"30\", \"31\", \"32\", \"33\", \"34\", \"35\", \"36\", \"37\", \"38\", \"39\", \"40\", \"41\", \"42\", \"43\", \"44\", \"45\", \"46\", \"47\", \"48\", \"49\", \"50\", \"51\", \"52\", \"53\", \"54\", \"55\", \"58\"], \"mode\": \"markers\", \"name\": \"AUC_macro\", \"stepped\": false, \"type\": \"scatter\", \"data\": [0.7825182174904173, 0.7818568687640319, 0.7692094159617877, 0.7589904012040395, 0.7710744616770047, 0.7579617687634128, 0.7626880591998217, 0.7824961961498843, 0.7791063802112665, 0.7815396904936434, 0.7775813139184862, 0.7813158716226548, 0.7744939526825935, 0.7527979435819725, 0.7666188687308941, 0.7529569748824722, 0.7686123285068143, 0.757991890086066, 0.7711859574202994, 0.7564382980999058, 0.7640002717594151, 0.7608669229360535, 0.7672598315501483, 0.7679542626031661, 0.7591894188951842, 0.7632646919738935, 0.7503179611454018, 0.778111253517769, 0.7827823758332524, 0.7718362927771245, 0.7309972613235102, 0.7681674272950376, 0.7679362008491805, 0.7831076175135316, 0.781052284393607, 0.7492413536120619, 0.7816212142861227, 0.779948954078433, 0.7792387961572657, 0.7803156067164045, 0.7580482814401097, 0.7689534983279224, 0.7585146848665746, 0.7812457238111916, 0.7775109054767206, 0.7837858318525956, 0.77055052316287, 0.7596198941054637, 0.7629982167583652, 0.7611767645599994, 0.768616192982762, 0.7768579267958016, 0.7794910184135911, 0.7703975295876391, 0.7758248292716953, 0.7809232171930559, 0.787772219708421]}, {\"categories\": [\"0\", \"1\", \"2\", \"3\", \"4\", \"5\", \"6\", \"7\", \"8\", \"9\", \"10\", \"11\", \"12\", \"13\", \"14\", \"15\", \"16\", \"17\", \"18\", \"19\", \"20\", \"21\", \"22\", \"23\", \"24\", \"25\", \"26\", \"27\", \"28\", \"29\", \"30\", \"31\", \"32\", \"33\", \"34\", \"35\", \"36\", \"37\", \"38\", \"39\", \"40\", \"41\", \"42\", \"43\", \"44\", \"45\", \"46\", \"47\", \"48\", \"49\", \"50\", \"51\", \"52\", \"53\", \"54\", \"55\", \"58\"], \"mode\": \"lines\", \"name\": \"AUC_macro_max\", \"stepped\": true, \"type\": \"scatter\", \"data\": [0.7825182174904173, 0.7825182174904173, 0.7825182174904173, 0.7825182174904173, 0.7825182174904173, 0.7825182174904173, 0.7825182174904173, 0.7825182174904173, 0.7825182174904173, 0.7825182174904173, 0.7825182174904173, 0.7825182174904173, 0.7825182174904173, 0.7825182174904173, 0.7825182174904173, 0.7825182174904173, 0.7825182174904173, 0.7825182174904173, 0.7825182174904173, 0.7825182174904173, 0.7825182174904173, 0.7825182174904173, 0.7825182174904173, 0.7825182174904173, 0.7825182174904173, 0.7825182174904173, 0.7825182174904173, 0.7825182174904173, 0.7827823758332524, 0.7827823758332524, 0.7827823758332524, 0.7827823758332524, 0.7827823758332524, 0.7831076175135316, 0.7831076175135316, 0.7831076175135316, 0.7831076175135316, 0.7831076175135316, 0.7831076175135316, 0.7831076175135316, 0.7831076175135316, 0.7831076175135316, 0.7831076175135316, 0.7831076175135316, 0.7831076175135316, 0.7837858318525956, 0.7837858318525956, 0.7837858318525956, 0.7837858318525956, 0.7837858318525956, 0.7837858318525956, 0.7837858318525956, 0.7837858318525956, 0.7837858318525956, 0.7837858318525956, 0.7837858318525956, 0.787772219708421]}], \"average_precision_score_micro\": [{\"categories\": [\"0\", \"1\", \"2\", \"3\", \"4\", \"5\", \"6\", \"7\", \"8\", \"9\", \"10\", \"11\", \"12\", \"13\", \"14\", \"15\", \"16\", \"17\", \"18\", \"19\", \"20\", \"21\", \"22\", \"23\", \"24\", \"25\", \"26\", \"27\", \"28\", \"29\", \"30\", \"31\", \"32\", \"33\", \"34\", \"35\", \"36\", \"37\", \"38\", \"39\", \"40\", \"41\", \"42\", \"43\", \"44\", \"45\", \"46\", \"47\", \"48\", \"49\", \"50\", \"51\", \"52\", \"53\", \"54\", \"55\", \"58\"], \"mode\": \"markers\", \"name\": \"average_precision_score_micro\", \"stepped\": false, \"type\": \"scatter\", \"data\": [0.8728292935256408, 0.8730460103926191, 0.8642484272769209, 0.856785276426323, 0.7646862713987415, 0.7492415371361346, 0.8634822595685496, 0.873950808231623, 0.8726272938236659, 0.8731240118388308, 0.8717617298343998, 0.8737186371422715, 0.8689106277990306, 0.8476581058524981, 0.8625969552856614, 0.8563770689399658, 0.8604182044003674, 0.8596001510325431, 0.8684414185599634, 0.8496122411646295, 0.8579886225797322, 0.8593588375101096, 0.8623037415295258, 0.7695046182344578, 0.860163730233976, 0.8572651731253635, 0.8548642494843992, 0.8720600551392156, 0.8747200814789275, 0.8659563601906026, 0.8433174206384177, 0.8656257091006077, 0.8631539046832393, 0.8751897618826219, 0.8731021430859689, 0.8555077879345919, 0.8736437314813686, 0.8722814727872992, 0.8725518199957358, 0.8739586937405001, 0.8546397369064025, 0.8662286685550596, 0.8583687508584215, 0.8735408798599698, 0.8727817542087994, 0.8753237968251685, 0.8688945740635745, 0.8592741775387518, 0.8623202148302267, 0.8603758375156361, 0.86326744751425, 0.8711177917183119, 0.8716048106338761, 0.8675048526970842, 0.8696638068891833, 0.8723733344902238, 0.8779486873416391]}, {\"categories\": [\"0\", \"1\", \"2\", \"3\", \"4\", \"5\", \"6\", \"7\", \"8\", \"9\", \"10\", \"11\", \"12\", \"13\", \"14\", \"15\", \"16\", \"17\", \"18\", \"19\", \"20\", \"21\", \"22\", \"23\", \"24\", \"25\", \"26\", \"27\", \"28\", \"29\", \"30\", \"31\", \"32\", \"33\", \"34\", \"35\", \"36\", \"37\", \"38\", \"39\", \"40\", \"41\", \"42\", \"43\", \"44\", \"45\", \"46\", \"47\", \"48\", \"49\", \"50\", \"51\", \"52\", \"53\", \"54\", \"55\", \"58\"], \"mode\": \"lines\", \"name\": \"average_precision_score_micro_max\", \"stepped\": true, \"type\": \"scatter\", \"data\": [0.8728292935256408, 0.8730460103926191, 0.8730460103926191, 0.8730460103926191, 0.8730460103926191, 0.8730460103926191, 0.8730460103926191, 0.873950808231623, 0.873950808231623, 0.873950808231623, 0.873950808231623, 0.873950808231623, 0.873950808231623, 0.873950808231623, 0.873950808231623, 0.873950808231623, 0.873950808231623, 0.873950808231623, 0.873950808231623, 0.873950808231623, 0.873950808231623, 0.873950808231623, 0.873950808231623, 0.873950808231623, 0.873950808231623, 0.873950808231623, 0.873950808231623, 0.873950808231623, 0.8747200814789275, 0.8747200814789275, 0.8747200814789275, 0.8747200814789275, 0.8747200814789275, 0.8751897618826219, 0.8751897618826219, 0.8751897618826219, 0.8751897618826219, 0.8751897618826219, 0.8751897618826219, 0.8751897618826219, 0.8751897618826219, 0.8751897618826219, 0.8751897618826219, 0.8751897618826219, 0.8751897618826219, 0.8753237968251685, 0.8753237968251685, 0.8753237968251685, 0.8753237968251685, 0.8753237968251685, 0.8753237968251685, 0.8753237968251685, 0.8753237968251685, 0.8753237968251685, 0.8753237968251685, 0.8753237968251685, 0.8779486873416391]}], \"balanced_accuracy\": [{\"categories\": [\"0\", \"1\", \"2\", \"3\", \"4\", \"5\", \"6\", \"7\", \"8\", \"9\", \"10\", \"11\", \"12\", \"13\", \"14\", \"15\", \"16\", \"17\", \"18\", \"19\", \"20\", \"21\", \"22\", \"23\", \"24\", \"25\", \"26\", \"27\", \"28\", \"29\", \"30\", \"31\", \"32\", \"33\", \"34\", \"35\", \"36\", \"37\", \"38\", \"39\", \"40\", \"41\", \"42\", \"43\", \"44\", \"45\", \"46\", \"47\", \"48\", \"49\", \"50\", \"51\", \"52\", \"53\", \"54\", \"55\", \"58\"], \"mode\": \"markers\", \"name\": \"balanced_accuracy\", \"stepped\": false, \"type\": \"scatter\", \"data\": [0.660956815517458, 0.6528034273550538, 0.5810630244372295, 0.5352551547143459, 0.7112574029535685, 0.7020649510958948, 0.6304031029744468, 0.6552131602189278, 0.6539484338799614, 0.6583082977541328, 0.6513645399209769, 0.6590023870351205, 0.631961084807138, 0.5999130693804655, 0.6535867830677258, 0.6096871615285259, 0.592049876124127, 0.624560738196214, 0.6283295053693496, 0.5, 0.5363696784643884, 0.619587303157066, 0.6529406991322042, 0.7037013334960196, 0.6250683634339921, 0.5380915245534876, 0.6213505662834633, 0.6356887863679783, 0.6576374225508546, 0.59290504910513, 0.5, 0.6003957567570527, 0.5448815484212118, 0.6567076138410848, 0.6530126558251247, 0.5, 0.651418569045516, 0.6473458880662742, 0.652243806099743, 0.656999281367527, 0.5, 0.6252190241752899, 0.5481159860265341, 0.657583358250535, 0.6491704577374555, 0.6522851443919588, 0.6379248128810333, 0.6536948349138653, 0.6570306081560525, 0.6213505662834633, 0.5971490072947003, 0.6610437611706018, 0.6563050000751046, 0.6580277872455141, 0.647363634443933, 0.6504493297314273, 0.6589292356218968]}, {\"categories\": [\"0\", \"1\", \"2\", \"3\", \"4\", \"5\", \"6\", \"7\", \"8\", \"9\", \"10\", \"11\", \"12\", \"13\", \"14\", \"15\", \"16\", \"17\", \"18\", \"19\", \"20\", \"21\", \"22\", \"23\", \"24\", \"25\", \"26\", \"27\", \"28\", \"29\", \"30\", \"31\", \"32\", \"33\", \"34\", \"35\", \"36\", \"37\", \"38\", \"39\", \"40\", \"41\", \"42\", \"43\", \"44\", \"45\", \"46\", \"47\", \"48\", \"49\", \"50\", \"51\", \"52\", \"53\", \"54\", \"55\", \"58\"], \"mode\": \"lines\", \"name\": \"balanced_accuracy_max\", \"stepped\": true, \"type\": \"scatter\", \"data\": [0.660956815517458, 0.660956815517458, 0.660956815517458, 0.660956815517458, 0.7112574029535685, 0.7112574029535685, 0.7112574029535685, 0.7112574029535685, 0.7112574029535685, 0.7112574029535685, 0.7112574029535685, 0.7112574029535685, 0.7112574029535685, 0.7112574029535685, 0.7112574029535685, 0.7112574029535685, 0.7112574029535685, 0.7112574029535685, 0.7112574029535685, 0.7112574029535685, 0.7112574029535685, 0.7112574029535685, 0.7112574029535685, 0.7112574029535685, 0.7112574029535685, 0.7112574029535685, 0.7112574029535685, 0.7112574029535685, 0.7112574029535685, 0.7112574029535685, 0.7112574029535685, 0.7112574029535685, 0.7112574029535685, 0.7112574029535685, 0.7112574029535685, 0.7112574029535685, 0.7112574029535685, 0.7112574029535685, 0.7112574029535685, 0.7112574029535685, 0.7112574029535685, 0.7112574029535685, 0.7112574029535685, 0.7112574029535685, 0.7112574029535685, 0.7112574029535685, 0.7112574029535685, 0.7112574029535685, 0.7112574029535685, 0.7112574029535685, 0.7112574029535685, 0.7112574029535685, 0.7112574029535685, 0.7112574029535685, 0.7112574029535685, 0.7112574029535685, 0.7112574029535685]}], \"average_precision_score_weighted\": [{\"categories\": [\"0\", \"1\", \"2\", \"3\", \"4\", \"5\", \"6\", \"7\", \"8\", \"9\", \"10\", \"11\", \"12\", \"13\", \"14\", \"15\", \"16\", \"17\", \"18\", \"19\", \"20\", \"21\", \"22\", \"23\", \"24\", \"25\", \"26\", \"27\", \"28\", \"29\", \"30\", \"31\", \"32\", \"33\", \"34\", \"35\", \"36\", \"37\", \"38\", \"39\", \"40\", \"41\", \"42\", \"43\", \"44\", \"45\", \"46\", \"47\", \"48\", \"49\", \"50\", \"51\", \"52\", \"53\", \"54\", \"55\", \"58\"], \"mode\": \"markers\", \"name\": \"average_precision_score_weighted\", \"stepped\": false, \"type\": \"scatter\", \"data\": [0.8334555720229397, 0.8340684189527541, 0.8231110696899329, 0.8144778150031855, 0.8238482925937549, 0.811835983979378, 0.8208505945269592, 0.83498494164635, 0.8328389098349609, 0.8334809746735551, 0.8314234199422947, 0.8342019068225595, 0.8265051018927189, 0.8036486885030356, 0.8216874464476303, 0.8137425104812175, 0.8190609640419877, 0.8167682995147796, 0.8249498460768704, 0.8087241301861685, 0.819278011123909, 0.8118240279079783, 0.8215861091535553, 0.8217114163037825, 0.817388419161267, 0.8177493297912047, 0.8105937106689215, 0.8301886540245148, 0.8355002210528641, 0.8256961260144738, 0.7927725801218132, 0.8217685370867653, 0.8231717197535334, 0.8354606025040467, 0.8335899387284967, 0.808207462330306, 0.8321975663721559, 0.831149674375205, 0.8329992246239171, 0.8348691226803202, 0.8152904669476349, 0.8221685522703034, 0.8103674850964079, 0.8339538227341112, 0.832013987802529, 0.8351984082333725, 0.828039232446486, 0.8179641855400485, 0.8215535753541308, 0.8128661517542184, 0.8221588671146826, 0.8316940734503929, 0.8317669008438608, 0.8271153405041489, 0.8279513413640283, 0.8307462707964192, 0.8398767799247577]}, {\"categories\": [\"0\", \"1\", \"2\", \"3\", \"4\", \"5\", \"6\", \"7\", \"8\", \"9\", \"10\", \"11\", \"12\", \"13\", \"14\", \"15\", \"16\", \"17\", \"18\", \"19\", \"20\", \"21\", \"22\", \"23\", \"24\", \"25\", \"26\", \"27\", \"28\", \"29\", \"30\", \"31\", \"32\", \"33\", \"34\", \"35\", \"36\", \"37\", \"38\", \"39\", \"40\", \"41\", \"42\", \"43\", \"44\", \"45\", \"46\", \"47\", \"48\", \"49\", \"50\", \"51\", \"52\", \"53\", \"54\", \"55\", \"58\"], \"mode\": \"lines\", \"name\": \"average_precision_score_weighted_max\", \"stepped\": true, \"type\": \"scatter\", \"data\": [0.8334555720229397, 0.8340684189527541, 0.8340684189527541, 0.8340684189527541, 0.8340684189527541, 0.8340684189527541, 0.8340684189527541, 0.83498494164635, 0.83498494164635, 0.83498494164635, 0.83498494164635, 0.83498494164635, 0.83498494164635, 0.83498494164635, 0.83498494164635, 0.83498494164635, 0.83498494164635, 0.83498494164635, 0.83498494164635, 0.83498494164635, 0.83498494164635, 0.83498494164635, 0.83498494164635, 0.83498494164635, 0.83498494164635, 0.83498494164635, 0.83498494164635, 0.83498494164635, 0.8355002210528641, 0.8355002210528641, 0.8355002210528641, 0.8355002210528641, 0.8355002210528641, 0.8355002210528641, 0.8355002210528641, 0.8355002210528641, 0.8355002210528641, 0.8355002210528641, 0.8355002210528641, 0.8355002210528641, 0.8355002210528641, 0.8355002210528641, 0.8355002210528641, 0.8355002210528641, 0.8355002210528641, 0.8355002210528641, 0.8355002210528641, 0.8355002210528641, 0.8355002210528641, 0.8355002210528641, 0.8355002210528641, 0.8355002210528641, 0.8355002210528641, 0.8355002210528641, 0.8355002210528641, 0.8355002210528641, 0.8398767799247577]}], \"AUC_micro\": [{\"categories\": [\"0\", \"1\", \"2\", \"3\", \"4\", \"5\", \"6\", \"7\", \"8\", \"9\", \"10\", \"11\", \"12\", \"13\", \"14\", \"15\", \"16\", \"17\", \"18\", \"19\", \"20\", \"21\", \"22\", \"23\", \"24\", \"25\", \"26\", \"27\", \"28\", \"29\", \"30\", \"31\", \"32\", \"33\", \"34\", \"35\", \"36\", \"37\", \"38\", \"39\", \"40\", \"41\", \"42\", \"43\", \"44\", \"45\", \"46\", \"47\", \"48\", \"49\", \"50\", \"51\", \"52\", \"53\", \"54\", \"55\", \"58\"], \"mode\": \"markers\", \"name\": \"AUC_micro\", \"stepped\": false, \"type\": \"scatter\", \"data\": [0.8833385288888889, 0.8832266777777779, 0.8742642355555557, 0.8688149333333333, 0.8019464222222222, 0.7915255777777779, 0.8749634666666667, 0.8833069444444445, 0.8814955644444445, 0.8826559133333334, 0.8811563488888889, 0.8824978044444444, 0.8782067911111111, 0.870306648888889, 0.8765496222222222, 0.8702791777777777, 0.8750647511111111, 0.8726969866666667, 0.8773955333333334, 0.8671577911111111, 0.8702773066666667, 0.8726286444444443, 0.8765413555555556, 0.80896604, 0.8731941822222222, 0.8702550488888889, 0.8699042755555556, 0.8805661688888891, 0.8834417755555555, 0.8760526222222222, 0.8583793733333333, 0.8751383688888889, 0.87205088, 0.8832459844444444, 0.8826867755555555, 0.8646786622222222, 0.8822310755555556, 0.8815414044444444, 0.8820459333333335, 0.8825172022222222, 0.8677150666666666, 0.8763670177777777, 0.8687509155555555, 0.8827833377777778, 0.8810086155555557, 0.8834418, 0.8782021844444443, 0.8717181955555555, 0.8732797866666667, 0.8738623288888889, 0.87533532, 0.8804480866666666, 0.8814358022222222, 0.8773359377777777, 0.8801360177777777, 0.8818005688888889, 0.8856852888888889]}, {\"categories\": [\"0\", \"1\", \"2\", \"3\", \"4\", \"5\", \"6\", \"7\", \"8\", \"9\", \"10\", \"11\", \"12\", \"13\", \"14\", \"15\", \"16\", \"17\", \"18\", \"19\", \"20\", \"21\", \"22\", \"23\", \"24\", \"25\", \"26\", \"27\", \"28\", \"29\", \"30\", \"31\", \"32\", \"33\", \"34\", \"35\", \"36\", \"37\", \"38\", \"39\", \"40\", \"41\", \"42\", \"43\", \"44\", \"45\", \"46\", \"47\", \"48\", \"49\", \"50\", \"51\", \"52\", \"53\", \"54\", \"55\", \"58\"], \"mode\": \"lines\", \"name\": \"AUC_micro_max\", \"stepped\": true, \"type\": \"scatter\", \"data\": [0.8833385288888889, 0.8833385288888889, 0.8833385288888889, 0.8833385288888889, 0.8833385288888889, 0.8833385288888889, 0.8833385288888889, 0.8833385288888889, 0.8833385288888889, 0.8833385288888889, 0.8833385288888889, 0.8833385288888889, 0.8833385288888889, 0.8833385288888889, 0.8833385288888889, 0.8833385288888889, 0.8833385288888889, 0.8833385288888889, 0.8833385288888889, 0.8833385288888889, 0.8833385288888889, 0.8833385288888889, 0.8833385288888889, 0.8833385288888889, 0.8833385288888889, 0.8833385288888889, 0.8833385288888889, 0.8833385288888889, 0.8834417755555555, 0.8834417755555555, 0.8834417755555555, 0.8834417755555555, 0.8834417755555555, 0.8834417755555555, 0.8834417755555555, 0.8834417755555555, 0.8834417755555555, 0.8834417755555555, 0.8834417755555555, 0.8834417755555555, 0.8834417755555555, 0.8834417755555555, 0.8834417755555555, 0.8834417755555555, 0.8834417755555555, 0.8834418, 0.8834418, 0.8834418, 0.8834418, 0.8834418, 0.8834418, 0.8834418, 0.8834418, 0.8834418, 0.8834418, 0.8834418, 0.8856852888888889]}]}, \"metricName\": null, \"primaryMetricName\": \"accuracy\", \"showLegend\": false}, \"run_metrics\": [{\"name\": \"experiment_status\", \"run_id\": \"AutoML_e11d8e10-66de-47f1-ab0d-a1bb5f94d310\", \"categories\": [0, 1, 2, 3, 4, 5, 6, 7, 8, 9, 10, 11, 12, 13], \"series\": [{\"data\": [\"DatasetEvaluation\", \"FeaturesGeneration\", \"DatasetFeaturization\", \"DatasetFeaturizationCompleted\", \"DatasetCrossValidationSplit\", \"ModelSelection\", \"BestRunExplainModel\", \"ModelExplanationDataSetSetup\", \"PickSurrogateModel\", \"EngineeredFeatureExplanations\", \"EngineeredFeatureExplanations\", \"RawFeaturesExplanations\", \"RawFeaturesExplanations\", \"BestRunExplainModel\"]}]}, {\"name\": \"experiment_status_description\", \"run_id\": \"AutoML_e11d8e10-66de-47f1-ab0d-a1bb5f94d310\", \"categories\": [0, 1, 2, 3, 4, 5, 6, 7, 8, 9, 10, 11, 12, 13], \"series\": [{\"data\": [\"Gathering dataset statistics.\", \"Generating features for the dataset.\", \"Beginning to fit featurizers and featurize the dataset.\", \"Completed fit featurizers and featurizing the dataset.\", \"Generating individually featurized CV splits.\", \"Beginning model selection.\", \"Best run model explanations started\", \"Model explanations data setup completed\", \"Choosing LightGBM as the surrogate model for explanations\", \"Computation of engineered features started\", \"Computation of engineered features completed\", \"Computation of raw features started\", \"Computation of raw features completed\", \"Best run model explanations completed\"]}]}, {\"name\": \"precision_score_weighted\", \"run_id\": \"AutoML_e11d8e10-66de-47f1-ab0d-a1bb5f94d310\", \"categories\": [0], \"series\": [{\"data\": [0.8067262255728733]}]}, {\"name\": \"f1_score_weighted\", \"run_id\": \"AutoML_e11d8e10-66de-47f1-ab0d-a1bb5f94d310\", \"categories\": [0], \"series\": [{\"data\": [0.8010161756924329]}]}, {\"name\": \"log_loss\", \"run_id\": \"AutoML_e11d8e10-66de-47f1-ab0d-a1bb5f94d310\", \"categories\": [0], \"series\": [{\"data\": [0.42496382301240343]}]}, {\"name\": \"matthews_correlation\", \"run_id\": \"AutoML_e11d8e10-66de-47f1-ab0d-a1bb5f94d310\", \"categories\": [0], \"series\": [{\"data\": [0.4092127727707982]}]}, {\"name\": \"norm_macro_recall\", \"run_id\": \"AutoML_e11d8e10-66de-47f1-ab0d-a1bb5f94d310\", \"categories\": [0], \"series\": [{\"data\": [0.31785847124379357]}]}, {\"name\": \"weighted_accuracy\", \"run_id\": \"AutoML_e11d8e10-66de-47f1-ab0d-a1bb5f94d310\", \"categories\": [0], \"series\": [{\"data\": [0.908591195206147]}]}, {\"name\": \"AUC_macro\", \"run_id\": \"AutoML_e11d8e10-66de-47f1-ab0d-a1bb5f94d310\", \"categories\": [0], \"series\": [{\"data\": [0.787772219708421]}]}, {\"name\": \"recall_score_weighted\", \"run_id\": \"AutoML_e11d8e10-66de-47f1-ab0d-a1bb5f94d310\", \"categories\": [0], \"series\": [{\"data\": [0.8225666666666667]}]}, {\"name\": \"f1_score_micro\", \"run_id\": \"AutoML_e11d8e10-66de-47f1-ab0d-a1bb5f94d310\", \"categories\": [0], \"series\": [{\"data\": [0.8225666666666667]}]}, {\"name\": \"accuracy\", \"run_id\": \"AutoML_e11d8e10-66de-47f1-ab0d-a1bb5f94d310\", \"categories\": [0], \"series\": [{\"data\": [0.8225666666666667]}]}, {\"name\": \"recall_score_micro\", \"run_id\": \"AutoML_e11d8e10-66de-47f1-ab0d-a1bb5f94d310\", \"categories\": [0], \"series\": [{\"data\": [0.8225666666666667]}]}, {\"name\": \"recall_score_macro\", \"run_id\": \"AutoML_e11d8e10-66de-47f1-ab0d-a1bb5f94d310\", \"categories\": [0], \"series\": [{\"data\": [0.6589292356218968]}]}, {\"name\": \"f1_score_macro\", \"run_id\": \"AutoML_e11d8e10-66de-47f1-ab0d-a1bb5f94d310\", \"categories\": [0], \"series\": [{\"data\": [0.6848706132502604]}]}, {\"name\": \"precision_score_macro\", \"run_id\": \"AutoML_e11d8e10-66de-47f1-ab0d-a1bb5f94d310\", \"categories\": [0], \"series\": [{\"data\": [0.7635345892688461]}]}, {\"name\": \"average_precision_score_weighted\", \"run_id\": \"AutoML_e11d8e10-66de-47f1-ab0d-a1bb5f94d310\", \"categories\": [0], \"series\": [{\"data\": [0.8398767799247577]}]}, {\"name\": \"balanced_accuracy\", \"run_id\": \"AutoML_e11d8e10-66de-47f1-ab0d-a1bb5f94d310\", \"categories\": [0], \"series\": [{\"data\": [0.6589292356218968]}]}, {\"name\": \"AUC_weighted\", \"run_id\": \"AutoML_e11d8e10-66de-47f1-ab0d-a1bb5f94d310\", \"categories\": [0], \"series\": [{\"data\": [0.7877722126322521]}]}, {\"name\": \"AUC_micro\", \"run_id\": \"AutoML_e11d8e10-66de-47f1-ab0d-a1bb5f94d310\", \"categories\": [0], \"series\": [{\"data\": [0.8856852888888889]}]}, {\"name\": \"precision_score_micro\", \"run_id\": \"AutoML_e11d8e10-66de-47f1-ab0d-a1bb5f94d310\", \"categories\": [0], \"series\": [{\"data\": [0.8225666666666667]}]}, {\"name\": \"average_precision_score_macro\", \"run_id\": \"AutoML_e11d8e10-66de-47f1-ab0d-a1bb5f94d310\", \"categories\": [0], \"series\": [{\"data\": [0.7426551665695387]}]}, {\"name\": \"average_precision_score_micro\", \"run_id\": \"AutoML_e11d8e10-66de-47f1-ab0d-a1bb5f94d310\", \"categories\": [0], \"series\": [{\"data\": [0.8779486873416391]}]}], \"run_logs\": \"\\nRun is completed.\", \"graph\": {}, \"widget_settings\": {\"childWidgetDisplay\": \"popup\", \"send_telemetry\": false, \"log_level\": \"INFO\", \"sdk_version\": \"1.20.0\"}, \"loading\": false}"
     },
     "metadata": {},
     "output_type": "display_data"
    },
    {
     "name": "stdout",
     "output_type": "stream",
     "text": [
      "\n",
      "Current status: FeaturesGeneration. Generating features for the dataset.\n",
      "Current status: DatasetFeaturization. Beginning to fit featurizers and featurize the dataset.\n",
      "Current status: DatasetCrossValidationSplit. Generating individually featurized CV splits.\n",
      "Current status: ModelSelection. Beginning model selection.\n",
      "\n",
      "****************************************************************************************************\n",
      "DATA GUARDRAILS: \n",
      "\n",
      "TYPE:         Class balancing detection\n",
      "STATUS:       PASSED\n",
      "DESCRIPTION:  Your inputs were analyzed, and all classes are balanced in your training data.\n",
      "              Learn more about imbalanced data: https://aka.ms/AutomatedMLImbalancedData\n",
      "\n",
      "****************************************************************************************************\n",
      "\n",
      "TYPE:         Missing feature values imputation\n",
      "STATUS:       PASSED\n",
      "DESCRIPTION:  No feature missing values were detected in the training data.\n",
      "              Learn more about missing value imputation: https://aka.ms/AutomatedMLFeaturization\n",
      "\n",
      "****************************************************************************************************\n",
      "\n",
      "TYPE:         High cardinality feature detection\n",
      "STATUS:       PASSED\n",
      "DESCRIPTION:  Your inputs were analyzed, and no high cardinality features were detected.\n",
      "              Learn more about high cardinality feature handling: https://aka.ms/AutomatedMLFeaturization\n",
      "\n",
      "****************************************************************************************************\n",
      "\n",
      "****************************************************************************************************\n",
      "ITERATION: The iteration being evaluated.\n",
      "PIPELINE: A summary description of the pipeline being evaluated.\n",
      "DURATION: Time taken for the current iteration.\n",
      "METRIC: The result of computing score on the fitted pipeline.\n",
      "BEST: The best observed score thus far.\n",
      "****************************************************************************************************\n",
      "\n",
      " ITERATION   PIPELINE                                       DURATION      METRIC      BEST\n",
      "         0   MaxAbsScaler LightGBM                          0:01:09       0.8211    0.8211\n",
      "         3   MaxAbsScaler RandomForest                      0:01:13       0.7901    0.8211\n",
      "         4   MaxAbsScaler RandomForest                      0:01:20       0.7553    0.8211\n",
      "         1   MaxAbsScaler XGBoostClassifier                 0:01:45       0.8201    0.8211\n",
      "         5   MaxAbsScaler RandomForest                      0:00:59       0.7530    0.8211\n",
      "         2   MaxAbsScaler RandomForest                      0:01:11       0.8017    0.8211\n",
      "         6   TruncatedSVDWrapper XGBoostClassifier          0:01:16       0.8155    0.8211\n",
      "         7   SparseNormalizer XGBoostClassifier             0:01:41       0.8194    0.8211\n",
      "        10   SparseNormalizer XGBoostClassifier             0:01:27       0.8191    0.8211\n",
      "         8   SparseNormalizer XGBoostClassifier             0:01:44       0.8188    0.8211\n",
      "         9   SparseNormalizer XGBoostClassifier             0:01:58       0.8200    0.8211\n",
      "        13   SparseNormalizer XGBoostClassifier             0:01:07       0.8073    0.8211\n",
      "        12   StandardScalerWrapper RandomForest             0:01:27       0.8139    0.8211\n",
      "        11   SparseNormalizer XGBoostClassifier             0:02:19       0.8196    0.8211\n",
      "        14   MaxAbsScaler LogisticRegression                0:01:16       0.8204    0.8211\n",
      "        16   MaxAbsScaler LightGBM                          0:01:23       0.8067    0.8211\n",
      "        18   SparseNormalizer LightGBM                      0:01:17       0.8116    0.8211\n",
      "        19   StandardScalerWrapper LightGBM                 0:01:26       0.7788    0.8211\n",
      "        20   MaxAbsScaler RandomForest                      0:01:20       0.7903    0.8211\n",
      "        15   MaxAbsScaler ExtremeRandomTrees                0:03:16       0.8113    0.8211\n",
      "        17   MaxAbsScaler ExtremeRandomTrees                0:03:18       0.8133    0.8211\n",
      "        21   MaxAbsScaler LightGBM                          0:01:14       0.8047    0.8211\n",
      "        22   MaxAbsScaler LogisticRegression                0:01:08       0.8200    0.8211\n",
      "        23   MaxAbsScaler LogisticRegression                0:01:09       0.7747    0.8211\n",
      "        24   MaxAbsScaler ExtremeRandomTrees                0:01:41       0.8143    0.8211\n",
      "        25   MaxAbsScaler LightGBM                          0:01:05       0.7916    0.8211\n",
      "        27   SparseNormalizer LightGBM                      0:01:24       0.8145    0.8211\n",
      "        26   StandardScalerWrapper ExtremeRandomTrees       0:01:40       0.8128    0.8211\n",
      "        28   SparseNormalizer XGBoostClassifier             0:01:11       0.8204    0.8211\n",
      "        29   MaxAbsScaler LightGBM                          0:01:03       0.8067    0.8211\n",
      "        30   StandardScalerWrapper LightGBM                 0:01:29       0.7788    0.8211\n",
      "        31   SparseNormalizer GradientBoosting              0:01:19       0.8056    0.8211\n",
      "        32   SparseNormalizer RandomForest                  0:01:33       0.7930    0.8211\n",
      "        33   SparseNormalizer XGBoostClassifier             0:01:28       0.8196    0.8211\n",
      "        34   SparseNormalizer XGBoostClassifier             0:01:30       0.8203    0.8211\n",
      "        35   SparseNormalizer LightGBM                      0:01:18       0.7788    0.8211\n",
      "        36   SparseNormalizer LightGBM                      0:01:12       0.8174    0.8211\n",
      "        37   MaxAbsScaler LightGBM                          0:01:03       0.8179    0.8211\n",
      "        38   SparseNormalizer XGBoostClassifier             0:01:22       0.8206    0.8211\n",
      "        40   SparseNormalizer LightGBM                      0:01:04       0.7788    0.8211\n",
      "        39   SparseNormalizer XGBoostClassifier             0:01:35       0.8193    0.8211\n",
      "        42   StandardScalerWrapper LightGBM                 0:01:22       0.7911    0.8211\n",
      "        43   SparseNormalizer XGBoostClassifier             0:01:16       0.8205    0.8211\n",
      "        41   MaxAbsScaler GradientBoosting                  0:01:37       0.8074    0.8211\n",
      "        44   TruncatedSVDWrapper XGBoostClassifier          0:01:25       0.8181    0.8211\n",
      "        45   SparseNormalizer LightGBM                      0:01:10       0.8188    0.8211\n",
      "        46   TruncatedSVDWrapper XGBoostClassifier          0:01:08       0.8172    0.8211\n",
      "        49   MaxAbsScaler ExtremeRandomTrees                0:01:32       0.8128    0.8211\n",
      "        48   SparseNormalizer XGBoostClassifier             0:02:09       0.8127    0.8211\n",
      "        50   MaxAbsScaler LightGBM                          0:01:11       0.8070    0.8211\n",
      "        51   SparseNormalizer XGBoostClassifier             0:04:02       0.8194    0.8211\n",
      "        47   SparseNormalizer XGBoostClassifier             0:06:19       0.8095    0.8211\n",
      "        52   SparseNormalizer XGBoostClassifier             0:04:06       0.8173    0.8211\n",
      "        54   MaxAbsScaler LightGBM                          0:01:05       0.8162    0.8211\n",
      "        53   SparseNormalizer XGBoostClassifier             0:04:51       0.8155    0.8211\n",
      "ERROR: {\n",
      "    \"additional_properties\": {},\n",
      "    \"error\": {\n",
      "        \"additional_properties\": {\n",
      "            \"debugInfo\": null\n",
      "        },\n",
      "        \"code\": \"UserError\",\n",
      "        \"severity\": null,\n",
      "        \"message\": \"Experiment timeout reached, please consider increasing your experiment timeout.\",\n",
      "        \"message_format\": \"Experiment timeout reached, please consider increasing your experiment timeout.\",\n",
      "        \"message_parameters\": {},\n",
      "        \"reference_code\": null,\n",
      "        \"details_uri\": null,\n",
      "        \"target\": null,\n",
      "        \"details\": [],\n",
      "        \"inner_error\": {\n",
      "            \"additional_properties\": {},\n",
      "            \"code\": \"ResourceExhausted\",\n",
      "            \"inner_error\": {\n",
      "                \"additional_properties\": {},\n",
      "                \"code\": \"Timeout\",\n",
      "                \"inner_error\": {\n",
      "                    \"additional_properties\": {},\n",
      "                    \"code\": \"ExperimentTimeoutForIterations\",\n",
      "                    \"inner_error\": null\n",
      "                }\n",
      "            }\n",
      "        }\n",
      "    },\n",
      "    \"correlation\": null,\n",
      "    \"environment\": null,\n",
      "    \"location\": null,\n",
      "    \"time\": {},\n",
      "    \"component_name\": null\n",
      "}\n",
      "        55   SparseNormalizer LightGBM                      0:00:53       0.8172    0.8211\n",
      "ERROR: {\n",
      "    \"additional_properties\": {},\n",
      "    \"error\": {\n",
      "        \"additional_properties\": {\n",
      "            \"debugInfo\": null\n",
      "        },\n",
      "        \"code\": \"UserError\",\n",
      "        \"severity\": null,\n",
      "        \"message\": \"Experiment timeout reached, please consider increasing your experiment timeout.\",\n",
      "        \"message_format\": \"Experiment timeout reached, please consider increasing your experiment timeout.\",\n",
      "        \"message_parameters\": {},\n",
      "        \"reference_code\": null,\n",
      "        \"details_uri\": null,\n",
      "        \"target\": null,\n",
      "        \"details\": [],\n",
      "        \"inner_error\": {\n",
      "            \"additional_properties\": {},\n",
      "            \"code\": \"ResourceExhausted\",\n",
      "            \"inner_error\": {\n",
      "                \"additional_properties\": {},\n",
      "                \"code\": \"Timeout\",\n",
      "                \"inner_error\": {\n",
      "                    \"additional_properties\": {},\n",
      "                    \"code\": \"ExperimentTimeoutForIterations\",\n",
      "                    \"inner_error\": null\n",
      "                }\n",
      "            }\n",
      "        }\n",
      "    },\n",
      "    \"correlation\": null,\n",
      "    \"environment\": null,\n",
      "    \"location\": null,\n",
      "    \"time\": {},\n",
      "    \"component_name\": null\n",
      "}\n",
      "        56   SparseNormalizer XGBoostClassifier             0:00:39          nan    0.8211\n",
      "ERROR: {\n",
      "    \"additional_properties\": {},\n",
      "    \"error\": {\n",
      "        \"additional_properties\": {\n",
      "            \"debugInfo\": null\n",
      "        },\n",
      "        \"code\": \"UserError\",\n",
      "        \"severity\": null,\n",
      "        \"message\": \"Experiment timeout reached, please consider increasing your experiment timeout.\",\n",
      "        \"message_format\": \"Experiment timeout reached, please consider increasing your experiment timeout.\",\n",
      "        \"message_parameters\": {},\n",
      "        \"reference_code\": null,\n",
      "        \"details_uri\": null,\n",
      "        \"target\": null,\n",
      "        \"details\": [],\n",
      "        \"inner_error\": {\n",
      "            \"additional_properties\": {},\n",
      "            \"code\": \"ResourceExhausted\",\n",
      "            \"inner_error\": {\n",
      "                \"additional_properties\": {},\n",
      "                \"code\": \"Timeout\",\n",
      "                \"inner_error\": {\n",
      "                    \"additional_properties\": {},\n",
      "                    \"code\": \"ExperimentTimeoutForIterations\",\n",
      "                    \"inner_error\": null\n",
      "                }\n",
      "            }\n",
      "        }\n",
      "    },\n",
      "    \"correlation\": null,\n",
      "    \"environment\": null,\n",
      "    \"location\": null,\n",
      "    \"time\": {},\n",
      "    \"component_name\": null\n",
      "}\n",
      "        57                                                  0:00:08          nan    0.8211\n",
      "ERROR: {\n",
      "    \"additional_properties\": {},\n",
      "    \"error\": {\n",
      "        \"additional_properties\": {\n",
      "            \"debugInfo\": null\n",
      "        },\n",
      "        \"code\": \"UserError\",\n",
      "        \"severity\": null,\n",
      "        \"message\": \"Experiment timeout reached, please consider increasing your experiment timeout.\",\n",
      "        \"message_format\": \"Experiment timeout reached, please consider increasing your experiment timeout.\",\n",
      "        \"message_parameters\": {},\n",
      "        \"reference_code\": null,\n",
      "        \"details_uri\": null,\n",
      "        \"target\": null,\n",
      "        \"details\": [],\n",
      "        \"inner_error\": {\n",
      "            \"additional_properties\": {},\n",
      "            \"code\": \"ResourceExhausted\",\n",
      "            \"inner_error\": {\n",
      "                \"additional_properties\": {},\n",
      "                \"code\": \"Timeout\",\n",
      "                \"inner_error\": {\n",
      "                    \"additional_properties\": {},\n",
      "                    \"code\": \"ExperimentTimeoutForIterations\",\n",
      "                    \"inner_error\": null\n",
      "                }\n",
      "            }\n",
      "        }\n",
      "    },\n",
      "    \"correlation\": null,\n",
      "    \"environment\": null,\n",
      "    \"location\": null,\n",
      "    \"time\": {},\n",
      "    \"component_name\": null\n",
      "}\n",
      "        58    VotingEnsemble                                0:02:20       0.8226    0.8226\n"
     ]
    },
    {
     "data": {
      "text/plain": [
       "{'runId': 'AutoML_e11d8e10-66de-47f1-ab0d-a1bb5f94d310',\n",
       " 'target': 'Saadcompute',\n",
       " 'status': 'Completed',\n",
       " 'startTimeUtc': '2021-01-29T15:15:43.835907Z',\n",
       " 'endTimeUtc': '2021-01-29T15:50:10.677994Z',\n",
       " 'properties': {'num_iterations': '1000',\n",
       "  'training_type': 'TrainFull',\n",
       "  'acquisition_function': 'EI',\n",
       "  'primary_metric': 'accuracy',\n",
       "  'train_split': '0',\n",
       "  'acquisition_parameter': '0',\n",
       "  'num_cross_validation': '4',\n",
       "  'target': 'Saadcompute',\n",
       "  'AMLSettingsJsonString': '{\"path\":null,\"name\":\"AzureCapstone\",\"subscription_id\":\"9e65f93e-bdd8-437b-b1e8-0647cd6098f7\",\"resource_group\":\"aml-quickstarts-136503\",\"workspace_name\":\"quick-starts-ws-136503\",\"region\":\"southcentralus\",\"compute_target\":\"Saadcompute\",\"spark_service\":null,\"azure_service\":\"remote\",\"many_models\":false,\"pipeline_fetch_max_batch_size\":1,\"iterations\":1000,\"primary_metric\":\"accuracy\",\"task_type\":\"classification\",\"data_script\":null,\"validation_size\":0.0,\"n_cross_validations\":4,\"y_min\":null,\"y_max\":null,\"num_classes\":null,\"featurization\":\"auto\",\"_ignore_package_version_incompatibilities\":false,\"is_timeseries\":false,\"max_cores_per_iteration\":1,\"max_concurrent_iterations\":5,\"iteration_timeout_minutes\":null,\"mem_in_mb\":null,\"enforce_time_on_windows\":false,\"experiment_timeout_minutes\":25,\"experiment_exit_score\":null,\"whitelist_models\":null,\"blacklist_algos\":[\"TensorFlowLinearClassifier\",\"TensorFlowDNN\"],\"supported_models\":[\"GradientBoosting\",\"MultinomialNaiveBayes\",\"LightGBM\",\"BernoulliNaiveBayes\",\"ExtremeRandomTrees\",\"XGBoostClassifier\",\"AveragedPerceptronClassifier\",\"KNN\",\"LogisticRegression\",\"LinearSVM\",\"TensorFlowDNN\",\"DecisionTree\",\"TensorFlowLinearClassifier\",\"SVM\",\"SGD\",\"RandomForest\"],\"auto_blacklist\":true,\"blacklist_samples_reached\":false,\"exclude_nan_labels\":true,\"verbosity\":20,\"_debug_log\":\"azureml_automl.log\",\"show_warnings\":false,\"model_explainability\":true,\"service_url\":null,\"sdk_url\":null,\"sdk_packages\":null,\"enable_onnx_compatible_models\":true,\"enable_split_onnx_featurizer_estimator_models\":false,\"vm_type\":\"STANDARD_DS2_V2\",\"telemetry_verbosity\":20,\"send_telemetry\":true,\"enable_dnn\":false,\"scenario\":\"SDK-1.13.0\",\"environment_label\":null,\"force_text_dnn\":false,\"enable_feature_sweeping\":false,\"enable_early_stopping\":false,\"early_stopping_n_iters\":10,\"metrics\":null,\"enable_ensembling\":true,\"enable_stack_ensembling\":false,\"ensemble_iterations\":15,\"enable_tf\":false,\"enable_subsampling\":null,\"subsample_seed\":null,\"enable_nimbusml\":false,\"enable_streaming\":false,\"force_streaming\":false,\"track_child_runs\":true,\"allowed_private_models\":[],\"label_column_name\":\"default payment next month\",\"weight_column_name\":null,\"cv_split_column_names\":null,\"enable_local_managed\":false,\"_local_managed_run_id\":null,\"cost_mode\":1,\"lag_length\":0,\"metric_operation\":\"maximize\",\"preprocess\":true}',\n",
       "  'DataPrepJsonString': '{\\\\\"training_data\\\\\": \\\\\"{\\\\\\\\\\\\\"blocks\\\\\\\\\\\\\": [{\\\\\\\\\\\\\"id\\\\\\\\\\\\\": \\\\\\\\\\\\\"6d1413de-892d-4640-a163-8eecbea7392d\\\\\\\\\\\\\", \\\\\\\\\\\\\"type\\\\\\\\\\\\\": \\\\\\\\\\\\\"Microsoft.DPrep.GetFilesBlock\\\\\\\\\\\\\", \\\\\\\\\\\\\"arguments\\\\\\\\\\\\\": {\\\\\\\\\\\\\"isArchive\\\\\\\\\\\\\": false, \\\\\\\\\\\\\"path\\\\\\\\\\\\\": {\\\\\\\\\\\\\"target\\\\\\\\\\\\\": 4, \\\\\\\\\\\\\"resourceDetails\\\\\\\\\\\\\": [{\\\\\\\\\\\\\"path\\\\\\\\\\\\\": \\\\\\\\\\\\\"https://raw.githubusercontent.com/SaadMuhammad/Azure_Capstone/main/default_credit_clients1.csv\\\\\\\\\\\\\"}]}}, \\\\\\\\\\\\\"localData\\\\\\\\\\\\\": {}, \\\\\\\\\\\\\"isEnabled\\\\\\\\\\\\\": true, \\\\\\\\\\\\\"name\\\\\\\\\\\\\": null, \\\\\\\\\\\\\"annotation\\\\\\\\\\\\\": null}, {\\\\\\\\\\\\\"id\\\\\\\\\\\\\": \\\\\\\\\\\\\"005e6996-000b-4ad8-8ba9-45747f7bcc54\\\\\\\\\\\\\", \\\\\\\\\\\\\"type\\\\\\\\\\\\\": \\\\\\\\\\\\\"Microsoft.DPrep.ParseDelimitedBlock\\\\\\\\\\\\\", \\\\\\\\\\\\\"arguments\\\\\\\\\\\\\": {\\\\\\\\\\\\\"columnHeadersMode\\\\\\\\\\\\\": 3, \\\\\\\\\\\\\"fileEncoding\\\\\\\\\\\\\": 0, \\\\\\\\\\\\\"handleQuotedLineBreaks\\\\\\\\\\\\\": false, \\\\\\\\\\\\\"preview\\\\\\\\\\\\\": false, \\\\\\\\\\\\\"separator\\\\\\\\\\\\\": \\\\\\\\\\\\\",\\\\\\\\\\\\\", \\\\\\\\\\\\\"skipRows\\\\\\\\\\\\\": 0, \\\\\\\\\\\\\"skipRowsMode\\\\\\\\\\\\\": 0}, \\\\\\\\\\\\\"localData\\\\\\\\\\\\\": {}, \\\\\\\\\\\\\"isEnabled\\\\\\\\\\\\\": true, \\\\\\\\\\\\\"name\\\\\\\\\\\\\": null, \\\\\\\\\\\\\"annotation\\\\\\\\\\\\\": null}, {\\\\\\\\\\\\\"id\\\\\\\\\\\\\": \\\\\\\\\\\\\"a2ae7e60-eee5-46e1-8c9f-f3cbd430dd1b\\\\\\\\\\\\\", \\\\\\\\\\\\\"type\\\\\\\\\\\\\": \\\\\\\\\\\\\"Microsoft.DPrep.DropColumnsBlock\\\\\\\\\\\\\", \\\\\\\\\\\\\"arguments\\\\\\\\\\\\\": {\\\\\\\\\\\\\"columns\\\\\\\\\\\\\": {\\\\\\\\\\\\\"type\\\\\\\\\\\\\": 0, \\\\\\\\\\\\\"details\\\\\\\\\\\\\": {\\\\\\\\\\\\\"selectedColumns\\\\\\\\\\\\\": [\\\\\\\\\\\\\"Path\\\\\\\\\\\\\"]}}}, \\\\\\\\\\\\\"localData\\\\\\\\\\\\\": {}, \\\\\\\\\\\\\"isEnabled\\\\\\\\\\\\\": true, \\\\\\\\\\\\\"name\\\\\\\\\\\\\": null, \\\\\\\\\\\\\"annotation\\\\\\\\\\\\\": null}, {\\\\\\\\\\\\\"id\\\\\\\\\\\\\": \\\\\\\\\\\\\"de09d7b5-8889-457e-8a2d-ccdedc2996cb\\\\\\\\\\\\\", \\\\\\\\\\\\\"type\\\\\\\\\\\\\": \\\\\\\\\\\\\"Microsoft.DPrep.SetColumnTypesBlock\\\\\\\\\\\\\", \\\\\\\\\\\\\"arguments\\\\\\\\\\\\\": {\\\\\\\\\\\\\"columnConversion\\\\\\\\\\\\\": [{\\\\\\\\\\\\\"column\\\\\\\\\\\\\": {\\\\\\\\\\\\\"type\\\\\\\\\\\\\": 2, \\\\\\\\\\\\\"details\\\\\\\\\\\\\": {\\\\\\\\\\\\\"selectedColumn\\\\\\\\\\\\\": \\\\\\\\\\\\\"ID\\\\\\\\\\\\\"}}, \\\\\\\\\\\\\"typeProperty\\\\\\\\\\\\\": 2}, {\\\\\\\\\\\\\"column\\\\\\\\\\\\\": {\\\\\\\\\\\\\"type\\\\\\\\\\\\\": 2, \\\\\\\\\\\\\"details\\\\\\\\\\\\\": {\\\\\\\\\\\\\"selectedColumn\\\\\\\\\\\\\": \\\\\\\\\\\\\"LIMIT_BAL\\\\\\\\\\\\\"}}, \\\\\\\\\\\\\"typeProperty\\\\\\\\\\\\\": 2}, {\\\\\\\\\\\\\"column\\\\\\\\\\\\\": {\\\\\\\\\\\\\"type\\\\\\\\\\\\\": 2, \\\\\\\\\\\\\"details\\\\\\\\\\\\\": {\\\\\\\\\\\\\"selectedColumn\\\\\\\\\\\\\": \\\\\\\\\\\\\"SEX\\\\\\\\\\\\\"}}, \\\\\\\\\\\\\"typeProperty\\\\\\\\\\\\\": 2}, {\\\\\\\\\\\\\"column\\\\\\\\\\\\\": {\\\\\\\\\\\\\"type\\\\\\\\\\\\\": 2, \\\\\\\\\\\\\"details\\\\\\\\\\\\\": {\\\\\\\\\\\\\"selectedColumn\\\\\\\\\\\\\": \\\\\\\\\\\\\"EDUCATION\\\\\\\\\\\\\"}}, \\\\\\\\\\\\\"typeProperty\\\\\\\\\\\\\": 2}, {\\\\\\\\\\\\\"column\\\\\\\\\\\\\": {\\\\\\\\\\\\\"type\\\\\\\\\\\\\": 2, \\\\\\\\\\\\\"details\\\\\\\\\\\\\": {\\\\\\\\\\\\\"selectedColumn\\\\\\\\\\\\\": \\\\\\\\\\\\\"MARRIAGE\\\\\\\\\\\\\"}}, \\\\\\\\\\\\\"typeProperty\\\\\\\\\\\\\": 2}, {\\\\\\\\\\\\\"column\\\\\\\\\\\\\": {\\\\\\\\\\\\\"type\\\\\\\\\\\\\": 2, \\\\\\\\\\\\\"details\\\\\\\\\\\\\": {\\\\\\\\\\\\\"selectedColumn\\\\\\\\\\\\\": \\\\\\\\\\\\\"AGE\\\\\\\\\\\\\"}}, \\\\\\\\\\\\\"typeProperty\\\\\\\\\\\\\": 2}, {\\\\\\\\\\\\\"column\\\\\\\\\\\\\": {\\\\\\\\\\\\\"type\\\\\\\\\\\\\": 2, \\\\\\\\\\\\\"details\\\\\\\\\\\\\": {\\\\\\\\\\\\\"selectedColumn\\\\\\\\\\\\\": \\\\\\\\\\\\\"PAY_0\\\\\\\\\\\\\"}}, \\\\\\\\\\\\\"typeProperty\\\\\\\\\\\\\": 2}, {\\\\\\\\\\\\\"column\\\\\\\\\\\\\": {\\\\\\\\\\\\\"type\\\\\\\\\\\\\": 2, \\\\\\\\\\\\\"details\\\\\\\\\\\\\": {\\\\\\\\\\\\\"selectedColumn\\\\\\\\\\\\\": \\\\\\\\\\\\\"PAY_2\\\\\\\\\\\\\"}}, \\\\\\\\\\\\\"typeProperty\\\\\\\\\\\\\": 2}, {\\\\\\\\\\\\\"column\\\\\\\\\\\\\": {\\\\\\\\\\\\\"type\\\\\\\\\\\\\": 2, \\\\\\\\\\\\\"details\\\\\\\\\\\\\": {\\\\\\\\\\\\\"selectedColumn\\\\\\\\\\\\\": \\\\\\\\\\\\\"PAY_3\\\\\\\\\\\\\"}}, \\\\\\\\\\\\\"typeProperty\\\\\\\\\\\\\": 2}, {\\\\\\\\\\\\\"column\\\\\\\\\\\\\": {\\\\\\\\\\\\\"type\\\\\\\\\\\\\": 2, \\\\\\\\\\\\\"details\\\\\\\\\\\\\": {\\\\\\\\\\\\\"selectedColumn\\\\\\\\\\\\\": \\\\\\\\\\\\\"PAY_4\\\\\\\\\\\\\"}}, \\\\\\\\\\\\\"typeProperty\\\\\\\\\\\\\": 2}, {\\\\\\\\\\\\\"column\\\\\\\\\\\\\": {\\\\\\\\\\\\\"type\\\\\\\\\\\\\": 2, \\\\\\\\\\\\\"details\\\\\\\\\\\\\": {\\\\\\\\\\\\\"selectedColumn\\\\\\\\\\\\\": \\\\\\\\\\\\\"PAY_5\\\\\\\\\\\\\"}}, \\\\\\\\\\\\\"typeProperty\\\\\\\\\\\\\": 2}, {\\\\\\\\\\\\\"column\\\\\\\\\\\\\": {\\\\\\\\\\\\\"type\\\\\\\\\\\\\": 2, \\\\\\\\\\\\\"details\\\\\\\\\\\\\": {\\\\\\\\\\\\\"selectedColumn\\\\\\\\\\\\\": \\\\\\\\\\\\\"PAY_6\\\\\\\\\\\\\"}}, \\\\\\\\\\\\\"typeProperty\\\\\\\\\\\\\": 2}, {\\\\\\\\\\\\\"column\\\\\\\\\\\\\": {\\\\\\\\\\\\\"type\\\\\\\\\\\\\": 2, \\\\\\\\\\\\\"details\\\\\\\\\\\\\": {\\\\\\\\\\\\\"selectedColumn\\\\\\\\\\\\\": \\\\\\\\\\\\\"BILL_AMT1\\\\\\\\\\\\\"}}, \\\\\\\\\\\\\"typeProperty\\\\\\\\\\\\\": 2}, {\\\\\\\\\\\\\"column\\\\\\\\\\\\\": {\\\\\\\\\\\\\"type\\\\\\\\\\\\\": 2, \\\\\\\\\\\\\"details\\\\\\\\\\\\\": {\\\\\\\\\\\\\"selectedColumn\\\\\\\\\\\\\": \\\\\\\\\\\\\"BILL_AMT2\\\\\\\\\\\\\"}}, \\\\\\\\\\\\\"typeProperty\\\\\\\\\\\\\": 2}, {\\\\\\\\\\\\\"column\\\\\\\\\\\\\": {\\\\\\\\\\\\\"type\\\\\\\\\\\\\": 2, \\\\\\\\\\\\\"details\\\\\\\\\\\\\": {\\\\\\\\\\\\\"selectedColumn\\\\\\\\\\\\\": \\\\\\\\\\\\\"BILL_AMT3\\\\\\\\\\\\\"}}, \\\\\\\\\\\\\"typeProperty\\\\\\\\\\\\\": 2}, {\\\\\\\\\\\\\"column\\\\\\\\\\\\\": {\\\\\\\\\\\\\"type\\\\\\\\\\\\\": 2, \\\\\\\\\\\\\"details\\\\\\\\\\\\\": {\\\\\\\\\\\\\"selectedColumn\\\\\\\\\\\\\": \\\\\\\\\\\\\"BILL_AMT4\\\\\\\\\\\\\"}}, \\\\\\\\\\\\\"typeProperty\\\\\\\\\\\\\": 2}, {\\\\\\\\\\\\\"column\\\\\\\\\\\\\": {\\\\\\\\\\\\\"type\\\\\\\\\\\\\": 2, \\\\\\\\\\\\\"details\\\\\\\\\\\\\": {\\\\\\\\\\\\\"selectedColumn\\\\\\\\\\\\\": \\\\\\\\\\\\\"BILL_AMT5\\\\\\\\\\\\\"}}, \\\\\\\\\\\\\"typeProperty\\\\\\\\\\\\\": 2}, {\\\\\\\\\\\\\"column\\\\\\\\\\\\\": {\\\\\\\\\\\\\"type\\\\\\\\\\\\\": 2, \\\\\\\\\\\\\"details\\\\\\\\\\\\\": {\\\\\\\\\\\\\"selectedColumn\\\\\\\\\\\\\": \\\\\\\\\\\\\"BILL_AMT6\\\\\\\\\\\\\"}}, \\\\\\\\\\\\\"typeProperty\\\\\\\\\\\\\": 2}, {\\\\\\\\\\\\\"column\\\\\\\\\\\\\": {\\\\\\\\\\\\\"type\\\\\\\\\\\\\": 2, \\\\\\\\\\\\\"details\\\\\\\\\\\\\": {\\\\\\\\\\\\\"selectedColumn\\\\\\\\\\\\\": \\\\\\\\\\\\\"PAY_AMT1\\\\\\\\\\\\\"}}, \\\\\\\\\\\\\"typeProperty\\\\\\\\\\\\\": 2}, {\\\\\\\\\\\\\"column\\\\\\\\\\\\\": {\\\\\\\\\\\\\"type\\\\\\\\\\\\\": 2, \\\\\\\\\\\\\"details\\\\\\\\\\\\\": {\\\\\\\\\\\\\"selectedColumn\\\\\\\\\\\\\": \\\\\\\\\\\\\"PAY_AMT2\\\\\\\\\\\\\"}}, \\\\\\\\\\\\\"typeProperty\\\\\\\\\\\\\": 2}, {\\\\\\\\\\\\\"column\\\\\\\\\\\\\": {\\\\\\\\\\\\\"type\\\\\\\\\\\\\": 2, \\\\\\\\\\\\\"details\\\\\\\\\\\\\": {\\\\\\\\\\\\\"selectedColumn\\\\\\\\\\\\\": \\\\\\\\\\\\\"PAY_AMT3\\\\\\\\\\\\\"}}, \\\\\\\\\\\\\"typeProperty\\\\\\\\\\\\\": 2}, {\\\\\\\\\\\\\"column\\\\\\\\\\\\\": {\\\\\\\\\\\\\"type\\\\\\\\\\\\\": 2, \\\\\\\\\\\\\"details\\\\\\\\\\\\\": {\\\\\\\\\\\\\"selectedColumn\\\\\\\\\\\\\": \\\\\\\\\\\\\"PAY_AMT4\\\\\\\\\\\\\"}}, \\\\\\\\\\\\\"typeProperty\\\\\\\\\\\\\": 2}, {\\\\\\\\\\\\\"column\\\\\\\\\\\\\": {\\\\\\\\\\\\\"type\\\\\\\\\\\\\": 2, \\\\\\\\\\\\\"details\\\\\\\\\\\\\": {\\\\\\\\\\\\\"selectedColumn\\\\\\\\\\\\\": \\\\\\\\\\\\\"PAY_AMT5\\\\\\\\\\\\\"}}, \\\\\\\\\\\\\"typeProperty\\\\\\\\\\\\\": 2}, {\\\\\\\\\\\\\"column\\\\\\\\\\\\\": {\\\\\\\\\\\\\"type\\\\\\\\\\\\\": 2, \\\\\\\\\\\\\"details\\\\\\\\\\\\\": {\\\\\\\\\\\\\"selectedColumn\\\\\\\\\\\\\": \\\\\\\\\\\\\"PAY_AMT6\\\\\\\\\\\\\"}}, \\\\\\\\\\\\\"typeProperty\\\\\\\\\\\\\": 2}, {\\\\\\\\\\\\\"column\\\\\\\\\\\\\": {\\\\\\\\\\\\\"type\\\\\\\\\\\\\": 2, \\\\\\\\\\\\\"details\\\\\\\\\\\\\": {\\\\\\\\\\\\\"selectedColumn\\\\\\\\\\\\\": \\\\\\\\\\\\\"default payment next month\\\\\\\\\\\\\"}}, \\\\\\\\\\\\\"typeProperty\\\\\\\\\\\\\": 2}]}, \\\\\\\\\\\\\"localData\\\\\\\\\\\\\": {}, \\\\\\\\\\\\\"isEnabled\\\\\\\\\\\\\": true, \\\\\\\\\\\\\"name\\\\\\\\\\\\\": null, \\\\\\\\\\\\\"annotation\\\\\\\\\\\\\": null}], \\\\\\\\\\\\\"inspectors\\\\\\\\\\\\\": [], \\\\\\\\\\\\\"meta\\\\\\\\\\\\\": {\\\\\\\\\\\\\"savedDatasetId\\\\\\\\\\\\\": \\\\\\\\\\\\\"97d3a93a-a790-4bd4-b784-442575d1a073\\\\\\\\\\\\\", \\\\\\\\\\\\\"datasetType\\\\\\\\\\\\\": \\\\\\\\\\\\\"tabular\\\\\\\\\\\\\", \\\\\\\\\\\\\"subscriptionId\\\\\\\\\\\\\": \\\\\\\\\\\\\"9e65f93e-bdd8-437b-b1e8-0647cd6098f7\\\\\\\\\\\\\", \\\\\\\\\\\\\"workspaceId\\\\\\\\\\\\\": \\\\\\\\\\\\\"e8b7f72b-83ca-4ffc-ad43-c75e9ac228ef\\\\\\\\\\\\\", \\\\\\\\\\\\\"workspaceLocation\\\\\\\\\\\\\": \\\\\\\\\\\\\"southcentralus\\\\\\\\\\\\\"}}\\\\\", \\\\\"activities\\\\\": 0}',\n",
       "  'EnableSubsampling': None,\n",
       "  'runTemplate': 'AutoML',\n",
       "  'azureml.runsource': 'automl',\n",
       "  'display_task_type': 'classification',\n",
       "  'dependencies_versions': '{\"azureml-widgets\": \"1.20.0\", \"azureml-train\": \"1.20.0\", \"azureml-train-restclients-hyperdrive\": \"1.20.0\", \"azureml-train-core\": \"1.20.0\", \"azureml-train-automl\": \"1.20.0\", \"azureml-train-automl-runtime\": \"1.20.0\", \"azureml-train-automl-client\": \"1.20.0\", \"azureml-tensorboard\": \"1.20.0\", \"azureml-telemetry\": \"1.20.0\", \"azureml-sdk\": \"1.20.0\", \"azureml-samples\": \"0+unknown\", \"azureml-pipeline\": \"1.20.0\", \"azureml-pipeline-steps\": \"1.20.0\", \"azureml-pipeline-core\": \"1.20.0\", \"azureml-opendatasets\": \"1.20.0\", \"azureml-model-management-sdk\": \"1.0.1b6.post1\", \"azureml-mlflow\": \"1.20.0.post1\", \"azureml-interpret\": \"1.20.0\", \"azureml-explain-model\": \"1.20.0\", \"azureml-defaults\": \"1.20.0\", \"azureml-dataset-runtime\": \"1.20.0\", \"azureml-dataprep\": \"2.7.3\", \"azureml-dataprep-rslex\": \"1.5.0\", \"azureml-dataprep-native\": \"27.0.0\", \"azureml-datadrift\": \"1.20.0\", \"azureml-core\": \"1.20.0\", \"azureml-contrib-services\": \"1.20.0\", \"azureml-contrib-server\": \"1.20.0\", \"azureml-contrib-reinforcementlearning\": \"1.20.0\", \"azureml-contrib-pipeline-steps\": \"1.20.0\", \"azureml-contrib-notebook\": \"1.20.0\", \"azureml-contrib-interpret\": \"1.20.0\", \"azureml-contrib-gbdt\": \"1.20.0\", \"azureml-contrib-fairness\": \"1.20.0\", \"azureml-contrib-dataset\": \"1.20.0\", \"azureml-cli-common\": \"1.20.0\", \"azureml-automl-runtime\": \"1.20.0\", \"azureml-automl-core\": \"1.20.0\", \"azureml-accel-models\": \"1.20.0\"}',\n",
       "  '_aml_system_scenario_identification': 'Remote.Parent',\n",
       "  'ClientType': 'SDK',\n",
       "  'environment_cpu_name': 'AzureML-AutoML',\n",
       "  'environment_cpu_label': 'prod',\n",
       "  'environment_gpu_name': 'AzureML-AutoML-GPU',\n",
       "  'environment_gpu_label': 'prod',\n",
       "  'root_attribution': 'automl',\n",
       "  'attribution': 'AutoML',\n",
       "  'Orchestrator': 'AutoML',\n",
       "  'CancelUri': 'https://southcentralus.experiments.azureml.net/jasmine/v1.0/subscriptions/9e65f93e-bdd8-437b-b1e8-0647cd6098f7/resourceGroups/aml-quickstarts-136503/providers/Microsoft.MachineLearningServices/workspaces/quick-starts-ws-136503/experimentids/f2e12fb7-c00c-49d1-9b24-af71cd195202/cancel/AutoML_e11d8e10-66de-47f1-ab0d-a1bb5f94d310',\n",
       "  'ClientSdkVersion': '1.20.0.post1',\n",
       "  'snapshotId': '00000000-0000-0000-0000-000000000000',\n",
       "  'SetupRunId': 'AutoML_e11d8e10-66de-47f1-ab0d-a1bb5f94d310_setup',\n",
       "  'SetupRunContainerId': 'dcid.AutoML_e11d8e10-66de-47f1-ab0d-a1bb5f94d310_setup',\n",
       "  'FeaturizationRunJsonPath': 'featurizer_container.json',\n",
       "  'FeaturizationRunId': 'AutoML_e11d8e10-66de-47f1-ab0d-a1bb5f94d310_featurize',\n",
       "  'ProblemInfoJsonString': '{\"dataset_num_categorical\": 0, \"is_sparse\": true, \"subsampling\": false, \"dataset_classes\": 2, \"dataset_features\": 91, \"dataset_samples\": 30000, \"single_frequency_class_detected\": false}',\n",
       "  'ModelExplainRunId': 'AutoML_e11d8e10-66de-47f1-ab0d-a1bb5f94d310_ModelExplain'},\n",
       " 'inputDatasets': [{'dataset': {'id': '97d3a93a-a790-4bd4-b784-442575d1a073'}, 'consumptionDetails': {'type': 'RunInput', 'inputName': 'training_data', 'mechanism': 'Direct'}}],\n",
       " 'outputDatasets': [],\n",
       " 'logFiles': {},\n",
       " 'submittedBy': 'ODL_User 136503'}"
      ]
     },
     "execution_count": 29,
     "metadata": {},
     "output_type": "execute_result"
    }
   ],
   "source": [
    "RunDetails(remote_run).show()\n",
    "remote_run.wait_for_completion(show_output=True)"
   ]
  },
  {
   "cell_type": "markdown",
   "metadata": {},
   "source": [
    "## Best Model\n",
    "\n",
    "TODO: In the cell below, get the best model from the automl experiments and display all the properties of the model.\n",
    "\n"
   ]
  },
  {
   "cell_type": "code",
   "execution_count": 30,
   "metadata": {},
   "outputs": [
    {
     "name": "stdout",
     "output_type": "stream",
     "text": [
      "Run(Experiment: AzureCapstone,\n",
      "Id: AutoML_e11d8e10-66de-47f1-ab0d-a1bb5f94d310_58,\n",
      "Type: azureml.scriptrun,\n",
      "Status: Completed)\n",
      "precision_score_micro 0.8225666666666667\n",
      "recall_score_weighted 0.8225666666666667\n",
      "AUC_weighted 0.7877722126322521\n",
      "log_loss 0.42496382301240343\n",
      "precision_score_weighted 0.8067262255728733\n",
      "recall_score_macro 0.6589292356218968\n",
      "average_precision_score_weighted 0.8398767799247577\n",
      "average_precision_score_macro 0.7426551665695387\n",
      "weighted_accuracy 0.908591195206147\n",
      "AUC_micro 0.8856852888888889\n",
      "accuracy 0.8225666666666667\n",
      "AUC_macro 0.787772219708421\n",
      "balanced_accuracy 0.6589292356218968\n",
      "average_precision_score_micro 0.8779486873416391\n",
      "f1_score_micro 0.8225666666666667\n",
      "precision_score_macro 0.7635345892688461\n",
      "f1_score_weighted 0.8010161756924329\n",
      "f1_score_macro 0.6848706132502604\n",
      "norm_macro_recall 0.31785847124379357\n",
      "matthews_correlation 0.4092127727707982\n",
      "recall_score_micro 0.8225666666666667\n",
      "accuracy_table aml://artifactId/ExperimentRun/dcid.AutoML_e11d8e10-66de-47f1-ab0d-a1bb5f94d310_58/accuracy_table\n",
      "confusion_matrix aml://artifactId/ExperimentRun/dcid.AutoML_e11d8e10-66de-47f1-ab0d-a1bb5f94d310_58/confusion_matrix\n"
     ]
    }
   ],
   "source": [
    "# best run and model for automl\n",
    "best_run, fitted_model = remote_run.get_output()\n",
    "\n",
    "# Print the best run\n",
    "print(best_run)\n",
    "\n",
    "# All metrics of the best run\n",
    "best_run_metrics = best_run.get_metrics()\n",
    "\n",
    "# Print all metrics of the best run\n",
    "for metric_name in best_run_metrics:\n",
    "    metric = best_run_metrics[metric_name]\n",
    "    print(metric_name, metric)"
   ]
  },
  {
   "cell_type": "code",
   "execution_count": 31,
   "metadata": {},
   "outputs": [
    {
     "name": "stdout",
     "output_type": "stream",
     "text": [
      "datatransformer\n",
      "{'enable_dnn': None,\n",
      " 'enable_feature_sweeping': None,\n",
      " 'feature_sweeping_config': None,\n",
      " 'feature_sweeping_timeout': None,\n",
      " 'featurization_config': None,\n",
      " 'force_text_dnn': None,\n",
      " 'is_cross_validation': None,\n",
      " 'is_onnx_compatible': None,\n",
      " 'logger': None,\n",
      " 'observer': None,\n",
      " 'task': None,\n",
      " 'working_dir': None}\n",
      "\n",
      "prefittedsoftvotingclassifier\n",
      "{'estimators': ['0', '38', '43', '28', '14', '34', '51', '39', '44'],\n",
      " 'weights': [0.13333333333333333,\n",
      "             0.13333333333333333,\n",
      "             0.13333333333333333,\n",
      "             0.06666666666666667,\n",
      "             0.06666666666666667,\n",
      "             0.06666666666666667,\n",
      "             0.13333333333333333,\n",
      "             0.2,\n",
      "             0.06666666666666667]}\n",
      "\n",
      "0 - maxabsscaler\n",
      "{'copy': True}\n",
      "\n",
      "0 - lightgbmclassifier\n",
      "{'boosting_type': 'gbdt',\n",
      " 'class_weight': None,\n",
      " 'colsample_bytree': 1.0,\n",
      " 'importance_type': 'split',\n",
      " 'learning_rate': 0.1,\n",
      " 'max_depth': -1,\n",
      " 'min_child_samples': 20,\n",
      " 'min_child_weight': 0.001,\n",
      " 'min_split_gain': 0.0,\n",
      " 'n_estimators': 100,\n",
      " 'n_jobs': 1,\n",
      " 'num_leaves': 31,\n",
      " 'objective': None,\n",
      " 'random_state': None,\n",
      " 'reg_alpha': 0.0,\n",
      " 'reg_lambda': 0.0,\n",
      " 'silent': True,\n",
      " 'subsample': 1.0,\n",
      " 'subsample_for_bin': 200000,\n",
      " 'subsample_freq': 0,\n",
      " 'verbose': -10}\n",
      "\n",
      "38 - sparsenormalizer\n",
      "{'copy': True, 'norm': 'max'}\n",
      "\n",
      "38 - xgboostclassifier\n",
      "{'base_score': 0.5,\n",
      " 'booster': 'gbtree',\n",
      " 'colsample_bylevel': 1,\n",
      " 'colsample_bynode': 1,\n",
      " 'colsample_bytree': 1,\n",
      " 'eta': 0.2,\n",
      " 'gamma': 0,\n",
      " 'learning_rate': 0.1,\n",
      " 'max_delta_step': 0,\n",
      " 'max_depth': 6,\n",
      " 'max_leaves': 15,\n",
      " 'min_child_weight': 1,\n",
      " 'missing': nan,\n",
      " 'n_estimators': 25,\n",
      " 'n_jobs': 1,\n",
      " 'nthread': None,\n",
      " 'objective': 'reg:logistic',\n",
      " 'random_state': 0,\n",
      " 'reg_alpha': 0,\n",
      " 'reg_lambda': 0.4166666666666667,\n",
      " 'scale_pos_weight': 1,\n",
      " 'seed': None,\n",
      " 'silent': None,\n",
      " 'subsample': 1,\n",
      " 'tree_method': 'auto',\n",
      " 'verbose': -10,\n",
      " 'verbosity': 0}\n",
      "\n",
      "43 - sparsenormalizer\n",
      "{'copy': True, 'norm': 'max'}\n",
      "\n",
      "43 - xgboostclassifier\n",
      "{'base_score': 0.5,\n",
      " 'booster': 'gbtree',\n",
      " 'colsample_bylevel': 0.7,\n",
      " 'colsample_bynode': 1,\n",
      " 'colsample_bytree': 1,\n",
      " 'eta': 0.3,\n",
      " 'gamma': 0,\n",
      " 'grow_policy': 'lossguide',\n",
      " 'learning_rate': 0.1,\n",
      " 'max_bin': 255,\n",
      " 'max_delta_step': 0,\n",
      " 'max_depth': 9,\n",
      " 'max_leaves': 63,\n",
      " 'min_child_weight': 1,\n",
      " 'missing': nan,\n",
      " 'n_estimators': 25,\n",
      " 'n_jobs': 1,\n",
      " 'nthread': None,\n",
      " 'objective': 'reg:logistic',\n",
      " 'random_state': 0,\n",
      " 'reg_alpha': 0.8333333333333334,\n",
      " 'reg_lambda': 0.625,\n",
      " 'scale_pos_weight': 1,\n",
      " 'seed': None,\n",
      " 'silent': None,\n",
      " 'subsample': 1,\n",
      " 'tree_method': 'hist',\n",
      " 'verbose': -10,\n",
      " 'verbosity': 0}\n",
      "\n",
      "28 - sparsenormalizer\n",
      "{'copy': True, 'norm': 'l2'}\n",
      "\n",
      "28 - xgboostclassifier\n",
      "{'base_score': 0.5,\n",
      " 'booster': 'gbtree',\n",
      " 'colsample_bylevel': 0.6,\n",
      " 'colsample_bynode': 1,\n",
      " 'colsample_bytree': 1,\n",
      " 'eta': 0.3,\n",
      " 'gamma': 0.1,\n",
      " 'grow_policy': 'lossguide',\n",
      " 'learning_rate': 0.1,\n",
      " 'max_bin': 255,\n",
      " 'max_delta_step': 0,\n",
      " 'max_depth': 0,\n",
      " 'max_leaves': 63,\n",
      " 'min_child_weight': 1,\n",
      " 'missing': nan,\n",
      " 'n_estimators': 25,\n",
      " 'n_jobs': 1,\n",
      " 'nthread': None,\n",
      " 'objective': 'reg:logistic',\n",
      " 'random_state': 0,\n",
      " 'reg_alpha': 2.1875,\n",
      " 'reg_lambda': 1.5625,\n",
      " 'scale_pos_weight': 1,\n",
      " 'seed': None,\n",
      " 'silent': None,\n",
      " 'subsample': 1,\n",
      " 'tree_method': 'hist',\n",
      " 'verbose': -10,\n",
      " 'verbosity': 0}\n",
      "\n",
      "14 - maxabsscaler\n",
      "{'copy': True}\n",
      "\n",
      "14 - logisticregression\n",
      "{'C': 2.559547922699533,\n",
      " 'class_weight': None,\n",
      " 'dual': False,\n",
      " 'fit_intercept': True,\n",
      " 'intercept_scaling': 1,\n",
      " 'l1_ratio': None,\n",
      " 'max_iter': 100,\n",
      " 'multi_class': 'ovr',\n",
      " 'n_jobs': 1,\n",
      " 'penalty': 'l2',\n",
      " 'random_state': None,\n",
      " 'solver': 'saga',\n",
      " 'tol': 0.0001,\n",
      " 'verbose': 0,\n",
      " 'warm_start': False}\n",
      "\n",
      "34 - sparsenormalizer\n",
      "{'copy': True, 'norm': 'l2'}\n",
      "\n",
      "34 - xgboostclassifier\n",
      "{'base_score': 0.5,\n",
      " 'booster': 'gbtree',\n",
      " 'colsample_bylevel': 1,\n",
      " 'colsample_bynode': 1,\n",
      " 'colsample_bytree': 0.9,\n",
      " 'eta': 0.3,\n",
      " 'gamma': 10,\n",
      " 'learning_rate': 0.1,\n",
      " 'max_delta_step': 0,\n",
      " 'max_depth': 6,\n",
      " 'max_leaves': 3,\n",
      " 'min_child_weight': 1,\n",
      " 'missing': nan,\n",
      " 'n_estimators': 25,\n",
      " 'n_jobs': 1,\n",
      " 'nthread': None,\n",
      " 'objective': 'reg:logistic',\n",
      " 'random_state': 0,\n",
      " 'reg_alpha': 0,\n",
      " 'reg_lambda': 1.7708333333333335,\n",
      " 'scale_pos_weight': 1,\n",
      " 'seed': None,\n",
      " 'silent': None,\n",
      " 'subsample': 1,\n",
      " 'tree_method': 'auto',\n",
      " 'verbose': -10,\n",
      " 'verbosity': 0}\n",
      "\n",
      "51 - sparsenormalizer\n",
      "{'copy': True, 'norm': 'l2'}\n",
      "\n",
      "51 - xgboostclassifier\n",
      "{'base_score': 0.5,\n",
      " 'booster': 'gbtree',\n",
      " 'colsample_bylevel': 1,\n",
      " 'colsample_bynode': 1,\n",
      " 'colsample_bytree': 0.7,\n",
      " 'eta': 0.3,\n",
      " 'gamma': 0,\n",
      " 'learning_rate': 0.1,\n",
      " 'max_delta_step': 0,\n",
      " 'max_depth': 10,\n",
      " 'max_leaves': 3,\n",
      " 'min_child_weight': 1,\n",
      " 'missing': nan,\n",
      " 'n_estimators': 100,\n",
      " 'n_jobs': 1,\n",
      " 'nthread': None,\n",
      " 'objective': 'reg:logistic',\n",
      " 'random_state': 0,\n",
      " 'reg_alpha': 1.4583333333333335,\n",
      " 'reg_lambda': 2.5,\n",
      " 'scale_pos_weight': 1,\n",
      " 'seed': None,\n",
      " 'silent': None,\n",
      " 'subsample': 0.9,\n",
      " 'tree_method': 'auto',\n",
      " 'verbose': -10,\n",
      " 'verbosity': 0}\n",
      "\n",
      "39 - sparsenormalizer\n",
      "{'copy': True, 'norm': 'l1'}\n",
      "\n",
      "39 - xgboostclassifier\n",
      "{'base_score': 0.5,\n",
      " 'booster': 'gbtree',\n",
      " 'colsample_bylevel': 1,\n",
      " 'colsample_bynode': 1,\n",
      " 'colsample_bytree': 0.5,\n",
      " 'eta': 0.05,\n",
      " 'gamma': 0.1,\n",
      " 'learning_rate': 0.1,\n",
      " 'max_delta_step': 0,\n",
      " 'max_depth': 9,\n",
      " 'max_leaves': 31,\n",
      " 'min_child_weight': 1,\n",
      " 'missing': nan,\n",
      " 'n_estimators': 50,\n",
      " 'n_jobs': 1,\n",
      " 'nthread': None,\n",
      " 'objective': 'reg:logistic',\n",
      " 'random_state': 0,\n",
      " 'reg_alpha': 1.7708333333333335,\n",
      " 'reg_lambda': 2.3958333333333335,\n",
      " 'scale_pos_weight': 1,\n",
      " 'seed': None,\n",
      " 'silent': None,\n",
      " 'subsample': 0.6,\n",
      " 'tree_method': 'auto',\n",
      " 'verbose': -10,\n",
      " 'verbosity': 0}\n",
      "\n",
      "44 - truncatedsvdwrapper\n",
      "{'n_components': 0.6036842105263158, 'random_state': None}\n",
      "\n",
      "44 - xgboostclassifier\n",
      "{'base_score': 0.5,\n",
      " 'booster': 'gbtree',\n",
      " 'colsample_bylevel': 1,\n",
      " 'colsample_bynode': 1,\n",
      " 'colsample_bytree': 0.8,\n",
      " 'eta': 0.01,\n",
      " 'gamma': 0,\n",
      " 'grow_policy': 'lossguide',\n",
      " 'learning_rate': 0.1,\n",
      " 'max_bin': 63,\n",
      " 'max_delta_step': 0,\n",
      " 'max_depth': 4,\n",
      " 'max_leaves': 0,\n",
      " 'min_child_weight': 1,\n",
      " 'missing': nan,\n",
      " 'n_estimators': 50,\n",
      " 'n_jobs': 1,\n",
      " 'nthread': None,\n",
      " 'objective': 'reg:logistic',\n",
      " 'random_state': 0,\n",
      " 'reg_alpha': 1.9791666666666667,\n",
      " 'reg_lambda': 0.8333333333333334,\n",
      " 'scale_pos_weight': 1,\n",
      " 'seed': None,\n",
      " 'silent': None,\n",
      " 'subsample': 0.7,\n",
      " 'tree_method': 'hist',\n",
      " 'verbose': -10,\n",
      " 'verbosity': 0}\n",
      "\n"
     ]
    }
   ],
   "source": [
    "# All the properties of the fitted model\n",
    "def print_model(model, prefix=\"\"):\n",
    "    for step in model.steps:\n",
    "        print(prefix + step[0])\n",
    "        if hasattr(step[1], 'estimators') and hasattr(step[1], 'weights'):\n",
    "            pprint({'estimators': list(\n",
    "                e[0] for e in step[1].estimators), 'weights': step[1].weights})\n",
    "            print()\n",
    "            for estimator in step[1].estimators:\n",
    "                print_model(estimator[1], estimator[0] + ' - ')\n",
    "        else:\n",
    "            pprint(step[1].get_params())\n",
    "            print()\n",
    "\n",
    "print_model(fitted_model)"
   ]
  },
  {
   "cell_type": "code",
   "execution_count": 32,
   "metadata": {
    "gather": {
     "logged": 1598431426111
    },
    "jupyter": {
     "outputs_hidden": false,
     "source_hidden": false
    },
    "nteract": {
     "transient": {
      "deleting": false
     }
    }
   },
   "outputs": [
    {
     "name": "stdout",
     "output_type": "stream",
     "text": [
      "Model(workspace=Workspace.create(name='quick-starts-ws-136503', subscription_id='9e65f93e-bdd8-437b-b1e8-0647cd6098f7', resource_group='aml-quickstarts-136503'), name=capstoneAzure_automl, id=capstoneAzure_automl:2, version=2, tags={'Training context': 'Auto ML'}, properties={'Accuracy': '0.8225666666666667'})\n"
     ]
    }
   ],
   "source": [
    "#TODO: Save the best model\n",
    "Cap_Model = best_run.register_model(model_path='outputs/model.pkl', model_name='capstoneAzure_automl',\n",
    "                        tags={'Training context':'Auto ML'},\n",
    "                        properties={'Accuracy': best_run_metrics['accuracy']})\n",
    "\n",
    "print(Cap_Model)"
   ]
  },
  {
   "cell_type": "code",
   "execution_count": 33,
   "metadata": {},
   "outputs": [
    {
     "name": "stdout",
     "output_type": "stream",
     "text": [
      "capstoneAzure_automl version: 2\n",
      "\t Training context : Auto ML\n",
      "\t Accuracy : 0.8225666666666667\n",
      "\n",
      "\n",
      "capstoneAzure_automl version: 1\n",
      "\t Training context : Auto ML\n",
      "\t Accuracy : 0.8223666666666667\n",
      "\n",
      "\n"
     ]
    }
   ],
   "source": [
    "# List registered models to verify if model has been saved\n",
    "for model in Model.list(ws):\n",
    "    print(model.name, 'version:', model.version)\n",
    "    for tag_name in model.tags:\n",
    "        tag = model.tags[tag_name]\n",
    "        print ('\\t',tag_name, ':', tag)\n",
    "    for prop_name in model.properties:\n",
    "        prop = model.properties[prop_name]\n",
    "        print ('\\t',prop_name, ':', prop)\n",
    "    print('\\n')"
   ]
  },
  {
   "cell_type": "markdown",
   "metadata": {},
   "source": [
    "## Model Deployment\n",
    "\n",
    "Remember you have to deploy only one of the two models you trained.. Perform the steps in the rest of this notebook only if you wish to deploy this model.\n",
    "\n",
    "TODO: In the cell below, register the model, create an inference config and deploy the model as a web service."
   ]
  },
  {
   "cell_type": "code",
   "execution_count": 34,
   "metadata": {
    "gather": {
     "logged": 1598431435189
    },
    "jupyter": {
     "outputs_hidden": false,
     "source_hidden": false
    },
    "nteract": {
     "transient": {
      "deleting": false
     }
    }
   },
   "outputs": [],
   "source": [
    "# Download scoring file \n",
    "best_run.download_file('outputs/scoring_file_v_1_0_0.py', 'scoreScript.py')"
   ]
  },
  {
   "cell_type": "code",
   "execution_count": 35,
   "metadata": {},
   "outputs": [],
   "source": [
    "# Download environment file\n",
    "best_run.download_file('outputs/conda_env_v_1_0_0.yml', 'envFile.yml')"
   ]
  },
  {
   "cell_type": "code",
   "execution_count": 36,
   "metadata": {},
   "outputs": [
    {
     "name": "stdout",
     "output_type": "stream",
     "text": [
      "Tips: You can try get_logs(): https://aka.ms/debugimage#dockerlog or local deployment: https://aka.ms/debugimage#debug-locally to debug if deployment takes longer than 10 minutes.\n",
      "Running.......................................\n",
      "Succeeded\n",
      "ACI service creation operation finished, operation \"Succeeded\"\n",
      "Healthy\n",
      "http://a5131e47-db0c-46b3-ae4a-3785096db396.southcentralus.azurecontainer.io/score\n",
      "http://a5131e47-db0c-46b3-ae4a-3785096db396.southcentralus.azurecontainer.io/swagger.json\n"
     ]
    }
   ],
   "source": [
    "from azureml.core.environment import Environment\n",
    "from azureml.core.model import InferenceConfig\n",
    "\n",
    "inference_config = InferenceConfig(entry_script='scoreScript.py',\n",
    "                                    environment=best_run.get_environment())\n",
    "\n",
    "# deploy\n",
    "from azureml.core.webservice import AciWebservice\n",
    "\n",
    "deployment_config = AciWebservice.deploy_configuration(cpu_cores = 2, memory_gb = 1)\n",
    "service = Model.deploy(ws, \"saadservice\", [Cap_Model], inference_config, deployment_config)\n",
    "service.wait_for_deployment(show_output = True)\n",
    "print(service.state)\n",
    "\n",
    "print(service.scoring_uri)\n",
    "\n",
    "print(service.swagger_uri)"
   ]
  },
  {
   "cell_type": "code",
   "execution_count": 37,
   "metadata": {},
   "outputs": [
    {
     "name": "stdout",
     "output_type": "stream",
     "text": [
      "{\"data\": [{\"ID\": 29117, \"LIMIT_BAL\": 20000, \"SEX\": 2, \"EDUCATION\": 3, \"MARRIAGE\": 2, \"AGE\": 54, \"PAY_0\": 0, \"PAY_2\": 0, \"PAY_3\": 0, \"PAY_4\": 0, \"PAY_5\": 0, \"PAY_6\": 0, \"BILL_AMT1\": 13543, \"BILL_AMT2\": 14308, \"BILL_AMT3\": 16856, \"BILL_AMT4\": 18073, \"BILL_AMT5\": 18773, \"BILL_AMT6\": 19166, \"PAY_AMT1\": 1300, \"PAY_AMT2\": 2800, \"PAY_AMT3\": 1500, \"PAY_AMT4\": 1000, \"PAY_AMT5\": 695, \"PAY_AMT6\": 1000}, {\"ID\": 5504, \"LIMIT_BAL\": 80000, \"SEX\": 2, \"EDUCATION\": 1, \"MARRIAGE\": 2, \"AGE\": 31, \"PAY_0\": -1, \"PAY_2\": -1, \"PAY_3\": -1, \"PAY_4\": -1, \"PAY_5\": -1, \"PAY_6\": 2, \"BILL_AMT1\": 14401, \"BILL_AMT2\": 4374, \"BILL_AMT3\": 15020, \"BILL_AMT4\": 4233, \"BILL_AMT5\": 5934, \"BILL_AMT6\": 158, \"PAY_AMT1\": 4374, \"PAY_AMT2\": 15037, \"PAY_AMT3\": 4233, \"PAY_AMT4\": 6092, \"PAY_AMT5\": 0, \"PAY_AMT6\": 13391}, {\"ID\": 10572, \"LIMIT_BAL\": 100000, \"SEX\": 2, \"EDUCATION\": 3, \"MARRIAGE\": 2, \"AGE\": 41, \"PAY_0\": -1, \"PAY_2\": -1, \"PAY_3\": -1, \"PAY_4\": -1, \"PAY_5\": 0, \"PAY_6\": -1, \"BILL_AMT1\": 7432, \"BILL_AMT2\": 1633, \"BILL_AMT3\": 2043, \"BILL_AMT4\": 4830, \"BILL_AMT5\": 3535, \"BILL_AMT6\": 4307, \"PAY_AMT1\": 1633, \"PAY_AMT2\": 2043, \"PAY_AMT3\": 4830, \"PAY_AMT4\": 0, \"PAY_AMT5\": 4307, \"PAY_AMT6\": 0}, {\"ID\": 3391, \"LIMIT_BAL\": 20000, \"SEX\": 1, \"EDUCATION\": 2, \"MARRIAGE\": 2, \"AGE\": 44, \"PAY_0\": 1, \"PAY_2\": 2, \"PAY_3\": 0, \"PAY_4\": 0, \"PAY_5\": 0, \"PAY_6\": 0, \"BILL_AMT1\": 6535, \"BILL_AMT2\": 6285, \"BILL_AMT3\": 7672, \"BILL_AMT4\": 8390, \"BILL_AMT5\": 9101, \"BILL_AMT6\": 9796, \"PAY_AMT1\": 0, \"PAY_AMT2\": 1500, \"PAY_AMT3\": 1000, \"PAY_AMT4\": 1000, \"PAY_AMT5\": 1000, \"PAY_AMT6\": 1000}, {\"ID\": 1300, \"LIMIT_BAL\": 70000, \"SEX\": 1, \"EDUCATION\": 2, \"MARRIAGE\": 1, \"AGE\": 37, \"PAY_0\": -1, \"PAY_2\": 2, \"PAY_3\": 0, \"PAY_4\": 0, \"PAY_5\": -1, \"PAY_6\": -1, \"BILL_AMT1\": 10323, \"BILL_AMT2\": 6659, \"BILL_AMT3\": 6740, \"BILL_AMT4\": 3559, \"BILL_AMT5\": 7086, \"BILL_AMT6\": 6979, \"PAY_AMT1\": 0, \"PAY_AMT2\": 3559, \"PAY_AMT3\": 189, \"PAY_AMT4\": 7086, \"PAY_AMT5\": 3370, \"PAY_AMT6\": 0}]}\n"
     ]
    }
   ],
   "source": [
    "\n",
    "import json\n",
    "\n",
    "#Import test data\n",
    "test_df = df.sample(5) # data is the pandas dataframe of the original data\n",
    "labels = test_df.pop('default payment next month')\n",
    "\n",
    "sample = json.dumps({'data': test_df.to_dict(orient='records')})\n",
    "\n",
    "print(sample)"
   ]
  },
  {
   "cell_type": "markdown",
   "metadata": {
    "gather": {
     "logged": 1598431657736
    },
    "jupyter": {
     "outputs_hidden": false,
     "source_hidden": false
    },
    "nteract": {
     "transient": {
      "deleting": false
     }
    }
   },
   "source": [
    "TODO: In the cell below, send a request to the web service you deployed to test it."
   ]
  },
  {
   "cell_type": "code",
   "execution_count": 38,
   "metadata": {
    "gather": {
     "logged": 1598432707604
    },
    "jupyter": {
     "outputs_hidden": false,
     "source_hidden": false
    },
    "nteract": {
     "transient": {
      "deleting": false
     }
    }
   },
   "outputs": [],
   "source": [
    "import requests # for http post request\n",
    "\n",
    "# Set the content type\n",
    "headers = {'Content-type': 'application/json'}\n",
    "\n",
    "\n",
    "response = requests.post(service.scoring_uri, sample, headers=headers)"
   ]
  },
  {
   "cell_type": "code",
   "execution_count": 39,
   "metadata": {},
   "outputs": [
    {
     "name": "stdout",
     "output_type": "stream",
     "text": [
      "\"{\\\"result\\\": [0, 0, 0, 0, 0]}\"\n"
     ]
    }
   ],
   "source": [
    "# Print results from the inference\n",
    "print(response.text)"
   ]
  },
  {
   "cell_type": "code",
   "execution_count": 40,
   "metadata": {},
   "outputs": [
    {
     "name": "stdout",
     "output_type": "stream",
     "text": [
      "29116    0\n",
      "5503     0\n",
      "10571    1\n",
      "3390     1\n",
      "1299     1\n",
      "Name: default payment next month, dtype: int64\n"
     ]
    }
   ],
   "source": [
    "# Print original labels\n",
    "print(labels)"
   ]
  },
  {
   "cell_type": "markdown",
   "metadata": {
    "gather": {
     "logged": 1598432765711
    },
    "jupyter": {
     "outputs_hidden": false,
     "source_hidden": false
    },
    "nteract": {
     "transient": {
      "deleting": false
     }
    }
   },
   "source": [
    "TODO: In the cell below, print the logs of the web service and delete the service"
   ]
  },
  {
   "cell_type": "code",
   "execution_count": 41,
   "metadata": {
    "jupyter": {
     "outputs_hidden": false,
     "source_hidden": false
    },
    "nteract": {
     "transient": {
      "deleting": false
     }
    }
   },
   "outputs": [
    {
     "name": "stdout",
     "output_type": "stream",
     "text": [
      "2021-01-29T15:57:27,092414387+00:00 - iot-server/run \n",
      "2021-01-29T15:57:27,093218691+00:00 - gunicorn/run \n",
      "2021-01-29T15:57:27,098029418+00:00 - rsyslog/run \n",
      "2021-01-29T15:57:27,101834538+00:00 - nginx/run \n",
      "/usr/sbin/nginx: /azureml-envs/azureml_265db83b0c6014ce472c5de2f0b97e04/lib/libcrypto.so.1.0.0: no version information available (required by /usr/sbin/nginx)\n",
      "/usr/sbin/nginx: /azureml-envs/azureml_265db83b0c6014ce472c5de2f0b97e04/lib/libcrypto.so.1.0.0: no version information available (required by /usr/sbin/nginx)\n",
      "/usr/sbin/nginx: /azureml-envs/azureml_265db83b0c6014ce472c5de2f0b97e04/lib/libssl.so.1.0.0: no version information available (required by /usr/sbin/nginx)\n",
      "/usr/sbin/nginx: /azureml-envs/azureml_265db83b0c6014ce472c5de2f0b97e04/lib/libssl.so.1.0.0: no version information available (required by /usr/sbin/nginx)\n",
      "/usr/sbin/nginx: /azureml-envs/azureml_265db83b0c6014ce472c5de2f0b97e04/lib/libssl.so.1.0.0: no version information available (required by /usr/sbin/nginx)\n",
      "rsyslogd: /azureml-envs/azureml_265db83b0c6014ce472c5de2f0b97e04/lib/libuuid.so.1: no version information available (required by rsyslogd)\n",
      "EdgeHubConnectionString and IOTEDGE_IOTHUBHOSTNAME are not set. Exiting...\n",
      "2021-01-29T15:57:27,187162904+00:00 - iot-server/finish 1 0\n",
      "2021-01-29T15:57:27,197151759+00:00 - Exit code 1 is normal. Not restarting iot-server.\n",
      "Starting gunicorn 19.9.0\n",
      "Listening at: http://127.0.0.1:31311 (13)\n",
      "Using worker: sync\n",
      "worker timeout is set to 300\n",
      "Booting worker with pid: 42\n",
      "SPARK_HOME not set. Skipping PySpark Initialization.\n",
      "Generating new fontManager, this may take some time...\n",
      "Initializing logger\n",
      "2021-01-29 15:57:28,551 | root | INFO | Starting up app insights client\n",
      "2021-01-29 15:57:28,551 | root | INFO | Starting up request id generator\n",
      "2021-01-29 15:57:28,551 | root | INFO | Starting up app insight hooks\n",
      "2021-01-29 15:57:28,551 | root | INFO | Invoking user's init function\n",
      "2021-01-29 15:57:31,265 | azureml.core | WARNING | Failure while loading azureml_run_type_providers. Failed to load entrypoint automl = azureml.train.automl.run:AutoMLRun._from_run_dto with exception cannot import name 'RunType'.\n",
      "Failure while loading azureml_run_type_providers. Failed to load entrypoint automl = azureml.train.automl.run:AutoMLRun._from_run_dto with exception cannot import name 'RunType'.\n",
      "2021-01-29 15:57:31,386 | root | INFO | Users's init has completed successfully\n",
      "2021-01-29 15:57:31,397 | root | INFO | Skipping middleware: dbg_model_info as it's not enabled.\n",
      "2021-01-29 15:57:31,398 | root | INFO | Skipping middleware: dbg_resource_usage as it's not enabled.\n",
      "2021-01-29 15:57:31,400 | root | INFO | Scoring timeout is found from os.environ: 60000 ms\n",
      "2021-01-29 15:57:37,045 | root | INFO | 200\n",
      "127.0.0.1 - - [29/Jan/2021:15:57:37 +0000] \"GET /swagger.json HTTP/1.0\" 200 3514 \"-\" \"Go-http-client/1.1\"\n",
      "2021-01-29 15:57:40,530 | root | INFO | 200\n",
      "127.0.0.1 - - [29/Jan/2021:15:57:40 +0000] \"GET /swagger.json HTTP/1.0\" 200 3514 \"-\" \"Go-http-client/1.1\"\n",
      "2021-01-29 15:58:01,079 | root | INFO | Validation Request Content-Type\n",
      "2021-01-29 15:58:01,080 | root | INFO | Scoring Timer is set to 60.0 seconds\n",
      "2021-01-29 15:58:01,198 | root | INFO | 200\n",
      "127.0.0.1 - - [29/Jan/2021:15:58:01 +0000] \"POST /score HTTP/1.0\" 200 31 \"-\" \"python-requests/2.25.1\"\n",
      "\n"
     ]
    }
   ],
   "source": [
    "print(service.get_logs())"
   ]
  },
  {
   "cell_type": "markdown",
   "metadata": {},
   "source": [
    "## Converting model to ONNX Format"
   ]
  },
  {
   "cell_type": "code",
   "execution_count": 42,
   "metadata": {},
   "outputs": [],
   "source": [
    "#Set the parameter return_onnx_model=True to retrieve the best ONNX model, instead of the Python model\n",
    "best_run, onnx_model = remote_run.get_output(return_onnx_model=True)"
   ]
  },
  {
   "cell_type": "code",
   "execution_count": 44,
   "metadata": {},
   "outputs": [],
   "source": [
    "#Save the best ONNX model\n",
    "from azureml.automl.runtime.onnx_convert import OnnxConverter\n",
    "onnx_file_path = \"./saad_onnx_model.onnx\"\n",
    "OnnxConverter.save_onnx_model(onnx_model, onnx_file_path)"
   ]
  },
  {
   "cell_type": "code",
   "execution_count": 45,
   "metadata": {},
   "outputs": [],
   "source": [
    "#deleting the service as per requirement\n",
    "service.delete()"
   ]
  },
  {
   "cell_type": "code",
   "execution_count": null,
   "metadata": {},
   "outputs": [],
   "source": []
  }
 ],
 "metadata": {
  "kernel_info": {
   "name": "python3-azureml"
  },
  "kernelspec": {
   "display_name": "Python 3",
   "language": "python",
   "name": "python3"
  },
  "language_info": {
   "codemirror_mode": {
    "name": "ipython",
    "version": 3
   },
   "file_extension": ".py",
   "mimetype": "text/x-python",
   "name": "python",
   "nbconvert_exporter": "python",
   "pygments_lexer": "ipython3",
   "version": "3.6.9"
  },
  "nteract": {
   "version": "nteract-front-end@1.0.0"
  }
 },
 "nbformat": 4,
 "nbformat_minor": 4
}
